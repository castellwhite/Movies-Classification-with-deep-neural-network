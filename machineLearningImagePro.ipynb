{
  "nbformat": 4,
  "nbformat_minor": 0,
  "metadata": {
    "colab": {
      "name": "machineLearningImagePro.ipynb",
      "version": "0.3.2",
      "views": {},
      "default_view": {},
      "provenance": [
        {
          "file_id": "https://github.com/castellwhite/MoviesClassification/blob/master/ImgRFModel.ipynb",
          "timestamp": 1532202750978
        }
      ],
      "collapsed_sections": []
    },
    "kernelspec": {
      "display_name": "Python 3",
      "language": "python",
      "name": "python3"
    },
    "accelerator": "GPU"
  },
  "cells": [
    {
      "metadata": {
        "id": "upa5WLRoYwdI",
        "colab_type": "text"
      },
      "cell_type": "markdown",
      "source": [
        "<h2>\n",
        "# Movies Classification Project\n",
        "</center></h4> <h4>\n",
        " <img src=\"http://usblogs.pwc.com/emerging-technology/wp-content/uploads/2017/07/deep-learning-900x280.png\" >\n",
        "\n",
        "\n",
        "# Machine Learning Image\n",
        "\n",
        "</h4>\n",
        "\n",
        "Developed by [Sergio Castelblanco](http://www.linkedin.com/in/sergio-castelblanco/) - [Jesus Solano](http://www.jesussolano.com)\n",
        "\n",
        "Andes University\n",
        "\n",
        "version 2.1, July 9 2018"
      ]
    },
    {
      "metadata": {
        "id": "BEYmQ1TEafPC",
        "colab_type": "code",
        "colab": {
          "autoexec": {
            "startup": false,
            "wait_interval": 0
          },
          "base_uri": "https://localhost:8080/",
          "height": 752
        },
        "outputId": "5ce8b2c6-d637-4938-9c06-02cd1da7f276",
        "executionInfo": {
          "status": "ok",
          "timestamp": 1532207393940,
          "user_tz": 300,
          "elapsed": 7764,
          "user": {
            "displayName": "Jesus Solano",
            "photoUrl": "https://lh3.googleusercontent.com/a/default-user=s128",
            "userId": "111266076568687218605"
          }
        }
      },
      "cell_type": "code",
      "source": [
        "!pip install tqdm\n",
        "!pip install livelossplot"
      ],
      "execution_count": 30,
      "outputs": [
        {
          "output_type": "stream",
          "text": [
            "Requirement already satisfied: tqdm in /usr/local/lib/python3.6/dist-packages (4.23.4)\n",
            "Requirement already satisfied: livelossplot in /usr/local/lib/python3.6/dist-packages (0.2.0)\n",
            "Requirement already satisfied: notebook in /usr/local/lib/python3.6/dist-packages (from livelossplot) (5.2.2)\n",
            "Requirement already satisfied: matplotlib in /usr/local/lib/python3.6/dist-packages (from livelossplot) (2.1.2)\n",
            "Requirement already satisfied: jupyter-client in /usr/local/lib/python3.6/dist-packages (from notebook->livelossplot) (5.2.3)\n",
            "Requirement already satisfied: nbformat in /usr/local/lib/python3.6/dist-packages (from notebook->livelossplot) (4.4.0)\n",
            "Requirement already satisfied: jinja2 in /usr/local/lib/python3.6/dist-packages (from notebook->livelossplot) (2.10)\n",
            "Requirement already satisfied: tornado>=4 in /usr/local/lib/python3.6/dist-packages (from notebook->livelossplot) (4.5.3)\n",
            "Requirement already satisfied: terminado>=0.3.3; sys_platform != \"win32\" in /usr/local/lib/python3.6/dist-packages (from notebook->livelossplot) (0.8.1)\n",
            "Requirement already satisfied: nbconvert in /usr/local/lib/python3.6/dist-packages (from notebook->livelossplot) (5.3.1)\n",
            "Requirement already satisfied: ipython-genutils in /usr/local/lib/python3.6/dist-packages (from notebook->livelossplot) (0.2.0)\n",
            "Requirement already satisfied: jupyter-core in /usr/local/lib/python3.6/dist-packages (from notebook->livelossplot) (4.4.0)\n",
            "Requirement already satisfied: ipykernel in /usr/local/lib/python3.6/dist-packages (from notebook->livelossplot) (4.6.1)\n",
            "Requirement already satisfied: traitlets>=4.2.1 in /usr/local/lib/python3.6/dist-packages (from notebook->livelossplot) (4.3.2)\n",
            "Requirement already satisfied: cycler>=0.10 in /usr/local/lib/python3.6/dist-packages (from matplotlib->livelossplot) (0.10.0)\n",
            "Requirement already satisfied: pytz in /usr/local/lib/python3.6/dist-packages (from matplotlib->livelossplot) (2018.5)\n",
            "Requirement already satisfied: pyparsing!=2.0.4,!=2.1.2,!=2.1.6,>=2.0.1 in /usr/local/lib/python3.6/dist-packages (from matplotlib->livelossplot) (2.2.0)\n",
            "Requirement already satisfied: python-dateutil>=2.1 in /usr/local/lib/python3.6/dist-packages (from matplotlib->livelossplot) (2.5.3)\n",
            "Requirement already satisfied: six>=1.10 in /usr/local/lib/python3.6/dist-packages (from matplotlib->livelossplot) (1.11.0)\n",
            "Requirement already satisfied: numpy>=1.7.1 in /usr/local/lib/python3.6/dist-packages (from matplotlib->livelossplot) (1.14.5)\n",
            "Requirement already satisfied: pyzmq>=13 in /usr/local/lib/python3.6/dist-packages (from jupyter-client->notebook->livelossplot) (16.0.4)\n",
            "Requirement already satisfied: jsonschema!=2.5.0,>=2.4 in /usr/local/lib/python3.6/dist-packages (from nbformat->notebook->livelossplot) (2.6.0)\n",
            "Requirement already satisfied: MarkupSafe>=0.23 in /usr/local/lib/python3.6/dist-packages (from jinja2->notebook->livelossplot) (1.0)\n",
            "Requirement already satisfied: ptyprocess; os_name != \"nt\" in /usr/local/lib/python3.6/dist-packages (from terminado>=0.3.3; sys_platform != \"win32\"->notebook->livelossplot) (0.6.0)\n",
            "Requirement already satisfied: testpath in /usr/local/lib/python3.6/dist-packages (from nbconvert->notebook->livelossplot) (0.3.1)\n",
            "Requirement already satisfied: pandocfilters>=1.4.1 in /usr/local/lib/python3.6/dist-packages (from nbconvert->notebook->livelossplot) (1.4.2)\n",
            "Requirement already satisfied: entrypoints>=0.2.2 in /usr/local/lib/python3.6/dist-packages (from nbconvert->notebook->livelossplot) (0.2.3)\n",
            "Requirement already satisfied: bleach in /usr/local/lib/python3.6/dist-packages (from nbconvert->notebook->livelossplot) (2.1.3)\n",
            "Requirement already satisfied: mistune>=0.7.4 in /usr/local/lib/python3.6/dist-packages (from nbconvert->notebook->livelossplot) (0.8.3)\n",
            "Requirement already satisfied: pygments in /usr/local/lib/python3.6/dist-packages (from nbconvert->notebook->livelossplot) (2.1.3)\n",
            "Requirement already satisfied: ipython>=4.0.0 in /usr/local/lib/python3.6/dist-packages (from ipykernel->notebook->livelossplot) (5.5.0)\n",
            "Requirement already satisfied: decorator in /usr/local/lib/python3.6/dist-packages (from traitlets>=4.2.1->notebook->livelossplot) (4.3.0)\n",
            "Requirement already satisfied: html5lib!=1.0b1,!=1.0b2,!=1.0b3,!=1.0b4,!=1.0b5,!=1.0b6,!=1.0b7,!=1.0b8,>=0.99999999pre in /usr/local/lib/python3.6/dist-packages (from bleach->nbconvert->notebook->livelossplot) (1.0.1)\n",
            "Requirement already satisfied: pexpect; sys_platform != \"win32\" in /usr/local/lib/python3.6/dist-packages (from ipython>=4.0.0->ipykernel->notebook->livelossplot) (4.6.0)\n",
            "Requirement already satisfied: setuptools>=18.5 in /usr/local/lib/python3.6/dist-packages (from ipython>=4.0.0->ipykernel->notebook->livelossplot) (39.1.0)\n",
            "Requirement already satisfied: prompt-toolkit<2.0.0,>=1.0.4 in /usr/local/lib/python3.6/dist-packages (from ipython>=4.0.0->ipykernel->notebook->livelossplot) (1.0.15)\n",
            "Requirement already satisfied: simplegeneric>0.8 in /usr/local/lib/python3.6/dist-packages (from ipython>=4.0.0->ipykernel->notebook->livelossplot) (0.8.1)\n",
            "Requirement already satisfied: pickleshare in /usr/local/lib/python3.6/dist-packages (from ipython>=4.0.0->ipykernel->notebook->livelossplot) (0.7.4)\n",
            "Requirement already satisfied: webencodings in /usr/local/lib/python3.6/dist-packages (from html5lib!=1.0b1,!=1.0b2,!=1.0b3,!=1.0b4,!=1.0b5,!=1.0b6,!=1.0b7,!=1.0b8,>=0.99999999pre->bleach->nbconvert->notebook->livelossplot) (0.5.1)\n",
            "Requirement already satisfied: wcwidth in /usr/local/lib/python3.6/dist-packages (from prompt-toolkit<2.0.0,>=1.0.4->ipython>=4.0.0->ipykernel->notebook->livelossplot) (0.1.7)\n"
          ],
          "name": "stdout"
        }
      ]
    },
    {
      "metadata": {
        "id": "jhKCAKD5YwdK",
        "colab_type": "code",
        "colab": {
          "autoexec": {
            "startup": false,
            "wait_interval": 0
          }
        }
      },
      "cell_type": "code",
      "source": [
        "import pandas as pd\n",
        "import os\n",
        "import numpy as np\n",
        "from sklearn.preprocessing import MultiLabelBinarizer\n",
        "from sklearn.multiclass import OneVsRestClassifier\n",
        "from sklearn.ensemble import RandomForestRegressor, RandomForestClassifier\n",
        "from sklearn.metrics import r2_score, roc_auc_score\n",
        "from sklearn.model_selection import train_test_split\n",
        "from sklearn.decomposition import PCA\n",
        "import matplotlib.pyplot as plt\n",
        "from skimage import io\n",
        "from tqdm import tqdm\n",
        "import os\n",
        "%matplotlib inline"
      ],
      "execution_count": 0,
      "outputs": []
    },
    {
      "metadata": {
        "id": "sWWWzImUYwdO",
        "colab_type": "text"
      },
      "cell_type": "markdown",
      "source": [
        "# Read Data"
      ]
    },
    {
      "metadata": {
        "id": "rEY2WhO7YwdR",
        "colab_type": "code",
        "colab": {
          "autoexec": {
            "startup": false,
            "wait_interval": 0
          }
        }
      },
      "cell_type": "code",
      "source": [
        "# Creates dataframes for images indices.\n",
        "\n",
        "dataTraining = pd.read_csv(\"dataTraining.csv\",index_col=0)\n",
        "dataTesting = pd.read_csv(\"dataTesting.csv\",index_col=0)"
      ],
      "execution_count": 0,
      "outputs": []
    },
    {
      "metadata": {
        "id": "5f_sjXFRYwdT",
        "colab_type": "code",
        "colab": {
          "autoexec": {
            "startup": false,
            "wait_interval": 0
          },
          "base_uri": "https://localhost:8080/",
          "height": 206
        },
        "outputId": "3bfd7ba4-c11b-4608-9670-2c2c9246c1ba",
        "executionInfo": {
          "status": "ok",
          "timestamp": 1532209209596,
          "user_tz": 300,
          "elapsed": 412,
          "user": {
            "displayName": "Jesus Solano",
            "photoUrl": "https://lh3.googleusercontent.com/a/default-user=s128",
            "userId": "111266076568687218605"
          }
        }
      },
      "cell_type": "code",
      "source": [
        "dataTraining.head()"
      ],
      "execution_count": 45,
      "outputs": [
        {
          "output_type": "execute_result",
          "data": {
            "text/html": [
              "<div>\n",
              "<style scoped>\n",
              "    .dataframe tbody tr th:only-of-type {\n",
              "        vertical-align: middle;\n",
              "    }\n",
              "\n",
              "    .dataframe tbody tr th {\n",
              "        vertical-align: top;\n",
              "    }\n",
              "\n",
              "    .dataframe thead th {\n",
              "        text-align: right;\n",
              "    }\n",
              "</style>\n",
              "<table border=\"1\" class=\"dataframe\">\n",
              "  <thead>\n",
              "    <tr style=\"text-align: right;\">\n",
              "      <th></th>\n",
              "      <th>year</th>\n",
              "      <th>title</th>\n",
              "      <th>plot</th>\n",
              "      <th>genres</th>\n",
              "      <th>rating</th>\n",
              "    </tr>\n",
              "  </thead>\n",
              "  <tbody>\n",
              "    <tr>\n",
              "      <th>3107</th>\n",
              "      <td>2003</td>\n",
              "      <td>Most</td>\n",
              "      <td>most is the story of a single father who takes...</td>\n",
              "      <td>['Short', 'Drama']</td>\n",
              "      <td>8.0</td>\n",
              "    </tr>\n",
              "    <tr>\n",
              "      <th>900</th>\n",
              "      <td>2008</td>\n",
              "      <td>How to Be a Serial Killer</td>\n",
              "      <td>a serial killer decides to teach the secrets o...</td>\n",
              "      <td>['Comedy', 'Crime', 'Horror']</td>\n",
              "      <td>5.6</td>\n",
              "    </tr>\n",
              "    <tr>\n",
              "      <th>6724</th>\n",
              "      <td>1941</td>\n",
              "      <td>A Woman's Face</td>\n",
              "      <td>in sweden ,  a female blackmailer with a disfi...</td>\n",
              "      <td>['Drama', 'Film-Noir', 'Thriller']</td>\n",
              "      <td>7.2</td>\n",
              "    </tr>\n",
              "    <tr>\n",
              "      <th>4704</th>\n",
              "      <td>1954</td>\n",
              "      <td>Executive Suite</td>\n",
              "      <td>in a friday afternoon in new york ,  the presi...</td>\n",
              "      <td>['Drama']</td>\n",
              "      <td>7.4</td>\n",
              "    </tr>\n",
              "    <tr>\n",
              "      <th>2582</th>\n",
              "      <td>1990</td>\n",
              "      <td>Narrow Margin</td>\n",
              "      <td>in los angeles ,  the editor of a publishing h...</td>\n",
              "      <td>['Action', 'Crime', 'Thriller']</td>\n",
              "      <td>6.6</td>\n",
              "    </tr>\n",
              "  </tbody>\n",
              "</table>\n",
              "</div>"
            ],
            "text/plain": [
              "      year                      title  \\\n",
              "3107  2003                       Most   \n",
              "900   2008  How to Be a Serial Killer   \n",
              "6724  1941             A Woman's Face   \n",
              "4704  1954            Executive Suite   \n",
              "2582  1990              Narrow Margin   \n",
              "\n",
              "                                                   plot  \\\n",
              "3107  most is the story of a single father who takes...   \n",
              "900   a serial killer decides to teach the secrets o...   \n",
              "6724  in sweden ,  a female blackmailer with a disfi...   \n",
              "4704  in a friday afternoon in new york ,  the presi...   \n",
              "2582  in los angeles ,  the editor of a publishing h...   \n",
              "\n",
              "                                  genres  rating  \n",
              "3107                  ['Short', 'Drama']     8.0  \n",
              "900        ['Comedy', 'Crime', 'Horror']     5.6  \n",
              "6724  ['Drama', 'Film-Noir', 'Thriller']     7.2  \n",
              "4704                           ['Drama']     7.4  \n",
              "2582     ['Action', 'Crime', 'Thriller']     6.6  "
            ]
          },
          "metadata": {
            "tags": []
          },
          "execution_count": 45
        }
      ]
    },
    {
      "metadata": {
        "id": "A-I0t0arYwdZ",
        "colab_type": "code",
        "colab": {
          "autoexec": {
            "startup": false,
            "wait_interval": 0
          },
          "base_uri": "https://localhost:8080/",
          "height": 206
        },
        "outputId": "e3e0cfe1-42f3-4e41-d87b-1e60c092202a",
        "executionInfo": {
          "status": "ok",
          "timestamp": 1532209211156,
          "user_tz": 300,
          "elapsed": 392,
          "user": {
            "displayName": "Jesus Solano",
            "photoUrl": "https://lh3.googleusercontent.com/a/default-user=s128",
            "userId": "111266076568687218605"
          }
        }
      },
      "cell_type": "code",
      "source": [
        "dataTesting.head()"
      ],
      "execution_count": 46,
      "outputs": [
        {
          "output_type": "execute_result",
          "data": {
            "text/html": [
              "<div>\n",
              "<style scoped>\n",
              "    .dataframe tbody tr th:only-of-type {\n",
              "        vertical-align: middle;\n",
              "    }\n",
              "\n",
              "    .dataframe tbody tr th {\n",
              "        vertical-align: top;\n",
              "    }\n",
              "\n",
              "    .dataframe thead th {\n",
              "        text-align: right;\n",
              "    }\n",
              "</style>\n",
              "<table border=\"1\" class=\"dataframe\">\n",
              "  <thead>\n",
              "    <tr style=\"text-align: right;\">\n",
              "      <th></th>\n",
              "      <th>year</th>\n",
              "      <th>title</th>\n",
              "      <th>plot</th>\n",
              "    </tr>\n",
              "  </thead>\n",
              "  <tbody>\n",
              "    <tr>\n",
              "      <th>1</th>\n",
              "      <td>1999</td>\n",
              "      <td>Message in a Bottle</td>\n",
              "      <td>who meets by fate ,  shall be sealed by fate ....</td>\n",
              "    </tr>\n",
              "    <tr>\n",
              "      <th>4</th>\n",
              "      <td>1978</td>\n",
              "      <td>Midnight Express</td>\n",
              "      <td>the true story of billy hayes ,  an american c...</td>\n",
              "    </tr>\n",
              "    <tr>\n",
              "      <th>5</th>\n",
              "      <td>1996</td>\n",
              "      <td>Primal Fear</td>\n",
              "      <td>martin vail left the chicago da ' s office to ...</td>\n",
              "    </tr>\n",
              "    <tr>\n",
              "      <th>6</th>\n",
              "      <td>1950</td>\n",
              "      <td>Crisis</td>\n",
              "      <td>husband and wife americans dr .  eugene and mr...</td>\n",
              "    </tr>\n",
              "    <tr>\n",
              "      <th>7</th>\n",
              "      <td>1959</td>\n",
              "      <td>The Tingler</td>\n",
              "      <td>the coroner and scientist dr .  warren chapin ...</td>\n",
              "    </tr>\n",
              "  </tbody>\n",
              "</table>\n",
              "</div>"
            ],
            "text/plain": [
              "   year                title  \\\n",
              "1  1999  Message in a Bottle   \n",
              "4  1978     Midnight Express   \n",
              "5  1996          Primal Fear   \n",
              "6  1950               Crisis   \n",
              "7  1959          The Tingler   \n",
              "\n",
              "                                                plot  \n",
              "1  who meets by fate ,  shall be sealed by fate ....  \n",
              "4  the true story of billy hayes ,  an american c...  \n",
              "5  martin vail left the chicago da ' s office to ...  \n",
              "6  husband and wife americans dr .  eugene and mr...  \n",
              "7  the coroner and scientist dr .  warren chapin ...  "
            ]
          },
          "metadata": {
            "tags": []
          },
          "execution_count": 46
        }
      ]
    },
    {
      "metadata": {
        "id": "hZH34KymYwdd",
        "colab_type": "text"
      },
      "cell_type": "markdown",
      "source": [
        "# Load Images"
      ]
    },
    {
      "metadata": {
        "id": "5WM-3d6LYwdq",
        "colab_type": "code",
        "colab": {
          "autoexec": {
            "startup": false,
            "wait_interval": 0
          },
          "base_uri": "https://localhost:8080/",
          "height": 124
        },
        "outputId": "27c4cd90-c0e8-432c-fdde-d6366b88c910",
        "executionInfo": {
          "status": "ok",
          "timestamp": 1532209224446,
          "user_tz": 300,
          "elapsed": 7810,
          "user": {
            "displayName": "Jesus Solano",
            "photoUrl": "https://lh3.googleusercontent.com/a/default-user=s128",
            "userId": "111266076568687218605"
          }
        }
      },
      "cell_type": "code",
      "source": [
        "# Load all grey images.\n",
        "\n",
        "print('\\nLoading images for traning...')\n",
        "\n",
        "trainingImagesGrey = []\n",
        "for i in tqdm(dataTraining.index):\n",
        "    trainingImagesGrey.append(io.imread(os.path.join('images_resize_gray', str(i) + '_resize_gray.jpeg')).flatten())\n",
        "    \n",
        "trainingImagesGrey = np.stack(trainingImagesGrey)\n",
        "\n",
        "print('\\nLoading images for testing...')\n",
        "\n",
        "testingImagesGrey = []\n",
        "for i in tqdm(dataTesting.index):\n",
        "    testingImagesGrey.append(io.imread(os.path.join('images_resize_gray', str(i) + '_resize_gray.jpeg')).flatten())\n",
        "\n",
        "testingImagesGrey = np.stack(images_testing)"
      ],
      "execution_count": 47,
      "outputs": [
        {
          "output_type": "stream",
          "text": [
            "  2%|▏         | 169/7895 [00:00<00:04, 1682.93it/s]"
          ],
          "name": "stderr"
        },
        {
          "output_type": "stream",
          "text": [
            "\n",
            "Loading images for traning...\n"
          ],
          "name": "stdout"
        },
        {
          "output_type": "stream",
          "text": [
            "100%|██████████| 7895/7895 [00:05<00:00, 1578.10it/s]\n",
            "  5%|▍         | 161/3383 [00:00<00:02, 1604.74it/s]"
          ],
          "name": "stderr"
        },
        {
          "output_type": "stream",
          "text": [
            "\n",
            "Loading images for testing...\n"
          ],
          "name": "stdout"
        },
        {
          "output_type": "stream",
          "text": [
            "100%|██████████| 3383/3383 [00:02<00:00, 1557.74it/s]\n"
          ],
          "name": "stderr"
        }
      ]
    },
    {
      "metadata": {
        "id": "IgZU7UGZYweF",
        "colab_type": "code",
        "colab": {
          "autoexec": {
            "startup": false,
            "wait_interval": 0
          }
        }
      },
      "cell_type": "code",
      "source": [
        "# Apply PCA to soft analysis.\n",
        "\n",
        "pca = PCA(n_components=32)\n",
        "\n",
        "trainingImagesGrey_pca = pca.fit_transform(trainingImagesGrey)\n",
        "testingImagesGrey_pca = pca.transform(testingImagesGrey)"
      ],
      "execution_count": 0,
      "outputs": []
    },
    {
      "metadata": {
        "id": "9XmpjbNEYweL",
        "colab_type": "code",
        "colab": {
          "autoexec": {
            "startup": false,
            "wait_interval": 0
          }
        }
      },
      "cell_type": "code",
      "source": [
        "# Get labels for each image. \n",
        "\n",
        "dataTraining['genres'] = dataTraining['genres'].map(lambda x: eval(x))\n",
        "le = MultiLabelBinarizer()\n",
        "yGenres = le.fit_transform(dataTraining['genres'])"
      ],
      "execution_count": 0,
      "outputs": []
    },
    {
      "metadata": {
        "id": "6GmXFAF5YweO",
        "colab_type": "code",
        "colab": {
          "autoexec": {
            "startup": false,
            "wait_interval": 0
          }
        }
      },
      "cell_type": "code",
      "source": [
        "# Creates datasets for training and testing.   \n",
        "xTrainImaGrey, xValidationImaGrey, yTrainImaGrey, yValidationImaGrey = train_test_split(trainingImagesGrey_pca, yGenres, test_size=0.33, random_state=22)"
      ],
      "execution_count": 0,
      "outputs": []
    },
    {
      "metadata": {
        "id": "scz9JWTdYweQ",
        "colab_type": "text"
      },
      "cell_type": "markdown",
      "source": [
        "# Machine Learning Models"
      ]
    },
    {
      "metadata": {
        "id": "GTjKmQcqrvfq",
        "colab_type": "text"
      },
      "cell_type": "markdown",
      "source": [
        "### Random Forest Classifier"
      ]
    },
    {
      "metadata": {
        "id": "iPTaHg-lYweR",
        "colab_type": "code",
        "colab": {
          "autoexec": {
            "startup": false,
            "wait_interval": 0
          },
          "base_uri": "https://localhost:8080/",
          "height": 142
        },
        "outputId": "117c949a-a951-490c-dba5-2eb87ae3ef00",
        "executionInfo": {
          "status": "ok",
          "timestamp": 1532209366402,
          "user_tz": 300,
          "elapsed": 47068,
          "user": {
            "displayName": "Jesus Solano",
            "photoUrl": "https://lh3.googleusercontent.com/a/default-user=s128",
            "userId": "111266076568687218605"
          }
        }
      },
      "cell_type": "code",
      "source": [
        "# Creates a random forest classifier. \n",
        "\n",
        "mcRandomIma = OneVsRestClassifier(RandomForestClassifier(n_jobs=-1, n_estimators=100, max_depth=20, random_state=22,verbose=0))\n",
        "\n",
        "# Train the model. \n",
        "\n",
        "mcRandomIma.fit(xTrainImaGrey,  yTrainImaGrey)"
      ],
      "execution_count": 51,
      "outputs": [
        {
          "output_type": "execute_result",
          "data": {
            "text/plain": [
              "OneVsRestClassifier(estimator=RandomForestClassifier(bootstrap=True, class_weight=None, criterion='gini',\n",
              "            max_depth=20, max_features='auto', max_leaf_nodes=None,\n",
              "            min_impurity_decrease=0.0, min_impurity_split=None,\n",
              "            min_samples_leaf=1, min_samples_split=2,\n",
              "            min_weight_fraction_leaf=0.0, n_estimators=100, n_jobs=-1,\n",
              "            oob_score=False, random_state=22, verbose=0, warm_start=False),\n",
              "          n_jobs=1)"
            ]
          },
          "metadata": {
            "tags": []
          },
          "execution_count": 51
        }
      ]
    },
    {
      "metadata": {
        "id": "jy4qrgIXYweX",
        "colab_type": "code",
        "colab": {
          "autoexec": {
            "startup": false,
            "wait_interval": 0
          },
          "base_uri": "https://localhost:8080/",
          "height": 35
        },
        "outputId": "8d6214ec-8410-4a55-b7d5-7994986282b9",
        "executionInfo": {
          "status": "ok",
          "timestamp": 1532209369482,
          "user_tz": 300,
          "elapsed": 3030,
          "user": {
            "displayName": "Jesus Solano",
            "photoUrl": "https://lh3.googleusercontent.com/a/default-user=s128",
            "userId": "111266076568687218605"
          }
        }
      },
      "cell_type": "code",
      "source": [
        "# Score the AUC over the test set. \n",
        "\n",
        "y_pred_genres = mcRandomIma.predict_proba(xValidationImaGrey)\n",
        "\n",
        "mcRandomIma_AUC=roc_auc_score(yValidationImaGrey, y_pred_genres, average='macro')\n",
        "\n",
        "print('Random Forest model score is: ' , mcRandomIma_AUC , 'AUC.')"
      ],
      "execution_count": 52,
      "outputs": [
        {
          "output_type": "stream",
          "text": [
            "Random Forest model score is:  0.5644510037930798 AUC.\n"
          ],
          "name": "stdout"
        }
      ]
    },
    {
      "metadata": {
        "id": "pbT_1SAKvwjc",
        "colab_type": "text"
      },
      "cell_type": "markdown",
      "source": [
        "### Gradient Boost Classifier"
      ]
    },
    {
      "metadata": {
        "id": "0_idz2U2vwjm",
        "colab_type": "code",
        "colab": {
          "autoexec": {
            "startup": false,
            "wait_interval": 0
          },
          "base_uri": "https://localhost:8080/",
          "height": 178
        },
        "outputId": "f2728f2a-1d97-4e8d-bd4a-cabe9dc0ba56",
        "executionInfo": {
          "status": "ok",
          "timestamp": 1532209742992,
          "user_tz": 300,
          "elapsed": 349248,
          "user": {
            "displayName": "Jesus Solano",
            "photoUrl": "https://lh3.googleusercontent.com/a/default-user=s128",
            "userId": "111266076568687218605"
          }
        }
      },
      "cell_type": "code",
      "source": [
        "from sklearn.ensemble import GradientBoostingClassifier\n",
        "\n",
        "# Creates a random forest classifier. \n",
        "\n",
        "mcGradientIma = OneVsRestClassifier(GradientBoostingClassifier(n_estimators=100, max_depth=20, random_state=22,verbose=0))\n",
        "\n",
        "# Train the model. \n",
        "\n",
        "mcGradientIma.fit(xTrainImaGrey,  yTrainImaGrey)"
      ],
      "execution_count": 54,
      "outputs": [
        {
          "output_type": "execute_result",
          "data": {
            "text/plain": [
              "OneVsRestClassifier(estimator=GradientBoostingClassifier(criterion='friedman_mse', init=None,\n",
              "              learning_rate=0.1, loss='deviance', max_depth=20,\n",
              "              max_features=None, max_leaf_nodes=None,\n",
              "              min_impurity_decrease=0.0, min_impurity_split=None,\n",
              "              min_samples_leaf=1, min_samples_split=2,\n",
              "              min_weight_fraction_leaf=0.0, n_estimators=100,\n",
              "              presort='auto', random_state=22, subsample=1.0, verbose=0,\n",
              "              warm_start=False),\n",
              "          n_jobs=1)"
            ]
          },
          "metadata": {
            "tags": []
          },
          "execution_count": 54
        }
      ]
    },
    {
      "metadata": {
        "id": "Ja7RwNm6vwjw",
        "colab_type": "code",
        "colab": {
          "autoexec": {
            "startup": false,
            "wait_interval": 0
          },
          "base_uri": "https://localhost:8080/",
          "height": 35
        },
        "outputId": "958d68b1-9aba-4c0a-fb45-c5043663c7d8",
        "executionInfo": {
          "status": "ok",
          "timestamp": 1532209744412,
          "user_tz": 300,
          "elapsed": 1362,
          "user": {
            "displayName": "Jesus Solano",
            "photoUrl": "https://lh3.googleusercontent.com/a/default-user=s128",
            "userId": "111266076568687218605"
          }
        }
      },
      "cell_type": "code",
      "source": [
        "# Score the AUC over the test set. \n",
        "\n",
        "y_pred_genres = mcGradientIma.predict_proba(xValidationImaGrey)\n",
        "\n",
        "mcGradientIma_AUC=roc_auc_score(yValidationImaGrey, y_pred_genres, average='macro')\n",
        "\n",
        "print('Random Forest model score is: ' , mcGradientIma_AUC , 'AUC.')"
      ],
      "execution_count": 55,
      "outputs": [
        {
          "output_type": "stream",
          "text": [
            "Random Forest model score is:  0.5615014890922809 AUC.\n"
          ],
          "name": "stdout"
        }
      ]
    },
    {
      "metadata": {
        "id": "5QtRn-STYweg",
        "colab_type": "text"
      },
      "cell_type": "markdown",
      "source": [
        "# Apply models to test"
      ]
    },
    {
      "metadata": {
        "id": "Yuo-QJrZYweh",
        "colab_type": "code",
        "colab": {
          "autoexec": {
            "startup": false,
            "wait_interval": 0
          }
        }
      },
      "cell_type": "code",
      "source": [
        "# Print prediction for test (kaggle) data. \n",
        "\n",
        "yPredTest = mcRandomIma.predict_proba(testingImagesGrey_pca)\n",
        "\n",
        "cols = ['p_Action', 'p_Adventure', 'p_Animation', 'p_Biography', 'p_Comedy', 'p_Crime', 'p_Documentary', 'p_Drama', 'p_Family',\n",
        "        'p_Fantasy', 'p_Film-Noir', 'p_History', 'p_Horror', 'p_Music', 'p_Musical', 'p_Mystery', 'p_News', 'p_Romance',\n",
        "        'p_Sci-Fi', 'p_Short', 'p_Sport', 'p_Thriller', 'p_War', 'p_Western']\n",
        "\n",
        "pd.DataFrame(yPredTest, index=dataTesting.index, columns=cols).to_csv('pred_genres_RF_img.csv', index_label='ID')\n",
        "\n",
        "print('Results were printed.')"
      ],
      "execution_count": 0,
      "outputs": []
    },
    {
      "metadata": {
        "id": "1sfD4vRdYwej",
        "colab_type": "code",
        "colab": {
          "autoexec": {
            "startup": false,
            "wait_interval": 0
          }
        }
      },
      "cell_type": "code",
      "source": [
        ""
      ],
      "execution_count": 0,
      "outputs": []
    }
  ]
}
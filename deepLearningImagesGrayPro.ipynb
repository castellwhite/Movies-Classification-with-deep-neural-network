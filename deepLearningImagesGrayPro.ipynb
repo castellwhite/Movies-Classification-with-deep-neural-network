{
  "nbformat": 4,
  "nbformat_minor": 0,
  "metadata": {
    "colab": {
      "name": "deepLearningImagesGrayPro.ipynb",
      "version": "0.3.2",
      "views": {},
      "default_view": {},
      "provenance": [
        {
          "file_id": "https://github.com/castellwhite/MoviesClassification/blob/master/imagesConvolutionalNN.ipynb",
          "timestamp": 1531860157024
        }
      ],
      "collapsed_sections": []
    },
    "kernelspec": {
      "display_name": "Python 3",
      "language": "python",
      "name": "python3"
    },
    "accelerator": "GPU"
  },
  "cells": [
    {
      "metadata": {
        "id": "lSfs6lpO3HA0",
        "colab_type": "text"
      },
      "cell_type": "markdown",
      "source": [
        "\n",
        "# Movies Classification Project\n",
        "\n",
        " <img src=\"http://usblogs.pwc.com/emerging-technology/wp-content/uploads/2017/07/deep-learning-900x280.png\" >\n",
        "\n",
        "\n",
        "# Deep Learning - Gray Images\n",
        "\n",
        "\n",
        "Developed by [Sergio Castelblanco](http://www.linkedin.com/in/sergio-castelblanco/) - [Jesus Solano](http://www.jesussolano.com)\n",
        "\n",
        "Andes University\n",
        "\n",
        "version 2.1, July 9 2018"
      ]
    },
    {
      "metadata": {
        "id": "Ne1Z5Nx-3HA3",
        "colab_type": "code",
        "colab": {
          "autoexec": {
            "startup": false,
            "wait_interval": 0
          },
          "base_uri": "https://localhost:8080/",
          "height": 34
        },
        "outputId": "bfa02e04-9f8c-4e7f-bb5f-1fd59ce85c9a",
        "executionInfo": {
          "status": "ok",
          "timestamp": 1532303469549,
          "user_tz": 300,
          "elapsed": 3175,
          "user": {
            "displayName": "Jesus Solano",
            "photoUrl": "https://lh3.googleusercontent.com/a/default-user=s128",
            "userId": "111266076568687218605"
          }
        }
      },
      "cell_type": "code",
      "source": [
        "import pandas as pd\n",
        "import os\n",
        "import numpy as np\n",
        "from sklearn.preprocessing import MultiLabelBinarizer\n",
        "from sklearn.metrics import r2_score, roc_auc_score\n",
        "from sklearn.model_selection import train_test_split\n",
        "import matplotlib.pyplot as plt\n",
        "from skimage import io\n",
        "from tqdm import tqdm\n",
        "import livelossplot\n",
        "%matplotlib inline"
      ],
      "execution_count": 1,
      "outputs": [
        {
          "output_type": "stream",
          "text": [
            "Using TensorFlow backend.\n"
          ],
          "name": "stderr"
        }
      ]
    },
    {
      "metadata": {
        "id": "KD7-6y893HA6",
        "colab_type": "text"
      },
      "cell_type": "markdown",
      "source": [
        "# Read Data"
      ]
    },
    {
      "metadata": {
        "id": "ZoVepxie3HA9",
        "colab_type": "code",
        "colab": {
          "autoexec": {
            "startup": false,
            "wait_interval": 0
          }
        }
      },
      "cell_type": "code",
      "source": [
        "# If datasets already exist do nothing. \n",
        "\n",
        "if not os.path.exists('dataTesting.csv'):\n",
        "  ! wget https://raw.githubusercontent.com/castellwhite/MoviesClassification/master/datasets/dataTesting.csv\n",
        "    \n",
        "if not os.path.exists('dataTraining.csv'):\n",
        "  ! wget https://raw.githubusercontent.com/castellwhite/MoviesClassification/master/datasets/dataTraining.csv\n",
        "    \n",
        "\n",
        "if not os.path.exists('images_resize_gray.zip'):\n",
        "  # Install the PyDrive wrapper & import libraries.\n",
        "  # This only needs to be done once per notebook.\n",
        "  !pip install -U -q PyDrive\n",
        "  from pydrive.auth import GoogleAuth\n",
        "  from pydrive.drive import GoogleDrive\n",
        "  from google.colab import auth\n",
        "  from oauth2client.client import GoogleCredentials\n",
        "\n",
        "  # Authenticate and create the PyDrive client.\n",
        "  # This only needs to be done once per notebook.\n",
        "  auth.authenticate_user()\n",
        "  gauth = GoogleAuth()\n",
        "  gauth.credentials = GoogleCredentials.get_application_default()\n",
        "  drive = GoogleDrive(gauth)\n",
        "\n",
        "  # Download a file based on its file ID(Grey).\n",
        "  #\n",
        "  # A file ID looks like: laggVyWshwcyP6kEI-y_W3P8D26sz\n",
        "  file_id = '1ZzSvFeCsLVW4hPWqyf6jW0rAvyQt1L7J'\n",
        "  downloaded = drive.CreateFile({'id': file_id})\n",
        "  downloaded.GetContentFile(downloaded['title'])\n",
        "  !unzip -q images_resize_gray.zip \n",
        "\n",
        "dataTraining = pd.read_csv(\"dataTraining.csv\",index_col=0)\n",
        "dataTesting = pd.read_csv(\"dataTesting.csv\",index_col=0)"
      ],
      "execution_count": 0,
      "outputs": []
    },
    {
      "metadata": {
        "id": "WJmtKSAuM_27",
        "colab_type": "code",
        "colab": {
          "autoexec": {
            "startup": false,
            "wait_interval": 0
          },
          "base_uri": "https://localhost:8080/",
          "height": 52
        },
        "outputId": "a13b55e5-3b3b-4160-c099-9eb57c9ddb0b",
        "executionInfo": {
          "status": "ok",
          "timestamp": 1532303475034,
          "user_tz": 300,
          "elapsed": 1735,
          "user": {
            "displayName": "Jesus Solano",
            "photoUrl": "https://lh3.googleusercontent.com/a/default-user=s128",
            "userId": "111266076568687218605"
          }
        }
      },
      "cell_type": "code",
      "source": [
        "! ls"
      ],
      "execution_count": 3,
      "outputs": [
        {
          "output_type": "stream",
          "text": [
            "datalab\t\t dataTraining.csv    images_resize_gray.zip\r\n",
            "dataTesting.csv  images_resize_gray\r\n"
          ],
          "name": "stdout"
        }
      ]
    },
    {
      "metadata": {
        "id": "0T_9hhJ93HBA",
        "colab_type": "code",
        "colab": {
          "autoexec": {
            "startup": false,
            "wait_interval": 0
          },
          "base_uri": "https://localhost:8080/",
          "height": 206
        },
        "outputId": "68b1b013-d3de-4667-a8a5-890a5c5bc092",
        "executionInfo": {
          "status": "ok",
          "timestamp": 1532303476448,
          "user_tz": 300,
          "elapsed": 806,
          "user": {
            "displayName": "Jesus Solano",
            "photoUrl": "https://lh3.googleusercontent.com/a/default-user=s128",
            "userId": "111266076568687218605"
          }
        }
      },
      "cell_type": "code",
      "source": [
        "dataTraining.head()"
      ],
      "execution_count": 4,
      "outputs": [
        {
          "output_type": "execute_result",
          "data": {
            "text/html": [
              "<div>\n",
              "<style scoped>\n",
              "    .dataframe tbody tr th:only-of-type {\n",
              "        vertical-align: middle;\n",
              "    }\n",
              "\n",
              "    .dataframe tbody tr th {\n",
              "        vertical-align: top;\n",
              "    }\n",
              "\n",
              "    .dataframe thead th {\n",
              "        text-align: right;\n",
              "    }\n",
              "</style>\n",
              "<table border=\"1\" class=\"dataframe\">\n",
              "  <thead>\n",
              "    <tr style=\"text-align: right;\">\n",
              "      <th></th>\n",
              "      <th>year</th>\n",
              "      <th>title</th>\n",
              "      <th>plot</th>\n",
              "      <th>genres</th>\n",
              "      <th>rating</th>\n",
              "    </tr>\n",
              "  </thead>\n",
              "  <tbody>\n",
              "    <tr>\n",
              "      <th>3107</th>\n",
              "      <td>2003</td>\n",
              "      <td>Most</td>\n",
              "      <td>most is the story of a single father who takes...</td>\n",
              "      <td>['Short', 'Drama']</td>\n",
              "      <td>8.0</td>\n",
              "    </tr>\n",
              "    <tr>\n",
              "      <th>900</th>\n",
              "      <td>2008</td>\n",
              "      <td>How to Be a Serial Killer</td>\n",
              "      <td>a serial killer decides to teach the secrets o...</td>\n",
              "      <td>['Comedy', 'Crime', 'Horror']</td>\n",
              "      <td>5.6</td>\n",
              "    </tr>\n",
              "    <tr>\n",
              "      <th>6724</th>\n",
              "      <td>1941</td>\n",
              "      <td>A Woman's Face</td>\n",
              "      <td>in sweden ,  a female blackmailer with a disfi...</td>\n",
              "      <td>['Drama', 'Film-Noir', 'Thriller']</td>\n",
              "      <td>7.2</td>\n",
              "    </tr>\n",
              "    <tr>\n",
              "      <th>4704</th>\n",
              "      <td>1954</td>\n",
              "      <td>Executive Suite</td>\n",
              "      <td>in a friday afternoon in new york ,  the presi...</td>\n",
              "      <td>['Drama']</td>\n",
              "      <td>7.4</td>\n",
              "    </tr>\n",
              "    <tr>\n",
              "      <th>2582</th>\n",
              "      <td>1990</td>\n",
              "      <td>Narrow Margin</td>\n",
              "      <td>in los angeles ,  the editor of a publishing h...</td>\n",
              "      <td>['Action', 'Crime', 'Thriller']</td>\n",
              "      <td>6.6</td>\n",
              "    </tr>\n",
              "  </tbody>\n",
              "</table>\n",
              "</div>"
            ],
            "text/plain": [
              "      year                      title  \\\n",
              "3107  2003                       Most   \n",
              "900   2008  How to Be a Serial Killer   \n",
              "6724  1941             A Woman's Face   \n",
              "4704  1954            Executive Suite   \n",
              "2582  1990              Narrow Margin   \n",
              "\n",
              "                                                   plot  \\\n",
              "3107  most is the story of a single father who takes...   \n",
              "900   a serial killer decides to teach the secrets o...   \n",
              "6724  in sweden ,  a female blackmailer with a disfi...   \n",
              "4704  in a friday afternoon in new york ,  the presi...   \n",
              "2582  in los angeles ,  the editor of a publishing h...   \n",
              "\n",
              "                                  genres  rating  \n",
              "3107                  ['Short', 'Drama']     8.0  \n",
              "900        ['Comedy', 'Crime', 'Horror']     5.6  \n",
              "6724  ['Drama', 'Film-Noir', 'Thriller']     7.2  \n",
              "4704                           ['Drama']     7.4  \n",
              "2582     ['Action', 'Crime', 'Thriller']     6.6  "
            ]
          },
          "metadata": {
            "tags": []
          },
          "execution_count": 4
        }
      ]
    },
    {
      "metadata": {
        "id": "P7XA3oZ03HBF",
        "colab_type": "code",
        "colab": {
          "autoexec": {
            "startup": false,
            "wait_interval": 0
          },
          "base_uri": "https://localhost:8080/",
          "height": 206
        },
        "outputId": "85b2b171-1d4a-4157-caa5-b3913806dcff",
        "executionInfo": {
          "status": "ok",
          "timestamp": 1532303477768,
          "user_tz": 300,
          "elapsed": 557,
          "user": {
            "displayName": "Jesus Solano",
            "photoUrl": "https://lh3.googleusercontent.com/a/default-user=s128",
            "userId": "111266076568687218605"
          }
        }
      },
      "cell_type": "code",
      "source": [
        "dataTesting.head()"
      ],
      "execution_count": 5,
      "outputs": [
        {
          "output_type": "execute_result",
          "data": {
            "text/html": [
              "<div>\n",
              "<style scoped>\n",
              "    .dataframe tbody tr th:only-of-type {\n",
              "        vertical-align: middle;\n",
              "    }\n",
              "\n",
              "    .dataframe tbody tr th {\n",
              "        vertical-align: top;\n",
              "    }\n",
              "\n",
              "    .dataframe thead th {\n",
              "        text-align: right;\n",
              "    }\n",
              "</style>\n",
              "<table border=\"1\" class=\"dataframe\">\n",
              "  <thead>\n",
              "    <tr style=\"text-align: right;\">\n",
              "      <th></th>\n",
              "      <th>year</th>\n",
              "      <th>title</th>\n",
              "      <th>plot</th>\n",
              "    </tr>\n",
              "  </thead>\n",
              "  <tbody>\n",
              "    <tr>\n",
              "      <th>1</th>\n",
              "      <td>1999</td>\n",
              "      <td>Message in a Bottle</td>\n",
              "      <td>who meets by fate ,  shall be sealed by fate ....</td>\n",
              "    </tr>\n",
              "    <tr>\n",
              "      <th>4</th>\n",
              "      <td>1978</td>\n",
              "      <td>Midnight Express</td>\n",
              "      <td>the true story of billy hayes ,  an american c...</td>\n",
              "    </tr>\n",
              "    <tr>\n",
              "      <th>5</th>\n",
              "      <td>1996</td>\n",
              "      <td>Primal Fear</td>\n",
              "      <td>martin vail left the chicago da ' s office to ...</td>\n",
              "    </tr>\n",
              "    <tr>\n",
              "      <th>6</th>\n",
              "      <td>1950</td>\n",
              "      <td>Crisis</td>\n",
              "      <td>husband and wife americans dr .  eugene and mr...</td>\n",
              "    </tr>\n",
              "    <tr>\n",
              "      <th>7</th>\n",
              "      <td>1959</td>\n",
              "      <td>The Tingler</td>\n",
              "      <td>the coroner and scientist dr .  warren chapin ...</td>\n",
              "    </tr>\n",
              "  </tbody>\n",
              "</table>\n",
              "</div>"
            ],
            "text/plain": [
              "   year                title  \\\n",
              "1  1999  Message in a Bottle   \n",
              "4  1978     Midnight Express   \n",
              "5  1996          Primal Fear   \n",
              "6  1950               Crisis   \n",
              "7  1959          The Tingler   \n",
              "\n",
              "                                                plot  \n",
              "1  who meets by fate ,  shall be sealed by fate ....  \n",
              "4  the true story of billy hayes ,  an american c...  \n",
              "5  martin vail left the chicago da ' s office to ...  \n",
              "6  husband and wife americans dr .  eugene and mr...  \n",
              "7  the coroner and scientist dr .  warren chapin ...  "
            ]
          },
          "metadata": {
            "tags": []
          },
          "execution_count": 5
        }
      ]
    },
    {
      "metadata": {
        "id": "4CMUPs6h3HBI",
        "colab_type": "text"
      },
      "cell_type": "markdown",
      "source": [
        "# Read Images"
      ]
    },
    {
      "metadata": {
        "id": "FRTkgJOA3HBK",
        "colab_type": "code",
        "colab": {
          "autoexec": {
            "startup": false,
            "wait_interval": 0
          },
          "base_uri": "https://localhost:8080/",
          "height": 286
        },
        "outputId": "574b9fb7-3529-4b94-d71e-c33e4c2d57a0",
        "executionInfo": {
          "status": "ok",
          "timestamp": 1532303479621,
          "user_tz": 300,
          "elapsed": 983,
          "user": {
            "displayName": "Jesus Solano",
            "photoUrl": "https://lh3.googleusercontent.com/a/default-user=s128",
            "userId": "111266076568687218605"
          }
        }
      },
      "cell_type": "code",
      "source": [
        "# Show an image example - Gray .\n",
        "image = io.imread(os.path.join('images_resize_gray', str(dataTraining.index[124]) + '_resize_gray.jpeg'))\n",
        "\n",
        "fig, ax = plt.subplots(nrows=1, ncols=1)\n",
        "ax.imshow(image, cmap='gray')"
      ],
      "execution_count": 6,
      "outputs": [
        {
          "output_type": "execute_result",
          "data": {
            "text/plain": [
              "<matplotlib.image.AxesImage at 0x7fd0ede37d30>"
            ]
          },
          "metadata": {
            "tags": []
          },
          "execution_count": 6
        },
        {
          "output_type": "display_data",
          "data": {
            "image/png": "[encoded data removed]",
            "text/plain": [
              "<matplotlib.figure.Figure at 0x7fd0ee736080>"
            ]
          },
          "metadata": {
            "tags": []
          }
        }
      ]
    },
    {
      "metadata": {
        "id": "hpqvdLQJLjFt",
        "colab_type": "code",
        "colab": {
          "autoexec": {
            "startup": false,
            "wait_interval": 0
          },
          "base_uri": "https://localhost:8080/",
          "height": 52
        },
        "outputId": "d784dbab-0e26-4e94-8a1f-491e1eb828c0",
        "executionInfo": {
          "status": "ok",
          "timestamp": 1532303517624,
          "user_tz": 300,
          "elapsed": 25638,
          "user": {
            "displayName": "Jesus Solano",
            "photoUrl": "https://lh3.googleusercontent.com/a/default-user=s128",
            "userId": "111266076568687218605"
          }
        }
      },
      "cell_type": "code",
      "source": [
        "# Load all gray images.\n",
        "\n",
        "from skimage.transform import resize\n",
        "\n",
        "print('\\nLoading images for traning...')\n",
        "images_training = []\n",
        "for i in dataTraining.index:\n",
        "    img=io.imread(os.path.join('images_resize_gray', str(i) + '_resize_gray.jpeg'))\n",
        "    img = resize(img, (80, 128), mode='reflect')\n",
        "    img = [img] * 3\n",
        "    images_training.append(img)\n",
        "    \n",
        "trainingImagesGray = np.asarray(images_training)\n",
        "\n"
      ],
      "execution_count": 8,
      "outputs": [
        {
          "output_type": "stream",
          "text": [
            "\n",
            "Loading images for traning...\n"
          ],
          "name": "stdout"
        }
      ]
    },
    {
      "metadata": {
        "id": "4MtlCnVXP5h0",
        "colab_type": "code",
        "colab": {
          "autoexec": {
            "startup": false,
            "wait_interval": 0
          },
          "base_uri": "https://localhost:8080/",
          "height": 54
        },
        "outputId": "bfa9a9f9-1dbc-4dc2-e3b5-14bcf03fd786",
        "executionInfo": {
          "status": "ok",
          "timestamp": 1532303531480,
          "user_tz": 300,
          "elapsed": 1302,
          "user": {
            "displayName": "Jesus Solano",
            "photoUrl": "https://lh3.googleusercontent.com/a/default-user=s128",
            "userId": "111266076568687218605"
          }
        }
      },
      "cell_type": "code",
      "source": [
        "'''\n",
        "print('\\nLoading images for testing...')\n",
        "images_testing = []\n",
        "for i in dataTesting.index:\n",
        "    img= io.imread(os.path.join('images_resize_gray', str(i) + '_resize_gray.jpeg'))\n",
        "    img = resize(img, (80, 128), mode='reflect')\n",
        "    img = [img] * 3\n",
        "    images_testing.append(img)\n",
        "\n",
        "testingImagesGray = np.asarray(images_testing)\n",
        "\n",
        "'''"
      ],
      "execution_count": 9,
      "outputs": [
        {
          "output_type": "execute_result",
          "data": {
            "text/plain": [
              "\"\\nprint('\\nLoading images for testing...')\\nimages_testing = []\\nfor i in dataTesting.index:\\n    img= io.imread(os.path.join('images_resize_gray', str(i) + '_resize_gray.jpeg'))\\n    img = resize(img, (80, 128), mode='reflect')\\n    img = [img] * 3\\n    images_testing.append(img)\\n\\ntestingImagesGray = np.asarray(images_testing)\\n\\n\""
            ]
          },
          "metadata": {
            "tags": []
          },
          "execution_count": 9
        }
      ]
    },
    {
      "metadata": {
        "id": "qs0vuU_ENaeh",
        "colab_type": "code",
        "colab": {
          "autoexec": {
            "startup": false,
            "wait_interval": 0
          }
        }
      },
      "cell_type": "code",
      "source": [
        "trainingImagesGray = np.rollaxis(trainingImagesGray, 1, 4)"
      ],
      "execution_count": 0,
      "outputs": []
    },
    {
      "metadata": {
        "id": "MPKTrj5KNc54",
        "colab_type": "code",
        "colab": {
          "autoexec": {
            "startup": false,
            "wait_interval": 0
          },
          "base_uri": "https://localhost:8080/",
          "height": 34
        },
        "outputId": "3fb4f5f8-f01a-4e93-9c1e-fd1c4107c1e9",
        "executionInfo": {
          "status": "ok",
          "timestamp": 1532303535726,
          "user_tz": 300,
          "elapsed": 1237,
          "user": {
            "displayName": "Jesus Solano",
            "photoUrl": "https://lh3.googleusercontent.com/a/default-user=s128",
            "userId": "111266076568687218605"
          }
        }
      },
      "cell_type": "code",
      "source": [
        "'''\n",
        "testingImagesGray = np.rollaxis(testingImagesGray, 1, 4)\n",
        "'''"
      ],
      "execution_count": 11,
      "outputs": [
        {
          "output_type": "execute_result",
          "data": {
            "text/plain": [
              "'\\ntestingImagesGray = np.rollaxis(testingImagesGray, 1, 4)\\n'"
            ]
          },
          "metadata": {
            "tags": []
          },
          "execution_count": 11
        }
      ]
    },
    {
      "metadata": {
        "id": "RMVwe8-hIFR3",
        "colab_type": "code",
        "colab": {
          "autoexec": {
            "startup": false,
            "wait_interval": 0
          }
        }
      },
      "cell_type": "code",
      "source": [
        "\n",
        "from keras.applications import VGG16\n",
        "from skimage.transform import resize\n",
        "\n",
        "vgg16 = VGG16(include_top=False, weights='imagenet')\n",
        "\n",
        "trainingImagesVGG = vgg16.predict(trainingImagesGray)\n",
        "  "
      ],
      "execution_count": 0,
      "outputs": []
    },
    {
      "metadata": {
        "id": "K6mtfWv2QWCQ",
        "colab_type": "code",
        "colab": {
          "autoexec": {
            "startup": false,
            "wait_interval": 0
          }
        }
      },
      "cell_type": "code",
      "source": [
        "# Get labels for each image. \n",
        "\n",
        "dataTraining['genres'] = dataTraining['genres'].map(lambda x: eval(x))\n",
        "le = MultiLabelBinarizer()\n",
        "yGenres = le.fit_transform(dataTraining['genres'])"
      ],
      "execution_count": 0,
      "outputs": []
    },
    {
      "metadata": {
        "id": "TDLeuRlfB9uV",
        "colab_type": "text"
      },
      "cell_type": "markdown",
      "source": [
        "# Convolutional Neural Network --- VGG16 Model\n",
        "\n"
      ]
    },
    {
      "metadata": {
        "id": "MR-FvK0LWBJw",
        "colab_type": "code",
        "colab": {
          "autoexec": {
            "startup": false,
            "wait_interval": 0
          }
        }
      },
      "cell_type": "code",
      "source": [
        "from keras.models import Sequential\n",
        "from keras.layers import Conv2D, MaxPooling2D\n",
        "from keras.layers import Activation, Dropout, Flatten, Dense ,BatchNormalization\n",
        "from keras import backend as K\n",
        "from keras import optimizers as opts\n",
        "from keras.callbacks import History\n",
        "from livelossplot import PlotLossesKeras\n"
      ],
      "execution_count": 0,
      "outputs": []
    },
    {
      "metadata": {
        "id": "nBA3IneyTFZF",
        "colab_type": "code",
        "colab": {
          "autoexec": {
            "startup": false,
            "wait_interval": 0
          }
        }
      },
      "cell_type": "code",
      "source": [
        "########## Transfer learnring ##########\n",
        "\n",
        "\n",
        "# Creates datasets for training and testing.   \n",
        "xTrainImaGrayVGG, xValidationImaGrayVGG, yTrainImaGrayVGG, yValidationImaGrayVGG = train_test_split(trainingImagesVGG, yGenres, test_size=0.20, random_state=22)"
      ],
      "execution_count": 0,
      "outputs": []
    },
    {
      "metadata": {
        "id": "k_MO1y32MaRu",
        "colab_type": "code",
        "colab": {
          "autoexec": {
            "startup": false,
            "wait_interval": 0
          },
          "base_uri": "https://localhost:8080/",
          "height": 326
        },
        "outputId": "bec5a826-7633-4ac0-9a75-624affec1c8b",
        "executionInfo": {
          "status": "ok",
          "timestamp": 1532304570994,
          "user_tz": 300,
          "elapsed": 35,
          "user": {
            "displayName": "Jesus Solano",
            "photoUrl": "https://lh3.googleusercontent.com/a/default-user=s128",
            "userId": "111266076568687218605"
          }
        }
      },
      "cell_type": "code",
      "source": [
        "### Transfer Learning Neural Network.\n",
        "\n",
        "from google.colab import files\n",
        "from keras import backend as K\n",
        "K.clear_session()\n",
        "\n",
        "# Model structure.\n",
        "outputClasses = 24\n",
        "\n",
        "# Create the model. \n",
        "cnnTransferGray = Sequential()\n",
        "\n",
        "# Apply a convolutional layer. \n",
        "cnnTransferGray.add(Flatten(input_shape=trainingImagesVGG.shape[1:]))\n",
        "\n",
        "# Add the fully connected.\n",
        "cnnTransferGray.add(Dense(512, activation='relu',init='uniform'))\n",
        "cnnTransferGray.add(BatchNormalization())\n",
        "\n",
        "# Add a dropout.\n",
        "cnnTransferGray.add(Dropout(0.5))\n",
        "\n",
        "# Add the fully connected.\n",
        "cnnTransferGray.add(Dense(outputClasses,init='uniform'))\n",
        "#cnnTransferGray.add(BatchNormalization())\n",
        "\n",
        "# Add the activation softmax.\n",
        "cnnTransferGray.add(Activation('sigmoid'))\n",
        "\n",
        "print(cnnTransferGray.summary(70))\n",
        "\n",
        "# Compile the model. \n",
        "\n",
        "op = opts.Adam(lr=0.001)\n",
        "\n",
        "cnnTransferGray.compile(loss = 'categorical_crossentropy',\n",
        "              optimizer = op,\n",
        "              metrics = ['accuracy'])\n",
        "\n",
        "batch_size = 2000\n",
        "epochs = 200\n",
        "\n",
        "cnnTransferGray.fit(xTrainImaGrayVGG, yTrainImaGrayVGG,\n",
        "                    batch_size=batch_size,\n",
        "                    epochs=epochs,\n",
        "                    verbose=1,\n",
        "                    shuffle = True, \n",
        "                    validation_split = 0.1,\n",
        "                    callbacks=[PlotLossesKeras()])\n",
        "\n",
        "cnnTransferGray.save('imaNNtrainedGrayVGG.h5')\n",
        "\n"
      ],
      "execution_count": 32,
      "outputs": [
        {
          "output_type": "display_data",
          "data": {
            "image/png": "[encoded data removed]",
            "text/plain": [
              "<matplotlib.figure.Figure at 0x7fcfb7c62ba8>"
            ]
          },
          "metadata": {
            "tags": []
          }
        }
      ]
    },
    {
      "metadata": {
        "id": "tlTwMtc6T8hW",
        "colab_type": "code",
        "colab": {
          "autoexec": {
            "startup": false,
            "wait_interval": 0
          },
          "base_uri": "https://localhost:8080/",
          "height": 121
        },
        "outputId": "6637d0b2-2817-4181-b687-f37351b62ce8",
        "executionInfo": {
          "status": "ok",
          "timestamp": 1532304574949,
          "user_tz": 300,
          "elapsed": 1014,
          "user": {
            "displayName": "Jesus Solano",
            "photoUrl": "https://lh3.googleusercontent.com/a/default-user=s128",
            "userId": "111266076568687218605"
          }
        }
      },
      "cell_type": "code",
      "source": [
        "# Scoring model for grey images.\n",
        "\n",
        "from sklearn.metrics import roc_curve, auc, roc_auc_score\n",
        "\n",
        "yPredGenreIma = cnnTransferGray.predict(xValidationImaGrayVGG)\n",
        "imaAUC = roc_auc_score(yValidationImaGrayVGG, yPredGenreIma, average='macro')\n",
        "\n",
        "# Perform the neural network over the test set. \n",
        "\n",
        "print('Evaluating the test set...')\n",
        "score = cnnTransferGray.evaluate(xValidationImaGrayVGG, yValidationImaGrayVGG)\n",
        "\n",
        "print('\\nTest score:', score[0])\n",
        "print('Test accuracy:', score[1])\n",
        "print('Model AUC is: ', imaAUC )\n"
      ],
      "execution_count": 33,
      "outputs": [
        {
          "output_type": "stream",
          "text": [
            "Evaluating the test set...\n",
            "1579/1579 [==============================] - 0s 100us/step\n",
            "\n",
            "Test score: 14.507699321990831\n",
            "Test accuracy: 0.24002533256441375\n",
            "Model AUC is:  0.6116283840996085\n"
          ],
          "name": "stdout"
        }
      ]
    },
    {
      "metadata": {
        "id": "qw-NSkf2dHac",
        "colab_type": "code",
        "colab": {
          "autoexec": {
            "startup": false,
            "wait_interval": 0
          }
        }
      },
      "cell_type": "code",
      "source": [
        "files.download('imaNNtrainedGrayVGG.h5')"
      ],
      "execution_count": 0,
      "outputs": []
    },
    {
      "metadata": {
        "id": "h6zXOdNyMaSC",
        "colab_type": "text"
      },
      "cell_type": "markdown",
      "source": [
        "## Print Prediction to Kaggle"
      ]
    },
    {
      "metadata": {
        "id": "UUJQEQV5MaSD",
        "colab_type": "code",
        "colab": {
          "autoexec": {
            "startup": false,
            "wait_interval": 0
          }
        }
      },
      "cell_type": "code",
      "source": [
        "# Print prediction for test (kaggle) data. \n",
        "\n",
        "from keras.models import load_model\n",
        "from google.colab import files\n",
        "\n",
        "cnnTransferGray = load_model('imaNNtrainedGrayVGG.h5')\n",
        "\n",
        "yPredTest = nnIma.predict(testingImagesGray)\n",
        "\n",
        "cols = ['p_Action', 'p_Adventure', 'p_Animation', 'p_Biography', 'p_Comedy', 'p_Crime', 'p_Documentary', 'p_Drama', 'p_Family',\n",
        "        'p_Fantasy', 'p_Film-Noir', 'p_History', 'p_Horror', 'p_Music', 'p_Musical', 'p_Mystery', 'p_News', 'p_Romance',\n",
        "        'p_Sci-Fi', 'p_Short', 'p_Sport', 'p_Thriller', 'p_War', 'p_Western']\n",
        "\n",
        "pd.DataFrame(yPredTest, index=dataTesting.index, columns=cols).to_csv('pred_genres_ImageVGG_Gray.csv', index_label='ID')\n",
        "\n",
        "files.download('pred_genres_ImageVGG_Gray.csv')\n"
      ],
      "execution_count": 0,
      "outputs": []
    },
    {
      "metadata": {
        "id": "YDGJ0BagznmY",
        "colab_type": "text"
      },
      "cell_type": "markdown",
      "source": [
        "# Own CNN Network - Gray"
      ]
    },
    {
      "metadata": {
        "id": "55SAGALeTAOq",
        "colab_type": "code",
        "colab": {
          "autoexec": {
            "startup": false,
            "wait_interval": 0
          }
        }
      },
      "cell_type": "code",
      "source": [
        "# Creates datasets for training and testing.   \n",
        "xTrainImaGray, xValidationImaGray, yTrainImaGray, yValidationImaGray = train_test_split(trainingImagesGray, yGenres, test_size=0.20, random_state=22)"
      ],
      "execution_count": 0,
      "outputs": []
    },
    {
      "metadata": {
        "id": "1Fpd-vSZUS8D",
        "colab_type": "code",
        "colab": {
          "autoexec": {
            "startup": false,
            "wait_interval": 0
          },
          "base_uri": "https://localhost:8080/",
          "height": 326
        },
        "outputId": "8fdf3e7f-fcdb-496b-b113-7c04e137aee4",
        "executionInfo": {
          "status": "ok",
          "timestamp": 1532307533612,
          "user_tz": 300,
          "elapsed": 491,
          "user": {
            "displayName": "Jesus Solano",
            "photoUrl": "https://lh3.googleusercontent.com/a/default-user=s128",
            "userId": "111266076568687218605"
          }
        }
      },
      "cell_type": "code",
      "source": [
        "# Neural Network used to train gray images -- Own model.\n",
        "\n",
        "from keras.models import Sequential\n",
        "from keras.layers import Conv1D, MaxPooling1D\n",
        "from keras.layers import Activation, Dropout, Flatten, Dense\n",
        "from keras import backend as K\n",
        "from keras import optimizers as opts\n",
        "from keras.callbacks import History\n",
        "from livelossplot import PlotLossesKeras\n",
        "\n",
        "from keras import backend as K\n",
        "K.clear_session()\n",
        "\n",
        "outputClasses = 24\n",
        "\n",
        "xSize = xTrainImaGray.shape[1]\n",
        "ySize = xTrainImaGray.shape[2]\n",
        "\n",
        "# Define if images have color channels firts in the array.\n",
        "if K.image_data_format() == 'channels_first':\n",
        "    input_shape = (3, xSize, ySize)\n",
        "else:\n",
        "    input_shape = (xSize, ySize, 3)\n",
        "\n",
        "\n",
        "# Creates a CNN model using keras.\n",
        "\n",
        "nnIma = Sequential()\n",
        "\n",
        "filtersNumber1=32\n",
        "filtersNumber2=64\n",
        "\n",
        "kernelSize= 32\n",
        "maxPoolSize = 2 \n",
        "\n",
        "NumN=32\n",
        "NumN2=64\n",
        "\n",
        "nnIma.add(Conv2D(NumN, (3, 3), input_shape=input_shape))\n",
        "nnIma.add(Activation('tanh'))\n",
        "nnIma.add(MaxPooling2D(pool_size=(2, 2)))\n",
        "nnIma.add(Dropout(0.5))\n",
        "\n",
        "nnIma.add(Conv2D(NumN, (3, 3)))\n",
        "nnIma.add(Activation('tanh'))\n",
        "nnIma.add(MaxPooling2D(pool_size=(2, 2)))\n",
        "nnIma.add(Dropout(0.5))\n",
        "\n",
        "nnIma.add(Conv2D(NumN2, (3, 3)))\n",
        "nnIma.add(Activation('tanh'))\n",
        "nnIma.add(MaxPooling2D(pool_size=(2, 2)))\n",
        "nnIma.add(Dropout(0.5))\n",
        "\n",
        "nnIma.add(Flatten())\n",
        "nnIma.add(Dense(NumN2))\n",
        "nnIma.add(Activation('tanh'))\n",
        "nnIma.add(Dropout(0.5))\n",
        "nnIma.add(Dense(outputClasses))\n",
        "nnIma.add(Activation('sigmoid'))\n",
        "\n",
        "nnIma.summary()\n",
        "\n",
        "#Defines optimizer.\n",
        "op = opts.adam(lr=0.001)\n",
        "\n",
        "# Compile the neural network.\n",
        "nnIma.compile(loss='categorical_crossentropy',\n",
        "             optimizer=op,\n",
        "              metrics=['accuracy'])\n",
        "\n",
        "batch_size = 1000\n",
        "epochs = 200\n",
        "\n",
        "nnIma.fit(xTrainImaGray, yTrainImaGray,\n",
        "                    batch_size=batch_size,\n",
        "                    epochs=epochs,\n",
        "                    verbose=1,\n",
        "                    shuffle = True, \n",
        "                    validation_data = [xValidationImaGray,yValidationImaGray],callbacks=[PlotLossesKeras()])\n",
        "\n",
        "\n",
        "nnIma.save('imaNNtrainedGray.h5')"
      ],
      "execution_count": 37,
      "outputs": [
        {
          "output_type": "display_data",
          "data": {
            "image/png": "[encoded data removed]",
            "text/plain": [
              "<matplotlib.figure.Figure at 0x7fcfb62e0c88>"
            ]
          },
          "metadata": {
            "tags": []
          }
        }
      ]
    },
    {
      "metadata": {
        "id": "jcGwevb2ku7Z",
        "colab_type": "code",
        "colab": {
          "autoexec": {
            "startup": false,
            "wait_interval": 0
          },
          "base_uri": "https://localhost:8080/",
          "height": 121
        },
        "outputId": "5f2cc0a0-8506-41c8-d7c3-78bcf248c66a",
        "executionInfo": {
          "status": "ok",
          "timestamp": 1532307789104,
          "user_tz": 300,
          "elapsed": 2128,
          "user": {
            "displayName": "Jesus Solano",
            "photoUrl": "https://lh3.googleusercontent.com/a/default-user=s128",
            "userId": "111266076568687218605"
          }
        }
      },
      "cell_type": "code",
      "source": [
        "# Scoring model for grey images.\n",
        "\n",
        "from sklearn.metrics import roc_curve, auc, roc_auc_score\n",
        "\n",
        "yPredGenreIma = nnIma.predict(xValidationImaGray)\n",
        "imaAUC = roc_auc_score(yValidationImaGray, yPredGenreIma, average='macro')\n",
        "\n",
        "# Perform the neural network over the test set. \n",
        "\n",
        "print('Evaluating the test set...')\n",
        "score = nnIma.evaluate(xValidationImaGray, yValidationImaGray)\n",
        "\n",
        "print('\\nTest score:', score[0])\n",
        "print('Test accuracy:', score[1])\n",
        "print('Model AUC is: ', imaAUC )"
      ],
      "execution_count": 38,
      "outputs": [
        {
          "output_type": "stream",
          "text": [
            "Evaluating the test set...\n",
            "1579/1579 [==============================] - 1s 458us/step\n",
            "\n",
            "Test score: 7.589870374666278\n",
            "Test accuracy: 0.2685243825772052\n",
            "Model AUC is:  0.6262972812466373\n"
          ],
          "name": "stdout"
        }
      ]
    },
    {
      "metadata": {
        "id": "s9kkbkZckvJu",
        "colab_type": "code",
        "colab": {
          "autoexec": {
            "startup": false,
            "wait_interval": 0
          }
        }
      },
      "cell_type": "code",
      "source": [
        "files.download('imaNNtrainedGray.h5')"
      ],
      "execution_count": 0,
      "outputs": []
    },
    {
      "metadata": {
        "id": "5nFTD_1FMaSr",
        "colab_type": "text"
      },
      "cell_type": "markdown",
      "source": [
        "## Print Prediction to Kaggle"
      ]
    },
    {
      "metadata": {
        "id": "Yo-nUvoBMaSw",
        "colab_type": "code",
        "colab": {
          "autoexec": {
            "startup": false,
            "wait_interval": 0
          }
        }
      },
      "cell_type": "code",
      "source": [
        "# Print prediction for test (kaggle) data. \n",
        "\n",
        "from keras.models import load_model\n",
        "from google.colab import files\n",
        "\n",
        "cnnTransferColor = load_model('imaNNtrainedGray.h5')\n",
        "\n",
        "yPredTest = nnIma.predict(testingImagesGray)\n",
        "\n",
        "cols = ['p_Action', 'p_Adventure', 'p_Animation', 'p_Biography', 'p_Comedy', 'p_Crime', 'p_Documentary', 'p_Drama', 'p_Family',\n",
        "        'p_Fantasy', 'p_Film-Noir', 'p_History', 'p_Horror', 'p_Music', 'p_Musical', 'p_Mystery', 'p_News', 'p_Romance',\n",
        "        'p_Sci-Fi', 'p_Short', 'p_Sport', 'p_Thriller', 'p_War', 'p_Western']\n",
        "\n",
        "pd.DataFrame(yPredTest, index=dataTesting.index, columns=cols).to_csv('pred_genres_ImageVGG_Gray.csv', index_label='ID')\n",
        "\n",
        "files.download('pred_genres_ImageVGG_Gray.csv')\n"
      ],
      "execution_count": 0,
      "outputs": []
    },
    {
      "metadata": {
        "id": "2RORgmZFvyUd",
        "colab_type": "code",
        "colab": {
          "autoexec": {
            "startup": false,
            "wait_interval": 0
          }
        }
      },
      "cell_type": "code",
      "source": [
        "https://arxiv.org/pdf/1702.01992.pdf"
      ],
      "execution_count": 0,
      "outputs": []
    },
    {
      "metadata": {
        "id": "q4bs16XhMwSB",
        "colab_type": "code",
        "colab": {
          "autoexec": {
            "startup": false,
            "wait_interval": 0
          }
        }
      },
      "cell_type": "code",
      "source": [
        "!pip3 install tqdm\n",
        "!pip3 install livelossplot"
      ],
      "execution_count": 0,
      "outputs": []
    },
    {
      "metadata": {
        "id": "WMuc5NIATdhI",
        "colab_type": "code",
        "colab": {
          "autoexec": {
            "startup": false,
            "wait_interval": 0
          }
        }
      },
      "cell_type": "code",
      "source": [
        "! rm -r *"
      ],
      "execution_count": 0,
      "outputs": []
    },
    {
      "metadata": {
        "id": "Ca3I8O7wTfYk",
        "colab_type": "code",
        "colab": {
          "autoexec": {
            "startup": false,
            "wait_interval": 0
          }
        }
      },
      "cell_type": "code",
      "source": [
        ""
      ],
      "execution_count": 0,
      "outputs": []
    }
  ]
}
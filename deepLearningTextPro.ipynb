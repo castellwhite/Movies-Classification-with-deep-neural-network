{
  "nbformat": 4,
  "nbformat_minor": 0,
  "metadata": {
    "colab": {
      "name": "deepLearningTextPro.ipynb",
      "version": "0.3.2",
      "views": {},
      "default_view": {},
      "provenance": [
        {
          "file_id": "1V37EWb1QTbDRxv7d958yDGvpvpFAR7oE",
          "timestamp": 1532210094062
        },
        {
          "file_id": "1xDbwNUBHM9tspCIkJLZPVqhhjZnk75aJ",
          "timestamp": 1532206955200
        },
        {
          "file_id": "https://github.com/castellwhite/MoviesClassification/blob/master/ImgRFModel.ipynb",
          "timestamp": 1532202750978
        }
      ],
      "collapsed_sections": []
    },
    "kernelspec": {
      "display_name": "Python 3",
      "language": "python",
      "name": "python3"
    },
    "accelerator": "GPU"
  },
  "cells": [
    {
      "metadata": {
        "id": "upa5WLRoYwdI",
        "colab_type": "text"
      },
      "cell_type": "markdown",
      "source": [
        "<h2>\n",
        "# Movies Classification Project\n",
        "</center></h4> <h4>\n",
        " <img src=\"http://usblogs.pwc.com/emerging-technology/wp-content/uploads/2017/07/deep-learning-900x280.png\" >\n",
        "\n",
        "\n",
        "# Deep Learning Text\n",
        "\n",
        "</h4>\n",
        "\n",
        "Developed by [Sergio Castelblanco](http://www.linkedin.com/in/sergio-castelblanco/) - [Jesus Solano](http://www.jesussolano.com)\n",
        "\n",
        "Andes University\n",
        "\n",
        "version 2.1, July 9 2018"
      ]
    },
    {
      "metadata": {
        "id": "jhKCAKD5YwdK",
        "colab_type": "code",
        "colab": {
          "autoexec": {
            "startup": false,
            "wait_interval": 0
          }
        }
      },
      "cell_type": "code",
      "source": [
        "# Import needed libraries. \n",
        "\n",
        "import pandas as pd\n",
        "import os\n",
        "import numpy as np\n",
        "from sklearn.metrics import r2_score, roc_auc_score\n",
        "from sklearn.preprocessing import MultiLabelBinarizer\n",
        "from sklearn.model_selection import train_test_split\n",
        "import matplotlib.pyplot as plt\n",
        "from skimage import io\n",
        "from tqdm import tqdm\n",
        "import os\n",
        "%matplotlib inline"
      ],
      "execution_count": 0,
      "outputs": []
    },
    {
      "metadata": {
        "id": "dKoLWUnE2bEc",
        "colab_type": "code",
        "colab": {
          "autoexec": {
            "startup": false,
            "wait_interval": 0
          }
        }
      },
      "cell_type": "code",
      "source": [
        "# If datasets already exist do nothing. \n",
        "\n",
        "\n",
        "if not os.path.exists('dataTesting.csv'):\n",
        "  ! wget https://raw.githubusercontent.com/castellwhite/MoviesClassification/master/datasets/dataTesting.csv\n",
        "    \n",
        "if not os.path.exists('dataTraining.csv'):\n",
        "  ! wget https://raw.githubusercontent.com/castellwhite/MoviesClassification/master/datasets/dataTraining.csv\n",
        "    \n",
        "dataTraining = pd.read_csv(\"dataTraining.csv\",index_col=0)\n",
        "dataTesting = pd.read_csv(\"dataTesting.csv\",index_col=0)"
      ],
      "execution_count": 0,
      "outputs": []
    },
    {
      "metadata": {
        "id": "sWWWzImUYwdO",
        "colab_type": "text"
      },
      "cell_type": "markdown",
      "source": [
        "# Read Data"
      ]
    },
    {
      "metadata": {
        "id": "rEY2WhO7YwdR",
        "colab_type": "code",
        "colab": {
          "autoexec": {
            "startup": false,
            "wait_interval": 0
          }
        }
      },
      "cell_type": "code",
      "source": [
        "# Creates dataframes for images indices.\n",
        "\n",
        "dataTraining = pd.read_csv(\"dataTraining.csv\",index_col=0)\n",
        "dataTesting = pd.read_csv(\"dataTesting.csv\",index_col=0)"
      ],
      "execution_count": 0,
      "outputs": []
    },
    {
      "metadata": {
        "id": "5f_sjXFRYwdT",
        "colab_type": "code",
        "colab": {
          "autoexec": {
            "startup": false,
            "wait_interval": 0
          },
          "base_uri": "https://localhost:8080/",
          "height": 206
        },
        "outputId": "f942f7da-cd15-4256-f5a0-8dcdd1c6f866",
        "executionInfo": {
          "status": "ok",
          "timestamp": 1532293535344,
          "user_tz": 300,
          "elapsed": 1309,
          "user": {
            "displayName": "Jesus Solano",
            "photoUrl": "https://lh3.googleusercontent.com/a/default-user=s128",
            "userId": "111266076568687218605"
          }
        }
      },
      "cell_type": "code",
      "source": [
        "dataTraining.head()"
      ],
      "execution_count": 5,
      "outputs": [
        {
          "output_type": "execute_result",
          "data": {
            "text/html": [
              "<div>\n",
              "<style scoped>\n",
              "    .dataframe tbody tr th:only-of-type {\n",
              "        vertical-align: middle;\n",
              "    }\n",
              "\n",
              "    .dataframe tbody tr th {\n",
              "        vertical-align: top;\n",
              "    }\n",
              "\n",
              "    .dataframe thead th {\n",
              "        text-align: right;\n",
              "    }\n",
              "</style>\n",
              "<table border=\"1\" class=\"dataframe\">\n",
              "  <thead>\n",
              "    <tr style=\"text-align: right;\">\n",
              "      <th></th>\n",
              "      <th>year</th>\n",
              "      <th>title</th>\n",
              "      <th>plot</th>\n",
              "      <th>genres</th>\n",
              "      <th>rating</th>\n",
              "    </tr>\n",
              "  </thead>\n",
              "  <tbody>\n",
              "    <tr>\n",
              "      <th>3107</th>\n",
              "      <td>2003</td>\n",
              "      <td>Most</td>\n",
              "      <td>most is the story of a single father who takes...</td>\n",
              "      <td>['Short', 'Drama']</td>\n",
              "      <td>8.0</td>\n",
              "    </tr>\n",
              "    <tr>\n",
              "      <th>900</th>\n",
              "      <td>2008</td>\n",
              "      <td>How to Be a Serial Killer</td>\n",
              "      <td>a serial killer decides to teach the secrets o...</td>\n",
              "      <td>['Comedy', 'Crime', 'Horror']</td>\n",
              "      <td>5.6</td>\n",
              "    </tr>\n",
              "    <tr>\n",
              "      <th>6724</th>\n",
              "      <td>1941</td>\n",
              "      <td>A Woman's Face</td>\n",
              "      <td>in sweden ,  a female blackmailer with a disfi...</td>\n",
              "      <td>['Drama', 'Film-Noir', 'Thriller']</td>\n",
              "      <td>7.2</td>\n",
              "    </tr>\n",
              "    <tr>\n",
              "      <th>4704</th>\n",
              "      <td>1954</td>\n",
              "      <td>Executive Suite</td>\n",
              "      <td>in a friday afternoon in new york ,  the presi...</td>\n",
              "      <td>['Drama']</td>\n",
              "      <td>7.4</td>\n",
              "    </tr>\n",
              "    <tr>\n",
              "      <th>2582</th>\n",
              "      <td>1990</td>\n",
              "      <td>Narrow Margin</td>\n",
              "      <td>in los angeles ,  the editor of a publishing h...</td>\n",
              "      <td>['Action', 'Crime', 'Thriller']</td>\n",
              "      <td>6.6</td>\n",
              "    </tr>\n",
              "  </tbody>\n",
              "</table>\n",
              "</div>"
            ],
            "text/plain": [
              "      year                      title  \\\n",
              "3107  2003                       Most   \n",
              "900   2008  How to Be a Serial Killer   \n",
              "6724  1941             A Woman's Face   \n",
              "4704  1954            Executive Suite   \n",
              "2582  1990              Narrow Margin   \n",
              "\n",
              "                                                   plot  \\\n",
              "3107  most is the story of a single father who takes...   \n",
              "900   a serial killer decides to teach the secrets o...   \n",
              "6724  in sweden ,  a female blackmailer with a disfi...   \n",
              "4704  in a friday afternoon in new york ,  the presi...   \n",
              "2582  in los angeles ,  the editor of a publishing h...   \n",
              "\n",
              "                                  genres  rating  \n",
              "3107                  ['Short', 'Drama']     8.0  \n",
              "900        ['Comedy', 'Crime', 'Horror']     5.6  \n",
              "6724  ['Drama', 'Film-Noir', 'Thriller']     7.2  \n",
              "4704                           ['Drama']     7.4  \n",
              "2582     ['Action', 'Crime', 'Thriller']     6.6  "
            ]
          },
          "metadata": {
            "tags": []
          },
          "execution_count": 5
        }
      ]
    },
    {
      "metadata": {
        "id": "A-I0t0arYwdZ",
        "colab_type": "code",
        "colab": {
          "autoexec": {
            "startup": false,
            "wait_interval": 0
          },
          "base_uri": "https://localhost:8080/",
          "height": 206
        },
        "outputId": "0d11b876-206c-448b-b99d-9fc330d8031c",
        "executionInfo": {
          "status": "ok",
          "timestamp": 1532293536552,
          "user_tz": 300,
          "elapsed": 852,
          "user": {
            "displayName": "Jesus Solano",
            "photoUrl": "https://lh3.googleusercontent.com/a/default-user=s128",
            "userId": "111266076568687218605"
          }
        }
      },
      "cell_type": "code",
      "source": [
        "dataTesting.head()"
      ],
      "execution_count": 6,
      "outputs": [
        {
          "output_type": "execute_result",
          "data": {
            "text/html": [
              "<div>\n",
              "<style scoped>\n",
              "    .dataframe tbody tr th:only-of-type {\n",
              "        vertical-align: middle;\n",
              "    }\n",
              "\n",
              "    .dataframe tbody tr th {\n",
              "        vertical-align: top;\n",
              "    }\n",
              "\n",
              "    .dataframe thead th {\n",
              "        text-align: right;\n",
              "    }\n",
              "</style>\n",
              "<table border=\"1\" class=\"dataframe\">\n",
              "  <thead>\n",
              "    <tr style=\"text-align: right;\">\n",
              "      <th></th>\n",
              "      <th>year</th>\n",
              "      <th>title</th>\n",
              "      <th>plot</th>\n",
              "    </tr>\n",
              "  </thead>\n",
              "  <tbody>\n",
              "    <tr>\n",
              "      <th>1</th>\n",
              "      <td>1999</td>\n",
              "      <td>Message in a Bottle</td>\n",
              "      <td>who meets by fate ,  shall be sealed by fate ....</td>\n",
              "    </tr>\n",
              "    <tr>\n",
              "      <th>4</th>\n",
              "      <td>1978</td>\n",
              "      <td>Midnight Express</td>\n",
              "      <td>the true story of billy hayes ,  an american c...</td>\n",
              "    </tr>\n",
              "    <tr>\n",
              "      <th>5</th>\n",
              "      <td>1996</td>\n",
              "      <td>Primal Fear</td>\n",
              "      <td>martin vail left the chicago da ' s office to ...</td>\n",
              "    </tr>\n",
              "    <tr>\n",
              "      <th>6</th>\n",
              "      <td>1950</td>\n",
              "      <td>Crisis</td>\n",
              "      <td>husband and wife americans dr .  eugene and mr...</td>\n",
              "    </tr>\n",
              "    <tr>\n",
              "      <th>7</th>\n",
              "      <td>1959</td>\n",
              "      <td>The Tingler</td>\n",
              "      <td>the coroner and scientist dr .  warren chapin ...</td>\n",
              "    </tr>\n",
              "  </tbody>\n",
              "</table>\n",
              "</div>"
            ],
            "text/plain": [
              "   year                title  \\\n",
              "1  1999  Message in a Bottle   \n",
              "4  1978     Midnight Express   \n",
              "5  1996          Primal Fear   \n",
              "6  1950               Crisis   \n",
              "7  1959          The Tingler   \n",
              "\n",
              "                                                plot  \n",
              "1  who meets by fate ,  shall be sealed by fate ....  \n",
              "4  the true story of billy hayes ,  an american c...  \n",
              "5  martin vail left the chicago da ' s office to ...  \n",
              "6  husband and wife americans dr .  eugene and mr...  \n",
              "7  the coroner and scientist dr .  warren chapin ...  "
            ]
          },
          "metadata": {
            "tags": []
          },
          "execution_count": 6
        }
      ]
    },
    {
      "metadata": {
        "id": "hZH34KymYwdd",
        "colab_type": "text"
      },
      "cell_type": "markdown",
      "source": [
        "# Pre-process Text"
      ]
    },
    {
      "metadata": {
        "id": "NeZbpSPp3rb2",
        "colab_type": "text"
      },
      "cell_type": "markdown",
      "source": [
        "### Word 2 Vec Approach"
      ]
    },
    {
      "metadata": {
        "id": "WGwuDuMA5fTU",
        "colab_type": "code",
        "colab": {
          "autoexec": {
            "startup": false,
            "wait_interval": 0
          }
        }
      },
      "cell_type": "code",
      "source": [
        "# Load functions and prerrequisites of word2vec.\n",
        "\n",
        "\n",
        "\n",
        "import tensorflow_hub as hub\n",
        "import tensorflow as tf\n",
        "import numpy as np\n",
        "\n",
        "\n",
        "hub_model = \"https://tfhub.dev/google/Wiki-words-250/1\"\n",
        "\n",
        "\n",
        "def create_text_embedding(hub_model, input_sentences):\n",
        "        \n",
        "    SEQ_LENGTH = max(map(len, input_sentences))\n",
        "    EMBEDDING_DIM = 250\n",
        "\n",
        "    with tf.Graph().as_default() as g:\n",
        "\n",
        "        embed_layer = hub.Module(hub_model,\n",
        "        trainable=False, name='text_embedding')\n",
        "\n",
        "        sentences = tf.placeholder(dtype=tf.string, shape=(None, SEQ_LENGTH))\n",
        "        batch_size = tf.shape(sentences)[0]\n",
        "\n",
        "        flat_sentences = tf.reshape(sentences, [-1])\n",
        "\n",
        "        embeddings = embed_layer(flat_sentences)\n",
        "\n",
        "        sentence_embedding = tf.reshape(embeddings, \n",
        "                                      [batch_size, SEQ_LENGTH, EMBEDDING_DIM])\n",
        "\n",
        "        with tf.Session(graph=g) as sess:\n",
        "            sess.run(tf.global_variables_initializer())\n",
        "            sess.run(tf.tables_initializer())\n",
        "\n",
        "            output = sess.run(sentence_embedding, feed_dict={\n",
        "                sentences: input_sentences\n",
        "            })\n",
        "            \n",
        "    return output"
      ],
      "execution_count": 0,
      "outputs": []
    },
    {
      "metadata": {
        "id": "X3Wo6F4x3qU6",
        "colab_type": "code",
        "colab": {
          "autoexec": {
            "startup": false,
            "wait_interval": 0
          }
        }
      },
      "cell_type": "code",
      "source": [
        "# Get plots and lables for each plot.\n",
        "\n",
        "xPlot=dataTraining['plot']\n",
        "xPlotTest = dataTesting['plot']\n",
        "\n",
        "dataTraining['genres'] = dataTraining['genres'].map(lambda x: eval(x))\n",
        "le = MultiLabelBinarizer()\n",
        "yGenres = le.fit_transform(dataTraining['genres'])"
      ],
      "execution_count": 0,
      "outputs": []
    },
    {
      "metadata": {
        "id": "4OiizjzO60Zy",
        "colab_type": "code",
        "colab": {
          "autoexec": {
            "startup": false,
            "wait_interval": 0
          },
          "base_uri": "https://localhost:8080/",
          "height": 52
        },
        "outputId": "352b9720-5d17-42cc-a02e-d04d9c0f82fe",
        "executionInfo": {
          "status": "ok",
          "timestamp": 1532293542579,
          "user_tz": 300,
          "elapsed": 2759,
          "user": {
            "displayName": "Jesus Solano",
            "photoUrl": "https://lh3.googleusercontent.com/a/default-user=s128",
            "userId": "111266076568687218605"
          }
        }
      },
      "cell_type": "code",
      "source": [
        "# Converts a text to a sequence of words (or tokens)\n",
        "\n",
        "from keras.preprocessing.text import text_to_word_sequence\n",
        "from keras.preprocessing.sequence import pad_sequences\n",
        "\n",
        "\n",
        "maxWords = 300\n",
        "\n",
        "xTokenTrain = [text_to_word_sequence(x) for x in xPlot.tolist()]\n",
        "xTokenTrain = pad_sequences(xTokenTrain, dtype='str', value=0, maxlen=maxWords)\n",
        "\n",
        "xTokenTest = [text_to_word_sequence(x) for x in xPlotTest.tolist()]\n",
        "xTokenTest = pad_sequences(xTokenTest, dtype='str', value=0, maxlen=maxWords)\n",
        "\n",
        "xTokenTrain.shape"
      ],
      "execution_count": 9,
      "outputs": [
        {
          "output_type": "stream",
          "text": [
            "Using TensorFlow backend.\n"
          ],
          "name": "stderr"
        },
        {
          "output_type": "execute_result",
          "data": {
            "text/plain": [
              "(7895, 300)"
            ]
          },
          "metadata": {
            "tags": []
          },
          "execution_count": 9
        }
      ]
    },
    {
      "metadata": {
        "id": "wSGZl9Q74IYu",
        "colab_type": "code",
        "colab": {
          "autoexec": {
            "startup": false,
            "wait_interval": 0
          },
          "base_uri": "https://localhost:8080/",
          "height": 69
        },
        "outputId": "5d95c40d-1bed-4e65-f034-5bc9a94370d7",
        "executionInfo": {
          "status": "ok",
          "timestamp": 1532293550549,
          "user_tz": 300,
          "elapsed": 7869,
          "user": {
            "displayName": "Jesus Solano",
            "photoUrl": "https://lh3.googleusercontent.com/a/default-user=s128",
            "userId": "111266076568687218605"
          }
        }
      },
      "cell_type": "code",
      "source": [
        "# Apply Word2Vec\n",
        "\n",
        "xEmbeddingTrain = create_text_embedding(hub_model, xTokenTrain)\n",
        "\n",
        "xEmbeddingTrain.shape"
      ],
      "execution_count": 10,
      "outputs": [
        {
          "output_type": "stream",
          "text": [
            "INFO:tensorflow:Using /tmp/tfhub_modules to cache modules.\n",
            "INFO:tensorflow:Initialize variable text_embedding/embeddings/part_0:0,text_embedding/embeddings/part_1:0 from checkpoint b'/tmp/tfhub_modules/1e7e72950396d90315d3d9c57eddf5da44d4dca2/variables/variables' with embeddings\n"
          ],
          "name": "stdout"
        },
        {
          "output_type": "execute_result",
          "data": {
            "text/plain": [
              "(7895, 300, 250)"
            ]
          },
          "metadata": {
            "tags": []
          },
          "execution_count": 10
        }
      ]
    },
    {
      "metadata": {
        "id": "2EElipA95TAM",
        "colab_type": "code",
        "colab": {
          "autoexec": {
            "startup": false,
            "wait_interval": 0
          },
          "base_uri": "https://localhost:8080/",
          "height": 52
        },
        "outputId": "009e6774-e2da-49b1-9903-76a026cfc43b",
        "executionInfo": {
          "status": "ok",
          "timestamp": 1532293554285,
          "user_tz": 300,
          "elapsed": 3631,
          "user": {
            "displayName": "Jesus Solano",
            "photoUrl": "https://lh3.googleusercontent.com/a/default-user=s128",
            "userId": "111266076568687218605"
          }
        }
      },
      "cell_type": "code",
      "source": [
        "# Apply Word2Vec\n",
        "\n",
        "xEmbeddingTest = create_text_embedding(hub_model, xTokenTest)\n",
        "\n",
        "xEmbeddingTest.shape\n",
        "\n"
      ],
      "execution_count": 11,
      "outputs": [
        {
          "output_type": "stream",
          "text": [
            "INFO:tensorflow:Initialize variable text_embedding/embeddings/part_0:0,text_embedding/embeddings/part_1:0 from checkpoint b'/tmp/tfhub_modules/1e7e72950396d90315d3d9c57eddf5da44d4dca2/variables/variables' with embeddings\n"
          ],
          "name": "stdout"
        },
        {
          "output_type": "execute_result",
          "data": {
            "text/plain": [
              "(3383, 300, 250)"
            ]
          },
          "metadata": {
            "tags": []
          },
          "execution_count": 11
        }
      ]
    },
    {
      "metadata": {
        "id": "TVgDomg7Cvg6",
        "colab_type": "code",
        "colab": {
          "autoexec": {
            "startup": false,
            "wait_interval": 0
          },
          "base_uri": "https://localhost:8080/",
          "height": 34
        },
        "outputId": "9cdd0fdc-ca3d-46af-b251-7580eded7299",
        "executionInfo": {
          "status": "ok",
          "timestamp": 1532293557375,
          "user_tz": 300,
          "elapsed": 2992,
          "user": {
            "displayName": "Jesus Solano",
            "photoUrl": "https://lh3.googleusercontent.com/a/default-user=s128",
            "userId": "111266076568687218605"
          }
        }
      },
      "cell_type": "code",
      "source": [
        "# Creates datasets for training and testing.   \n",
        "xTrainTxt, xValidationTxt, yTrainTxt, yValidationTxt = train_test_split(xEmbeddingTrain, yGenres, test_size=0.20, random_state=22)\n",
        "xTrainTxt.shape"
      ],
      "execution_count": 12,
      "outputs": [
        {
          "output_type": "execute_result",
          "data": {
            "text/plain": [
              "(6316, 300, 250)"
            ]
          },
          "metadata": {
            "tags": []
          },
          "execution_count": 12
        }
      ]
    },
    {
      "metadata": {
        "id": "lxmavmKz6AM8",
        "colab_type": "text"
      },
      "cell_type": "markdown",
      "source": [
        "# Neural Network"
      ]
    },
    {
      "metadata": {
        "id": "RiTKh5Mu6hDw",
        "colab_type": "code",
        "colab": {
          "autoexec": {
            "startup": false,
            "wait_interval": 0
          }
        }
      },
      "cell_type": "code",
      "source": [
        "from keras.models import Sequential\n",
        "from keras.utils import np_utils\n",
        "from keras.layers import Dense, Flatten, Dropout, Activation, BatchNormalization\n",
        "from keras import optimizers as opts\n",
        "from keras.callbacks import History\n",
        "from keras.layers import Conv1D, GlobalMaxPooling1D\n",
        "from livelossplot import PlotLossesKeras\n",
        "from google.colab import files"
      ],
      "execution_count": 0,
      "outputs": []
    },
    {
      "metadata": {
        "id": "2jA8t63E6DK6",
        "colab_type": "code",
        "colab": {
          "autoexec": {
            "startup": false,
            "wait_interval": 0
          },
          "base_uri": "https://localhost:8080/",
          "height": 326
        },
        "outputId": "c2b7872a-de45-40f8-d683-acb15109a84c",
        "executionInfo": {
          "status": "ok",
          "timestamp": 1532294054905,
          "user_tz": 300,
          "elapsed": 5365,
          "user": {
            "displayName": "Jesus Solano",
            "photoUrl": "https://lh3.googleusercontent.com/a/default-user=s128",
            "userId": "111266076568687218605"
          }
        }
      },
      "cell_type": "code",
      "source": [
        "from keras import backend as K\n",
        "K.clear_session()\n",
        "\n",
        "outputClasses= 24\n",
        "\n",
        "modelTxt = Sequential()\n",
        "modelTxt.add(Conv1D(100, 2, padding='same', strides=1, input_shape=xTrainTxt.shape[1:]))\n",
        "modelTxt.add(Activation('relu'))\n",
        "modelTxt.add(GlobalMaxPooling1D())\n",
        "\n",
        "modelTxt.add(Dense(256))\n",
        "modelTxt.add(Activation('relu'))\n",
        "modelTxt.add(Dropout(0.5))\n",
        "modelTxt.add(Dense(outputClasses))\n",
        "modelTxt.add(Activation('sigmoid'))\n",
        "\n",
        "print(modelTxt.summary(70))\n",
        "\n",
        "# Compile the model. \n",
        "\n",
        "op = opts.Adam(lr=0.001)\n",
        "\n",
        "modelTxt.compile(loss = 'categorical_crossentropy',\n",
        "              optimizer = op,\n",
        "              metrics = ['accuracy'])\n",
        "\n",
        "batch_size = 2000\n",
        "epochs = 250\n",
        "\n",
        "modelTxt.fit(xTrainTxt, yTrainTxt,\n",
        "                    batch_size=batch_size,\n",
        "                    epochs=epochs,\n",
        "                    verbose=1,\n",
        "                    shuffle = True, \n",
        "                    validation_split = 0.1,\n",
        "                    callbacks=[PlotLossesKeras()])\n",
        "\n",
        "modelTxt.save('txtWord2Vec.h5')\n",
        "\n",
        "files.download('txtWord2Vec.h5')\n"
      ],
      "execution_count": 14,
      "outputs": [
        {
          "output_type": "display_data",
          "data": {
            "image/png": "[encoded data removed]",
            "text/plain": [
              "<matplotlib.figure.Figure at 0x7f900c0ba320>"
            ]
          },
          "metadata": {
            "tags": []
          }
        }
      ]
    },
    {
      "metadata": {
        "id": "J4Blls8w9QLQ",
        "colab_type": "code",
        "colab": {
          "autoexec": {
            "startup": false,
            "wait_interval": 0
          },
          "base_uri": "https://localhost:8080/",
          "height": 121
        },
        "outputId": "1c2b209f-5e01-417e-8fb0-773fea4c7432",
        "executionInfo": {
          "status": "ok",
          "timestamp": 1532294057898,
          "user_tz": 300,
          "elapsed": 2461,
          "user": {
            "displayName": "Jesus Solano",
            "photoUrl": "https://lh3.googleusercontent.com/a/default-user=s128",
            "userId": "111266076568687218605"
          }
        }
      },
      "cell_type": "code",
      "source": [
        "from sklearn.metrics import roc_curve, auc, roc_auc_score\n",
        "\n",
        "yPredGenreTxt = modelTxt.predict(xValidationTxt)\n",
        "txtAUC = roc_auc_score(yValidationTxt, yPredGenreTxt, average='macro')\n",
        "# Perform the neural network over the test set. \n",
        "\n",
        "print('Evaluating the test set...')\n",
        "score = modelTxt.evaluate(xValidationTxt, yValidationTxt)\n",
        "#roc_curve(yValidationTxt,yPredGenre)\n",
        "\n",
        "print('\\nTest score:', score[0])\n",
        "print('Test accuracy:', score[1])\n",
        "print('Model AUC is: ', txtAUC )"
      ],
      "execution_count": 15,
      "outputs": [
        {
          "output_type": "stream",
          "text": [
            "Evaluating the test set...\n",
            "1579/1579 [==============================] - 0s 265us/step\n",
            "\n",
            "Test score: 6.108060539033007\n",
            "Test accuracy: 0.3470550982577654\n",
            "Model AUC is:  0.8716092117245041\n"
          ],
          "name": "stdout"
        }
      ]
    },
    {
      "metadata": {
        "id": "5QtRn-STYweg",
        "colab_type": "text"
      },
      "cell_type": "markdown",
      "source": [
        "# Apply models to test"
      ]
    },
    {
      "metadata": {
        "id": "Yuo-QJrZYweh",
        "colab_type": "code",
        "colab": {
          "autoexec": {
            "startup": false,
            "wait_interval": 0
          }
        }
      },
      "cell_type": "code",
      "source": [
        "# Print prediction for test (kaggle) data. \n",
        "\n",
        "yPredTest = modelTxt.predict_proba(xEmbeddingTest)\n",
        "\n",
        "cols = ['p_Action', 'p_Adventure', 'p_Animation', 'p_Biography', 'p_Comedy', 'p_Crime', 'p_Documentary', 'p_Drama', 'p_Family',\n",
        "        'p_Fantasy', 'p_Film-Noir', 'p_History', 'p_Horror', 'p_Music', 'p_Musical', 'p_Mystery', 'p_News', 'p_Romance',\n",
        "        'p_Sci-Fi', 'p_Short', 'p_Sport', 'p_Thriller', 'p_War', 'p_Western']\n",
        "\n",
        "pd.DataFrame(yPredTest, index=dataTesting.index, columns=cols).to_csv('pred_genres_word2vec_TXT_2.csv', index_label='ID')\n",
        "\n"
      ],
      "execution_count": 0,
      "outputs": []
    },
    {
      "metadata": {
        "id": "W2qUFGO62HOg",
        "colab_type": "code",
        "colab": {
          "autoexec": {
            "startup": false,
            "wait_interval": 0
          }
        }
      },
      "cell_type": "code",
      "source": [
        "from google.colab import files\n",
        "\n",
        "files.download('pred_genres_word2vec_TXT_2.csv')"
      ],
      "execution_count": 0,
      "outputs": []
    },
    {
      "metadata": {
        "id": "1sfD4vRdYwej",
        "colab_type": "code",
        "colab": {
          "autoexec": {
            "startup": false,
            "wait_interval": 0
          },
          "base_uri": "https://localhost:8080/",
          "height": 86
        },
        "outputId": "d8ad8c2d-eb5f-4e74-fe86-1909259b9458",
        "executionInfo": {
          "status": "ok",
          "timestamp": 1532294074098,
          "user_tz": 300,
          "elapsed": 6652,
          "user": {
            "displayName": "Jesus Solano",
            "photoUrl": "https://lh3.googleusercontent.com/a/default-user=s128",
            "userId": "111266076568687218605"
          }
        }
      },
      "cell_type": "code",
      "source": [
        "!pip3 install -U -q tqdm\n",
        "!pip3 install -U -q livelossplot"
      ],
      "execution_count": 17,
      "outputs": [
        {
          "output_type": "stream",
          "text": [
            "\u001b[33mYou are using pip version 10.0.1, however version 18.0 is available.\r\n",
            "You should consider upgrading via the 'pip install --upgrade pip' command.\u001b[0m\n",
            "\u001b[33mYou are using pip version 10.0.1, however version 18.0 is available.\n",
            "You should consider upgrading via the 'pip install --upgrade pip' command.\u001b[0m\n"
          ],
          "name": "stdout"
        }
      ]
    },
    {
      "metadata": {
        "id": "BZsGE40Jim5D",
        "colab_type": "code",
        "colab": {
          "autoexec": {
            "startup": false,
            "wait_interval": 0
          },
          "base_uri": "https://localhost:8080/",
          "height": 52
        },
        "outputId": "a3619356-64f7-4633-ef36-9d96b28e673b",
        "executionInfo": {
          "status": "ok",
          "timestamp": 1532294121002,
          "user_tz": 300,
          "elapsed": 2119,
          "user": {
            "displayName": "Jesus Solano",
            "photoUrl": "https://lh3.googleusercontent.com/a/default-user=s128",
            "userId": "111266076568687218605"
          }
        }
      },
      "cell_type": "code",
      "source": [
        "! ls"
      ],
      "execution_count": 20,
      "outputs": [
        {
          "output_type": "stream",
          "text": [
            "datalab\t\t dataTraining.csv\t       txtWord2Vec.h5\r\n",
            "dataTesting.csv  pred_genres_word2vec_TXT.csv\r\n"
          ],
          "name": "stdout"
        }
      ]
    },
    {
      "metadata": {
        "id": "bJivl9xlqwnz",
        "colab_type": "code",
        "colab": {
          "autoexec": {
            "startup": false,
            "wait_interval": 0
          }
        }
      },
      "cell_type": "code",
      "source": [
        ""
      ],
      "execution_count": 0,
      "outputs": []
    },
    {
      "metadata": {
        "id": "OJT9LT8Nq0MF",
        "colab_type": "code",
        "colab": {
          "autoexec": {
            "startup": false,
            "wait_interval": 0
          }
        }
      },
      "cell_type": "code",
      "source": [
        ""
      ],
      "execution_count": 0,
      "outputs": []
    }
  ]
}
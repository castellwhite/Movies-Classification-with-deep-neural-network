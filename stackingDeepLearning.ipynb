{
  "nbformat": 4,
  "nbformat_minor": 0,
  "metadata": {
    "colab": {
      "name": "stackingDeepLearning.ipynb",
      "version": "0.3.2",
      "provenance": [],
      "collapsed_sections": []
    },
    "kernelspec": {
      "name": "python3",
      "display_name": "Python 3"
    },
    "accelerator": "GPU"
  },
  "cells": [
    {
      "metadata": {
        "id": "0b64xdVOhfVm",
        "colab_type": "text"
      },
      "cell_type": "markdown",
      "source": [
        "\n",
        "# Deep Learning Course\n",
        "\n",
        " <img src=\"http://usblogs.pwc.com/emerging-technology/wp-content/uploads/2017/07/deep-learning-900x280.png\" >\n",
        "\n",
        "\n",
        "# Deep Learning - Stacking Model\n",
        "\n",
        "Developed by [Sergio Castelblanco](http://www.linkedin.com/in/sergio-castelblanco/) - [Jesús Solano](mailto:ja.solano588@uniandes.edu.co)\n",
        "\n",
        "\n",
        "version 2.0, July  2018"
      ]
    },
    {
      "metadata": {
        "id": "9Rt3SZd-iO0X",
        "colab_type": "code",
        "colab": {
          "base_uri": "https://localhost:8080/",
          "height": 34
        },
        "outputId": "1a6ee17c-8cc0-4971-fa64-4a3db0c43c36"
      },
      "cell_type": "code",
      "source": [
        "import pandas as pd\n",
        "import os\n",
        "import numpy as np\n",
        "from sklearn.preprocessing import MultiLabelBinarizer\n",
        "from sklearn.metrics import r2_score, roc_auc_score\n",
        "from sklearn.model_selection import train_test_split\n",
        "import matplotlib.pyplot as plt\n",
        "from skimage import io\n",
        "from tqdm import tqdm\n",
        "import os\n",
        "import livelossplot\n",
        "%matplotlib inline"
      ],
      "execution_count": 1,
      "outputs": [
        {
          "output_type": "stream",
          "text": [
            "Using TensorFlow backend.\n"
          ],
          "name": "stderr"
        }
      ]
    },
    {
      "metadata": {
        "id": "LK7N7c5SiRwX",
        "colab_type": "code",
        "colab": {}
      },
      "cell_type": "code",
      "source": [
        "# If datasets already exist do nothing. \n",
        "\n",
        "\n",
        "if not os.path.exists('dataTesting.csv'):\n",
        "  ! wget https://raw.githubusercontent.com/castellwhite/MoviesClassification/master/datasets/dataTesting.csv\n",
        "    \n",
        "if not os.path.exists('dataTraining.csv'):\n",
        "  ! wget https://raw.githubusercontent.com/castellwhite/MoviesClassification/master/datasets/dataTraining.csv\n",
        "    \n",
        "\n",
        "if not os.path.exists('images_resize_gray.zip'):\n",
        "  # Install the PyDrive wrapper & import libraries.\n",
        "  # This only needs to be done once per notebook.\n",
        "  !pip install -U -q PyDrive\n",
        "  from pydrive.auth import GoogleAuth\n",
        "  from pydrive.drive import GoogleDrive\n",
        "  from google.colab import auth\n",
        "  from oauth2client.client import GoogleCredentials\n",
        "\n",
        "  # Authenticate and create the PyDrive client.\n",
        "  # This only needs to be done once per notebook.\n",
        "  auth.authenticate_user()\n",
        "  gauth = GoogleAuth()\n",
        "  gauth.credentials = GoogleCredentials.get_application_default()\n",
        "  drive = GoogleDrive(gauth)\n",
        "\n",
        "  # Download a file based on its file ID(Grey).\n",
        "  #\n",
        "  # A file ID looks like: laggVyWshwcyP6kEI-y_W3P8D26sz\n",
        "  file_id = '1ZzSvFeCsLVW4hPWqyf6jW0rAvyQt1L7J'\n",
        "  downloaded = drive.CreateFile({'id': file_id})\n",
        "  downloaded.GetContentFile(downloaded['title'])\n",
        "  !unzip -q images_resize_gray.zip \n",
        "\n",
        "  # Download a file based on its file ID(Color).\n",
        "  #\n",
        "  # A file ID looks like: laggVyWshwcyP6kEI-y_W3P8D26sz\n",
        "  # id 160x256 95 : 1ZO1wPtxWfnthbm2NrXt4ca1ZvuxQWD_r\n",
        "  #file_id = '1hAOuBMKUJDiyaHz6fVkwwSAHkmEVNvmP'\n",
        "  \n",
        "  #file_id = '1ZO1wPtxWfnthbm2NrXt4ca1ZvuxQWD_r'\n",
        "  #downloaded = drive.CreateFile({'id': file_id})\n",
        "  #downloaded.GetContentFile(downloaded['title'])\n",
        "  #!unzip -q images_resize_color.zip \n",
        "\n",
        "dataTraining = pd.read_csv(\"dataTraining.csv\",index_col=0)\n",
        "dataTesting = pd.read_csv(\"dataTesting.csv\",index_col=0)"
      ],
      "execution_count": 0,
      "outputs": []
    },
    {
      "metadata": {
        "id": "jDmP4q4tiUEQ",
        "colab_type": "code",
        "colab": {
          "base_uri": "https://localhost:8080/",
          "height": 195
        },
        "outputId": "8698a873-c969-4934-a4e6-eca5a0cdf689"
      },
      "cell_type": "code",
      "source": [
        "dataTraining.head()"
      ],
      "execution_count": 3,
      "outputs": [
        {
          "output_type": "execute_result",
          "data": {
            "text/html": [
              "<div>\n",
              "<style scoped>\n",
              "    .dataframe tbody tr th:only-of-type {\n",
              "        vertical-align: middle;\n",
              "    }\n",
              "\n",
              "    .dataframe tbody tr th {\n",
              "        vertical-align: top;\n",
              "    }\n",
              "\n",
              "    .dataframe thead th {\n",
              "        text-align: right;\n",
              "    }\n",
              "</style>\n",
              "<table border=\"1\" class=\"dataframe\">\n",
              "  <thead>\n",
              "    <tr style=\"text-align: right;\">\n",
              "      <th></th>\n",
              "      <th>year</th>\n",
              "      <th>title</th>\n",
              "      <th>plot</th>\n",
              "      <th>genres</th>\n",
              "      <th>rating</th>\n",
              "    </tr>\n",
              "  </thead>\n",
              "  <tbody>\n",
              "    <tr>\n",
              "      <th>3107</th>\n",
              "      <td>2003</td>\n",
              "      <td>Most</td>\n",
              "      <td>most is the story of a single father who takes...</td>\n",
              "      <td>['Short', 'Drama']</td>\n",
              "      <td>8.0</td>\n",
              "    </tr>\n",
              "    <tr>\n",
              "      <th>900</th>\n",
              "      <td>2008</td>\n",
              "      <td>How to Be a Serial Killer</td>\n",
              "      <td>a serial killer decides to teach the secrets o...</td>\n",
              "      <td>['Comedy', 'Crime', 'Horror']</td>\n",
              "      <td>5.6</td>\n",
              "    </tr>\n",
              "    <tr>\n",
              "      <th>6724</th>\n",
              "      <td>1941</td>\n",
              "      <td>A Woman's Face</td>\n",
              "      <td>in sweden ,  a female blackmailer with a disfi...</td>\n",
              "      <td>['Drama', 'Film-Noir', 'Thriller']</td>\n",
              "      <td>7.2</td>\n",
              "    </tr>\n",
              "    <tr>\n",
              "      <th>4704</th>\n",
              "      <td>1954</td>\n",
              "      <td>Executive Suite</td>\n",
              "      <td>in a friday afternoon in new york ,  the presi...</td>\n",
              "      <td>['Drama']</td>\n",
              "      <td>7.4</td>\n",
              "    </tr>\n",
              "    <tr>\n",
              "      <th>2582</th>\n",
              "      <td>1990</td>\n",
              "      <td>Narrow Margin</td>\n",
              "      <td>in los angeles ,  the editor of a publishing h...</td>\n",
              "      <td>['Action', 'Crime', 'Thriller']</td>\n",
              "      <td>6.6</td>\n",
              "    </tr>\n",
              "  </tbody>\n",
              "</table>\n",
              "</div>"
            ],
            "text/plain": [
              "      year                      title  \\\n",
              "3107  2003                       Most   \n",
              "900   2008  How to Be a Serial Killer   \n",
              "6724  1941             A Woman's Face   \n",
              "4704  1954            Executive Suite   \n",
              "2582  1990              Narrow Margin   \n",
              "\n",
              "                                                   plot  \\\n",
              "3107  most is the story of a single father who takes...   \n",
              "900   a serial killer decides to teach the secrets o...   \n",
              "6724  in sweden ,  a female blackmailer with a disfi...   \n",
              "4704  in a friday afternoon in new york ,  the presi...   \n",
              "2582  in los angeles ,  the editor of a publishing h...   \n",
              "\n",
              "                                  genres  rating  \n",
              "3107                  ['Short', 'Drama']     8.0  \n",
              "900        ['Comedy', 'Crime', 'Horror']     5.6  \n",
              "6724  ['Drama', 'Film-Noir', 'Thriller']     7.2  \n",
              "4704                           ['Drama']     7.4  \n",
              "2582     ['Action', 'Crime', 'Thriller']     6.6  "
            ]
          },
          "metadata": {
            "tags": []
          },
          "execution_count": 3
        }
      ]
    },
    {
      "metadata": {
        "id": "y2tkO3k6iVl3",
        "colab_type": "code",
        "colab": {
          "base_uri": "https://localhost:8080/",
          "height": 195
        },
        "outputId": "6fc4ae27-0ac6-42d9-b0f5-c561ffe69d8b"
      },
      "cell_type": "code",
      "source": [
        "dataTesting.head()"
      ],
      "execution_count": 4,
      "outputs": [
        {
          "output_type": "execute_result",
          "data": {
            "text/html": [
              "<div>\n",
              "<style scoped>\n",
              "    .dataframe tbody tr th:only-of-type {\n",
              "        vertical-align: middle;\n",
              "    }\n",
              "\n",
              "    .dataframe tbody tr th {\n",
              "        vertical-align: top;\n",
              "    }\n",
              "\n",
              "    .dataframe thead th {\n",
              "        text-align: right;\n",
              "    }\n",
              "</style>\n",
              "<table border=\"1\" class=\"dataframe\">\n",
              "  <thead>\n",
              "    <tr style=\"text-align: right;\">\n",
              "      <th></th>\n",
              "      <th>year</th>\n",
              "      <th>title</th>\n",
              "      <th>plot</th>\n",
              "    </tr>\n",
              "  </thead>\n",
              "  <tbody>\n",
              "    <tr>\n",
              "      <th>1</th>\n",
              "      <td>1999</td>\n",
              "      <td>Message in a Bottle</td>\n",
              "      <td>who meets by fate ,  shall be sealed by fate ....</td>\n",
              "    </tr>\n",
              "    <tr>\n",
              "      <th>4</th>\n",
              "      <td>1978</td>\n",
              "      <td>Midnight Express</td>\n",
              "      <td>the true story of billy hayes ,  an american c...</td>\n",
              "    </tr>\n",
              "    <tr>\n",
              "      <th>5</th>\n",
              "      <td>1996</td>\n",
              "      <td>Primal Fear</td>\n",
              "      <td>martin vail left the chicago da ' s office to ...</td>\n",
              "    </tr>\n",
              "    <tr>\n",
              "      <th>6</th>\n",
              "      <td>1950</td>\n",
              "      <td>Crisis</td>\n",
              "      <td>husband and wife americans dr .  eugene and mr...</td>\n",
              "    </tr>\n",
              "    <tr>\n",
              "      <th>7</th>\n",
              "      <td>1959</td>\n",
              "      <td>The Tingler</td>\n",
              "      <td>the coroner and scientist dr .  warren chapin ...</td>\n",
              "    </tr>\n",
              "  </tbody>\n",
              "</table>\n",
              "</div>"
            ],
            "text/plain": [
              "   year                title  \\\n",
              "1  1999  Message in a Bottle   \n",
              "4  1978     Midnight Express   \n",
              "5  1996          Primal Fear   \n",
              "6  1950               Crisis   \n",
              "7  1959          The Tingler   \n",
              "\n",
              "                                                plot  \n",
              "1  who meets by fate ,  shall be sealed by fate ....  \n",
              "4  the true story of billy hayes ,  an american c...  \n",
              "5  martin vail left the chicago da ' s office to ...  \n",
              "6  husband and wife americans dr .  eugene and mr...  \n",
              "7  the coroner and scientist dr .  warren chapin ...  "
            ]
          },
          "metadata": {
            "tags": []
          },
          "execution_count": 4
        }
      ]
    },
    {
      "metadata": {
        "id": "u5Coeua4hfYO",
        "colab_type": "text"
      },
      "cell_type": "markdown",
      "source": [
        "## Read Images"
      ]
    },
    {
      "metadata": {
        "id": "qOTJzwPlibtu",
        "colab_type": "code",
        "colab": {
          "base_uri": "https://localhost:8080/",
          "height": 286
        },
        "outputId": "70250e02-4191-4195-83f1-1e649e59335e"
      },
      "cell_type": "code",
      "source": [
        "# Show an image example - Gray .\n",
        "image = io.imread(os.path.join('images_resize_gray', str(dataTraining.index[124]) + '_resize_gray.jpeg'))\n",
        "\n",
        "fig, ax = plt.subplots(nrows=1, ncols=1)\n",
        "ax.imshow(image, cmap='gray')"
      ],
      "execution_count": 5,
      "outputs": [
        {
          "output_type": "execute_result",
          "data": {
            "text/plain": [
              "<matplotlib.image.AxesImage at 0x7f0267ec3198>"
            ]
          },
          "metadata": {
            "tags": []
          },
          "execution_count": 5
        },
        {
          "output_type": "display_data",
          "data": {
            "image/png": "[encoded data removed]",
            "text/plain": [
              "<matplotlib.figure.Figure at 0x7f0268186710>"
            ]
          },
          "metadata": {
            "tags": []
          }
        }
      ]
    },
    {
      "metadata": {
        "id": "Osnmn7G7AK1L",
        "colab_type": "code",
        "colab": {
          "base_uri": "https://localhost:8080/",
          "height": 50
        },
        "outputId": "e68c2914-d58b-4725-a9f4-3388a968c111"
      },
      "cell_type": "code",
      "source": [
        "# Load all gray images.\n",
        "\n",
        "from skimage.transform import resize\n",
        "\n",
        "print('\\nLoading images for traning...')\n",
        "images_training = []\n",
        "for i in dataTraining.index:\n",
        "    img=io.imread(os.path.join('images_resize_gray', str(i) + '_resize_gray.jpeg'))\n",
        "    img = resize(img, (80, 128), mode='reflect')\n",
        "    img = [img] * 3\n",
        "    images_training.append(img)\n",
        "    \n",
        "trainingImagesGray = np.asarray(images_training)"
      ],
      "execution_count": 6,
      "outputs": [
        {
          "output_type": "stream",
          "text": [
            "\n",
            "Loading images for traning...\n"
          ],
          "name": "stdout"
        }
      ]
    },
    {
      "metadata": {
        "id": "GQtj9KEm5Lyy",
        "colab_type": "code",
        "colab": {
          "base_uri": "https://localhost:8080/",
          "height": 54
        },
        "outputId": "9b6f5f15-13a3-4aa3-f0f7-f3d5e48297a8"
      },
      "cell_type": "code",
      "source": [
        "'''\n",
        "\n",
        "from skimage.transform import resize\n",
        "print('\\nLoading images for testing...')\n",
        "images_testing = []\n",
        "for i in dataTesting.index:\n",
        "    img= io.imread(os.path.join('images_resize_gray', str(i) + '_resize_gray.jpeg'))\n",
        "    img = resize(img, (80, 128), mode='reflect')\n",
        "    img = [img] * 3\n",
        "    images_testing.append(img)\n",
        "\n",
        "testingImagesGray = np.asarray(images_testing)\n",
        "\n",
        "'''"
      ],
      "execution_count": 7,
      "outputs": [
        {
          "output_type": "execute_result",
          "data": {
            "text/plain": [
              "\"\\n\\nfrom skimage.transform import resize\\nprint('\\nLoading images for testing...')\\nimages_testing = []\\nfor i in dataTesting.index:\\n    img= io.imread(os.path.join('images_resize_gray', str(i) + '_resize_gray.jpeg'))\\n    img = resize(img, (80, 128), mode='reflect')\\n    img = [img] * 3\\n    images_testing.append(img)\\n\\ntestingImagesGray = np.asarray(images_testing)\\n\\n\""
            ]
          },
          "metadata": {
            "tags": []
          },
          "execution_count": 7
        }
      ]
    },
    {
      "metadata": {
        "id": "ICFU5KjDD1p0",
        "colab_type": "code",
        "colab": {}
      },
      "cell_type": "code",
      "source": [
        "\n",
        "trainingImagesGray = np.rollaxis(trainingImagesGray, 1, 4)\n",
        "\n"
      ],
      "execution_count": 0,
      "outputs": []
    },
    {
      "metadata": {
        "id": "-CaiYo7-D_lA",
        "colab_type": "code",
        "colab": {
          "base_uri": "https://localhost:8080/",
          "height": 34
        },
        "outputId": "c7cc7a01-46bb-46a0-b734-b1f001163443"
      },
      "cell_type": "code",
      "source": [
        "'''\n",
        "\n",
        "testingImagesGray = np.rollaxis(testingImagesGray, 1, 4)\n",
        "\n",
        "'''"
      ],
      "execution_count": 9,
      "outputs": [
        {
          "output_type": "execute_result",
          "data": {
            "text/plain": [
              "'\\n\\ntestingImagesGray = np.rollaxis(testingImagesGray, 1, 4)\\n\\n'"
            ]
          },
          "metadata": {
            "tags": []
          },
          "execution_count": 9
        }
      ]
    },
    {
      "metadata": {
        "id": "dAiyLv5AG4Dm",
        "colab_type": "code",
        "colab": {}
      },
      "cell_type": "code",
      "source": [
        "# Get labels for each image. \n",
        "\n",
        "dataTraining['genres'] = dataTraining['genres'].map(lambda x: eval(x))\n",
        "le = MultiLabelBinarizer()\n",
        "yGenres = le.fit_transform(dataTraining['genres'])"
      ],
      "execution_count": 0,
      "outputs": []
    },
    {
      "metadata": {
        "id": "51e8jNzLEnF-",
        "colab_type": "text"
      },
      "cell_type": "markdown",
      "source": [
        "## Images Preprocessing - VGG"
      ]
    },
    {
      "metadata": {
        "id": "TI2ZNoF85sjC",
        "colab_type": "code",
        "colab": {}
      },
      "cell_type": "code",
      "source": [
        "from keras.applications import VGG16\n",
        "from skimage.transform import resize\n",
        "\n",
        "vgg16 = VGG16(include_top=False, weights='imagenet')\n",
        "\n",
        "trainingImagesVGG = vgg16.predict(trainingImagesGray)\n",
        "\n",
        "# Creates datasets for training and testing.   \n",
        "xTrainImaGrayVGG, xValidationImaGrayVGG, yTrainImaGrayVGG, yValidationImaGrayVGG = train_test_split(trainingImagesVGG, yGenres, test_size=0.20, random_state=22)"
      ],
      "execution_count": 0,
      "outputs": []
    },
    {
      "metadata": {
        "id": "LDsHBKBOoiYf",
        "colab_type": "text"
      },
      "cell_type": "markdown",
      "source": [
        "## Text Preproccesing - Word2Vec "
      ]
    },
    {
      "metadata": {
        "id": "-jxckyZsizqG",
        "colab_type": "code",
        "colab": {}
      },
      "cell_type": "code",
      "source": [
        "# Load functions and prerrequisites of word2vec.\n",
        "\n",
        "\n",
        "\n",
        "import tensorflow_hub as hub\n",
        "import tensorflow as tf\n",
        "import numpy as np\n",
        "\n",
        "\n",
        "hub_model = \"https://tfhub.dev/google/Wiki-words-250/1\"\n",
        "\n",
        "\n",
        "def create_text_embedding(hub_model, input_sentences):\n",
        "        \n",
        "    SEQ_LENGTH = max(map(len, input_sentences))\n",
        "    EMBEDDING_DIM = 250\n",
        "\n",
        "    with tf.Graph().as_default() as g:\n",
        "\n",
        "        embed_layer = hub.Module(hub_model,\n",
        "        trainable=False, name='text_embedding')\n",
        "\n",
        "        sentences = tf.placeholder(dtype=tf.string, shape=(None, SEQ_LENGTH))\n",
        "        batch_size = tf.shape(sentences)[0]\n",
        "\n",
        "        flat_sentences = tf.reshape(sentences, [-1])\n",
        "\n",
        "        embeddings = embed_layer(flat_sentences)\n",
        "\n",
        "        sentence_embedding = tf.reshape(embeddings, \n",
        "                                      [batch_size, SEQ_LENGTH, EMBEDDING_DIM])\n",
        "\n",
        "        with tf.Session(graph=g) as sess:\n",
        "            sess.run(tf.global_variables_initializer())\n",
        "            sess.run(tf.tables_initializer())\n",
        "\n",
        "            output = sess.run(sentence_embedding, feed_dict={\n",
        "                sentences: input_sentences\n",
        "            })\n",
        "            \n",
        "    return output"
      ],
      "execution_count": 0,
      "outputs": []
    },
    {
      "metadata": {
        "id": "gAv5JY-GopvE",
        "colab_type": "code",
        "colab": {}
      },
      "cell_type": "code",
      "source": [
        "# Get plots and lables for each plot.\n",
        "\n",
        "xPlot=dataTraining['plot']\n",
        "xPlotTest = dataTesting['plot']\n"
      ],
      "execution_count": 0,
      "outputs": []
    },
    {
      "metadata": {
        "id": "yBy7FZdBowRW",
        "colab_type": "code",
        "colab": {
          "base_uri": "https://localhost:8080/",
          "height": 34
        },
        "outputId": "44b0c8ae-dd04-4288-eabc-42ec1bdc4452"
      },
      "cell_type": "code",
      "source": [
        "# Converts a text to a sequence of words (or tokens)\n",
        "\n",
        "from keras.preprocessing.text import text_to_word_sequence\n",
        "from keras.preprocessing.sequence import pad_sequences\n",
        "\n",
        "\n",
        "maxWords = 200\n",
        "\n",
        "xTokenTrain = [text_to_word_sequence(x) for x in xPlot.tolist()]\n",
        "xTokenTrain = pad_sequences(xTokenTrain, dtype='str', value=0, maxlen=maxWords)\n",
        "\n",
        "xTokenTest = [text_to_word_sequence(x) for x in xPlotTest.tolist()]\n",
        "xTokenTest = pad_sequences(xTokenTest, dtype='str', value=0, maxlen=maxWords)\n",
        "\n",
        "xTokenTrain.shape"
      ],
      "execution_count": 15,
      "outputs": [
        {
          "output_type": "execute_result",
          "data": {
            "text/plain": [
              "(7895, 200)"
            ]
          },
          "metadata": {
            "tags": []
          },
          "execution_count": 15
        }
      ]
    },
    {
      "metadata": {
        "id": "BdRTe5_So1tG",
        "colab_type": "code",
        "colab": {
          "base_uri": "https://localhost:8080/",
          "height": 87
        },
        "outputId": "7191623e-c688-425a-82fa-6f456e3243e8"
      },
      "cell_type": "code",
      "source": [
        "# Apply Word2Vec\n",
        "\n",
        "xEmbeddingTrain = create_text_embedding(hub_model, xTokenTrain)\n",
        "\n",
        "xEmbeddingTrain.shape"
      ],
      "execution_count": 16,
      "outputs": [
        {
          "output_type": "stream",
          "text": [
            "INFO:tensorflow:Using /tmp/tfhub_modules to cache modules.\n",
            "INFO:tensorflow:Initialize variable text_embedding/embeddings/part_0:0,text_embedding/embeddings/part_1:0 from checkpoint b'/tmp/tfhub_modules/1e7e72950396d90315d3d9c57eddf5da44d4dca2/variables/variables' with embeddings\n"
          ],
          "name": "stdout"
        },
        {
          "output_type": "execute_result",
          "data": {
            "text/plain": [
              "(7895, 200, 250)"
            ]
          },
          "metadata": {
            "tags": []
          },
          "execution_count": 16
        }
      ]
    },
    {
      "metadata": {
        "id": "QeCbWzBvo5O4",
        "colab_type": "code",
        "colab": {
          "base_uri": "https://localhost:8080/",
          "height": 70
        },
        "outputId": "555e89b5-fe01-4073-8289-fa5634a39a99"
      },
      "cell_type": "code",
      "source": [
        "'''\n",
        "# Apply Word2Vec to test.\n",
        "\n",
        "xEmbeddingTest = create_text_embedding(hub_model, xTokenTest)\n",
        "\n",
        "xEmbeddingTest.shape\n",
        "\n",
        "'''"
      ],
      "execution_count": 22,
      "outputs": [
        {
          "output_type": "stream",
          "text": [
            "INFO:tensorflow:Initialize variable text_embedding/embeddings/part_0:0,text_embedding/embeddings/part_1:0 from checkpoint b'/tmp/tfhub_modules/1e7e72950396d90315d3d9c57eddf5da44d4dca2/variables/variables' with embeddings\n"
          ],
          "name": "stdout"
        },
        {
          "output_type": "execute_result",
          "data": {
            "text/plain": [
              "(3383, 200, 250)"
            ]
          },
          "metadata": {
            "tags": []
          },
          "execution_count": 22
        }
      ]
    },
    {
      "metadata": {
        "id": "L6S32RkEpF3n",
        "colab_type": "code",
        "colab": {
          "base_uri": "https://localhost:8080/",
          "height": 34
        },
        "outputId": "6da1e6ef-6ddf-4f11-be99-83a07198b453"
      },
      "cell_type": "code",
      "source": [
        "# Creates datasets for training and testing.   \n",
        "xTrainTxt, xValidationTxt, yTrainTxt, yValidationTxt = train_test_split(xEmbeddingTrain, yGenres, test_size=0.20, random_state=22)\n",
        "xTrainTxt.shape"
      ],
      "execution_count": 17,
      "outputs": [
        {
          "output_type": "execute_result",
          "data": {
            "text/plain": [
              "(6316, 200, 250)"
            ]
          },
          "metadata": {
            "tags": []
          },
          "execution_count": 17
        }
      ]
    },
    {
      "metadata": {
        "id": "cItbCc40jd0O",
        "colab_type": "text"
      },
      "cell_type": "markdown",
      "source": [
        "## Stacking Model"
      ]
    },
    {
      "metadata": {
        "id": "CsZ2yizfjZD2",
        "colab_type": "code",
        "colab": {
          "base_uri": "https://localhost:8080/",
          "height": 554
        },
        "outputId": "7c5e1f8f-62ef-45d5-be17-e1fbecf48edf"
      },
      "cell_type": "code",
      "source": [
        "from keras.models import load_model\n",
        "from keras.utils.data_utils import get_file\n",
        "from keras import backend as K\n",
        "from keras.models import model_from_config, Sequential\n",
        "\n",
        "\n",
        "! wget \"https://github.com/castellwhite/MoviesClassification/raw/master/nnTrained/imaNNtrainedGrayVGG.h5\"\n",
        "\n",
        "! wget \"https://github.com/castellwhite/MoviesClassification/raw/master/nnTrained/txtWord2Vec2.h5\""
      ],
      "execution_count": 18,
      "outputs": [
        {
          "output_type": "stream",
          "text": [
            "--2018-07-23 17:08:30--  https://github.com/castellwhite/MoviesClassification/raw/master/nnTrained/imaNNtrainedGrayVGG.h5\n",
            "Resolving github.com (github.com)... 192.30.253.113, 192.30.253.112\n",
            "Connecting to github.com (github.com)|192.30.253.113|:443... connected.\n",
            "HTTP request sent, awaiting response... 302 Found\n",
            "Location: https://raw.githubusercontent.com/castellwhite/MoviesClassification/master/nnTrained/imaNNtrainedGrayVGG.h5 [following]\n",
            "--2018-07-23 17:08:31--  https://raw.githubusercontent.com/castellwhite/MoviesClassification/master/nnTrained/imaNNtrainedGrayVGG.h5\n",
            "Resolving raw.githubusercontent.com (raw.githubusercontent.com)... 151.101.0.133, 151.101.64.133, 151.101.128.133, ...\n",
            "Connecting to raw.githubusercontent.com (raw.githubusercontent.com)|151.101.0.133|:443... connected.\n",
            "HTTP request sent, awaiting response... 200 OK\n",
            "Length: 25374264 (24M) [application/octet-stream]\n",
            "Saving to: ‘imaNNtrainedGrayVGG.h5.3’\n",
            "\n",
            "imaNNtrainedGrayVGG 100%[===================>]  24.20M  --.-KB/s    in 0.1s    \n",
            "\n",
            "2018-07-23 17:08:32 (196 MB/s) - ‘imaNNtrainedGrayVGG.h5.3’ saved [25374264/25374264]\n",
            "\n",
            "--2018-07-23 17:08:33--  https://github.com/castellwhite/MoviesClassification/raw/master/nnTrained/txtWord2Vec2.h5\n",
            "Resolving github.com (github.com)... 192.30.253.113, 192.30.253.112\n",
            "Connecting to github.com (github.com)|192.30.253.113|:443... connected.\n",
            "HTTP request sent, awaiting response... 302 Found\n",
            "Location: https://raw.githubusercontent.com/castellwhite/MoviesClassification/master/nnTrained/txtWord2Vec2.h5 [following]\n",
            "--2018-07-23 17:08:34--  https://raw.githubusercontent.com/castellwhite/MoviesClassification/master/nnTrained/txtWord2Vec2.h5\n",
            "Resolving raw.githubusercontent.com (raw.githubusercontent.com)... 151.101.0.133, 151.101.64.133, 151.101.128.133, ...\n",
            "Connecting to raw.githubusercontent.com (raw.githubusercontent.com)|151.101.0.133|:443... connected.\n",
            "HTTP request sent, awaiting response... 200 OK\n",
            "Length: 1017672 (994K) [application/octet-stream]\n",
            "Saving to: ‘txtWord2Vec2.h5.1’\n",
            "\n",
            "txtWord2Vec2.h5.1   100%[===================>] 993.82K  --.-KB/s    in 0.03s   \n",
            "\n",
            "2018-07-23 17:08:34 (35.3 MB/s) - ‘txtWord2Vec2.h5.1’ saved [1017672/1017672]\n",
            "\n"
          ],
          "name": "stdout"
        }
      ]
    },
    {
      "metadata": {
        "id": "51AvSOKuj0K1",
        "colab_type": "code",
        "colab": {}
      },
      "cell_type": "code",
      "source": [
        "# Load pretrained models.\n",
        "\n",
        "from keras.models import load_model\n",
        "\n",
        "Model_Ima= load_model('imaNNtrainedGrayVGG.h5')\n",
        "Model_Text= load_model('txtWord2Vec2.h5')"
      ],
      "execution_count": 0,
      "outputs": []
    },
    {
      "metadata": {
        "id": "WoNiB9jW3rhc",
        "colab_type": "code",
        "colab": {}
      },
      "cell_type": "code",
      "source": [
        "# Load predictions of trained models. \n",
        "\n",
        "predIma = Model_Ima.predict(xTrainImaGrayVGG)\n",
        "predText =Model_Text.predict(xTrainTxt)\n",
        "\n",
        "predImaValidation = Model_Ima.predict(xValidationImaGrayVGG)\n",
        "predTxtValidation =Model_Text.predict(xValidationTxt)"
      ],
      "execution_count": 0,
      "outputs": []
    },
    {
      "metadata": {
        "id": "yKaMl0mn38-4",
        "colab_type": "code",
        "colab": {}
      },
      "cell_type": "code",
      "source": [
        "import numpy as np\n",
        "\n",
        "stackTrain =  np.c_[predIma,predText]\n",
        "stackValidation = np.c_[predImaValidation,predTxtValidation]"
      ],
      "execution_count": 0,
      "outputs": []
    },
    {
      "metadata": {
        "id": "M37qu-rTIBMm",
        "colab_type": "code",
        "colab": {}
      },
      "cell_type": "code",
      "source": [
        "from keras.models import Sequential\n",
        "from keras.layers import Conv2D, MaxPooling2D\n",
        "from keras.layers import Activation, Dropout, Flatten, Dense ,BatchNormalization\n",
        "from keras import backend as K\n",
        "from keras import optimizers as opts\n",
        "from keras.callbacks import History\n",
        "from livelossplot import PlotLossesKeras"
      ],
      "execution_count": 0,
      "outputs": []
    },
    {
      "metadata": {
        "id": "RTQMunjD4UqV",
        "colab_type": "code",
        "colab": {
          "base_uri": "https://localhost:8080/",
          "height": 326
        },
        "outputId": "faf4830e-399f-4b50-dbdd-3dba09dd5d3d"
      },
      "cell_type": "code",
      "source": [
        "# We build a neural network whichs recieves as input a vector of probabilites of Image and Text models. Then the input is (numbersOfSamples, output probabilities TXT + output probabilities IMA )\n",
        "\n",
        "from keras import backend as K\n",
        "K.clear_session()\n",
        "\n",
        "outputClasses= 24\n",
        "\n",
        "mixModel = Sequential()\n",
        "mixModel.add(Dense(512, input_shape=(stackTrain.shape[1],)))\n",
        "mixModel.add(Activation('selu'))\n",
        "mixModel.add(BatchNormalization())\n",
        "mixModel.add(Dropout(0.5))\n",
        "mixModel.add(Dense(outputClasses, activation='sigmoid'))\n",
        "mixModel.summary()\n",
        "\n",
        "mixModel.compile(loss='categorical_crossentropy',\n",
        "              optimizer=opts.adam(lr=0.001), \n",
        "                 metrics=[\"accuracy\"])\n",
        "\n",
        "batch_size = 2000\n",
        "\n",
        "mixModel.fit(stackTrain, yTrainTxt, \n",
        "             epochs = 500,\n",
        "             verbose = 2,\n",
        "             batch_size=batch_size, \n",
        "             validation_split=0.1,\n",
        "             callbacks=[PlotLossesKeras()])\n",
        "\n",
        "mixModel.save('mixNNtrained_Stack.h5')\n"
      ],
      "execution_count": 35,
      "outputs": [
        {
          "output_type": "display_data",
          "data": {
            "image/png": "[encoded data removed]",
            "text/plain": [
              "<matplotlib.figure.Figure at 0x7f0225ec74e0>"
            ]
          },
          "metadata": {
            "tags": []
          }
        }
      ]
    },
    {
      "metadata": {
        "id": "R-l7zSx7Igkg",
        "colab_type": "code",
        "colab": {
          "base_uri": "https://localhost:8080/",
          "height": 118
        },
        "outputId": "75d22d17-6bef-44f6-ce36-6956b10772d4"
      },
      "cell_type": "code",
      "source": [
        "# Scoring model for grey images.\n",
        "\n",
        "from sklearn.metrics import roc_curve, auc, roc_auc_score\n",
        "\n",
        "yPredGenreMix = mixModel.predict(stackValidation)\n",
        "imaAUC = roc_auc_score(yValidationTxt, yPredGenreMix, average='macro')\n",
        "\n",
        "# Perform the neural network over the test set. \n",
        "\n",
        "print('Evaluating the test set...')\n",
        "score = mixModel.evaluate(stackValidation, yValidationImaGrayVGG)\n",
        "\n",
        "print('\\nTest score:', score[0])\n",
        "print('Test accuracy:', score[1])\n",
        "print('Model AUC is: ', imaAUC )"
      ],
      "execution_count": 36,
      "outputs": [
        {
          "output_type": "stream",
          "text": [
            "Evaluating the test set...\n",
            "1579/1579 [==============================] - 0s 81us/step\n",
            "\n",
            "Test score: 17.177067993410482\n",
            "Test accuracy: 0.29765674483179666\n",
            "Model AUC is:  0.7437173226798645\n"
          ],
          "name": "stdout"
        }
      ]
    },
    {
      "metadata": {
        "id": "R9YiUiTrLIXC",
        "colab_type": "code",
        "colab": {}
      },
      "cell_type": "code",
      "source": [
        "from google.colab import files\n",
        "files.download('mixNNtrained_Stack.h5')"
      ],
      "execution_count": 0,
      "outputs": []
    },
    {
      "metadata": {
        "id": "r1BlE49EshtW",
        "colab_type": "code",
        "colab": {
          "base_uri": "https://localhost:8080/",
          "height": 84
        },
        "outputId": "4111e677-094f-4235-d5e9-9d921c24fb8a"
      },
      "cell_type": "code",
      "source": [
        "!ls"
      ],
      "execution_count": 28,
      "outputs": [
        {
          "output_type": "stream",
          "text": [
            "datalab\t\t    images_resize_gray.zip    imaNNtrainedGrayVGG.h5?raw=true\r\n",
            "dataTesting.csv     imaNNtrainedGrayVGG.h5    txtWord2Vec.h5\r\n",
            "dataTraining.csv    imaNNtrainedGrayVGG.h5.1  txtWord2Vec.h5.1\r\n",
            "images_resize_gray  imaNNtrainedGrayVGG.h5.2\r\n"
          ],
          "name": "stdout"
        }
      ]
    },
    {
      "metadata": {
        "id": "zGBFRgeWtUZg",
        "colab_type": "code",
        "colab": {}
      },
      "cell_type": "code",
      "source": [
        "!pip3 install tqdm\n",
        "!pip3 install livelossplot"
      ],
      "execution_count": 0,
      "outputs": []
    }
  ]
}
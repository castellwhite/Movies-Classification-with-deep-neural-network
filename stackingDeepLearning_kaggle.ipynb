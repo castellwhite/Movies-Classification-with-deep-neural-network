{
  "nbformat": 4,
  "nbformat_minor": 0,
  "metadata": {
    "colab": {
      "name": "stackingDeepLearning_kaggle.ipynb",
      "version": "0.3.2",
      "provenance": [],
      "collapsed_sections": []
    },
    "kernelspec": {
      "name": "python3",
      "display_name": "Python 3"
    },
    "accelerator": "GPU"
  },
  "cells": [
    {
      "metadata": {
        "id": "0b64xdVOhfVm",
        "colab_type": "text"
      },
      "cell_type": "markdown",
      "source": [
        "\n",
        "# Deep Learning Course\n",
        "\n",
        " <img src=\"http://usblogs.pwc.com/emerging-technology/wp-content/uploads/2017/07/deep-learning-900x280.png\" >\n",
        "\n",
        "\n",
        "# Deep Learning - Stacking Model Test\n",
        "\n",
        "Developed by [Sergio Castelblanco](http://www.linkedin.com/in/sergio-castelblanco/) - [Jesús Solano](mailto:ja.solano588@uniandes.edu.co)\n",
        "\n",
        "\n",
        "version 2.0, July  2018"
      ]
    },
    {
      "metadata": {
        "id": "9Rt3SZd-iO0X",
        "colab_type": "code",
        "colab": {
          "base_uri": "https://localhost:8080/",
          "height": 34
        },
        "outputId": "d28ca741-fc71-4883-9a96-d814d58ef118"
      },
      "cell_type": "code",
      "source": [
        "import pandas as pd\n",
        "import os\n",
        "import numpy as np\n",
        "from sklearn.preprocessing import MultiLabelBinarizer\n",
        "from sklearn.metrics import r2_score, roc_auc_score\n",
        "from sklearn.model_selection import train_test_split\n",
        "import matplotlib.pyplot as plt\n",
        "from skimage import io\n",
        "from tqdm import tqdm\n",
        "import os\n",
        "import livelossplot\n",
        "%matplotlib inline"
      ],
      "execution_count": 1,
      "outputs": [
        {
          "output_type": "stream",
          "text": [
            "Using TensorFlow backend.\n"
          ],
          "name": "stderr"
        }
      ]
    },
    {
      "metadata": {
        "id": "LK7N7c5SiRwX",
        "colab_type": "code",
        "colab": {}
      },
      "cell_type": "code",
      "source": [
        "# If datasets already exist do nothing. \n",
        "\n",
        "\n",
        "if not os.path.exists('dataTesting.csv'):\n",
        "  ! wget https://raw.githubusercontent.com/castellwhite/MoviesClassification/master/datasets/dataTesting.csv\n",
        "    \n",
        "if not os.path.exists('dataTraining.csv'):\n",
        "  ! wget https://raw.githubusercontent.com/castellwhite/MoviesClassification/master/datasets/dataTraining.csv\n",
        "    \n",
        "\n",
        "if not os.path.exists('images_resize_gray.zip'):\n",
        "  # Install the PyDrive wrapper & import libraries.\n",
        "  # This only needs to be done once per notebook.\n",
        "  !pip install -U -q PyDrive\n",
        "  from pydrive.auth import GoogleAuth\n",
        "  from pydrive.drive import GoogleDrive\n",
        "  from google.colab import auth\n",
        "  from oauth2client.client import GoogleCredentials\n",
        "\n",
        "  # Authenticate and create the PyDrive client.\n",
        "  # This only needs to be done once per notebook.\n",
        "  auth.authenticate_user()\n",
        "  gauth = GoogleAuth()\n",
        "  gauth.credentials = GoogleCredentials.get_application_default()\n",
        "  drive = GoogleDrive(gauth)\n",
        "\n",
        "  # Download a file based on its file ID(Grey).\n",
        "  #\n",
        "  # A file ID looks like: laggVyWshwcyP6kEI-y_W3P8D26sz\n",
        "  file_id = '1ZzSvFeCsLVW4hPWqyf6jW0rAvyQt1L7J'\n",
        "  downloaded = drive.CreateFile({'id': file_id})\n",
        "  downloaded.GetContentFile(downloaded['title'])\n",
        "  !unzip -q images_resize_gray.zip \n",
        "\n",
        "  # Download a file based on its file ID(Color).\n",
        "  #\n",
        "  # A file ID looks like: laggVyWshwcyP6kEI-y_W3P8D26sz\n",
        "  # id 160x256 95 : 1ZO1wPtxWfnthbm2NrXt4ca1ZvuxQWD_r\n",
        "  #file_id = '1hAOuBMKUJDiyaHz6fVkwwSAHkmEVNvmP'\n",
        "  \n",
        "  #file_id = '1ZO1wPtxWfnthbm2NrXt4ca1ZvuxQWD_r'\n",
        "  #downloaded = drive.CreateFile({'id': file_id})\n",
        "  #downloaded.GetContentFile(downloaded['title'])\n",
        "  #!unzip -q images_resize_color.zip \n",
        "\n",
        "dataTraining = pd.read_csv(\"dataTraining.csv\",index_col=0)\n",
        "dataTesting = pd.read_csv(\"dataTesting.csv\",index_col=0)"
      ],
      "execution_count": 0,
      "outputs": []
    },
    {
      "metadata": {
        "id": "jDmP4q4tiUEQ",
        "colab_type": "code",
        "colab": {
          "base_uri": "https://localhost:8080/",
          "height": 195
        },
        "outputId": "b4c59bc2-eeb1-481c-b097-8db6cfffba5e"
      },
      "cell_type": "code",
      "source": [
        "dataTraining.head()"
      ],
      "execution_count": 3,
      "outputs": [
        {
          "output_type": "execute_result",
          "data": {
            "text/html": [
              "<div>\n",
              "<style scoped>\n",
              "    .dataframe tbody tr th:only-of-type {\n",
              "        vertical-align: middle;\n",
              "    }\n",
              "\n",
              "    .dataframe tbody tr th {\n",
              "        vertical-align: top;\n",
              "    }\n",
              "\n",
              "    .dataframe thead th {\n",
              "        text-align: right;\n",
              "    }\n",
              "</style>\n",
              "<table border=\"1\" class=\"dataframe\">\n",
              "  <thead>\n",
              "    <tr style=\"text-align: right;\">\n",
              "      <th></th>\n",
              "      <th>year</th>\n",
              "      <th>title</th>\n",
              "      <th>plot</th>\n",
              "      <th>genres</th>\n",
              "      <th>rating</th>\n",
              "    </tr>\n",
              "  </thead>\n",
              "  <tbody>\n",
              "    <tr>\n",
              "      <th>3107</th>\n",
              "      <td>2003</td>\n",
              "      <td>Most</td>\n",
              "      <td>most is the story of a single father who takes...</td>\n",
              "      <td>['Short', 'Drama']</td>\n",
              "      <td>8.0</td>\n",
              "    </tr>\n",
              "    <tr>\n",
              "      <th>900</th>\n",
              "      <td>2008</td>\n",
              "      <td>How to Be a Serial Killer</td>\n",
              "      <td>a serial killer decides to teach the secrets o...</td>\n",
              "      <td>['Comedy', 'Crime', 'Horror']</td>\n",
              "      <td>5.6</td>\n",
              "    </tr>\n",
              "    <tr>\n",
              "      <th>6724</th>\n",
              "      <td>1941</td>\n",
              "      <td>A Woman's Face</td>\n",
              "      <td>in sweden ,  a female blackmailer with a disfi...</td>\n",
              "      <td>['Drama', 'Film-Noir', 'Thriller']</td>\n",
              "      <td>7.2</td>\n",
              "    </tr>\n",
              "    <tr>\n",
              "      <th>4704</th>\n",
              "      <td>1954</td>\n",
              "      <td>Executive Suite</td>\n",
              "      <td>in a friday afternoon in new york ,  the presi...</td>\n",
              "      <td>['Drama']</td>\n",
              "      <td>7.4</td>\n",
              "    </tr>\n",
              "    <tr>\n",
              "      <th>2582</th>\n",
              "      <td>1990</td>\n",
              "      <td>Narrow Margin</td>\n",
              "      <td>in los angeles ,  the editor of a publishing h...</td>\n",
              "      <td>['Action', 'Crime', 'Thriller']</td>\n",
              "      <td>6.6</td>\n",
              "    </tr>\n",
              "  </tbody>\n",
              "</table>\n",
              "</div>"
            ],
            "text/plain": [
              "      year                      title  \\\n",
              "3107  2003                       Most   \n",
              "900   2008  How to Be a Serial Killer   \n",
              "6724  1941             A Woman's Face   \n",
              "4704  1954            Executive Suite   \n",
              "2582  1990              Narrow Margin   \n",
              "\n",
              "                                                   plot  \\\n",
              "3107  most is the story of a single father who takes...   \n",
              "900   a serial killer decides to teach the secrets o...   \n",
              "6724  in sweden ,  a female blackmailer with a disfi...   \n",
              "4704  in a friday afternoon in new york ,  the presi...   \n",
              "2582  in los angeles ,  the editor of a publishing h...   \n",
              "\n",
              "                                  genres  rating  \n",
              "3107                  ['Short', 'Drama']     8.0  \n",
              "900        ['Comedy', 'Crime', 'Horror']     5.6  \n",
              "6724  ['Drama', 'Film-Noir', 'Thriller']     7.2  \n",
              "4704                           ['Drama']     7.4  \n",
              "2582     ['Action', 'Crime', 'Thriller']     6.6  "
            ]
          },
          "metadata": {
            "tags": []
          },
          "execution_count": 3
        }
      ]
    },
    {
      "metadata": {
        "id": "y2tkO3k6iVl3",
        "colab_type": "code",
        "colab": {
          "base_uri": "https://localhost:8080/",
          "height": 195
        },
        "outputId": "15ff8722-390f-4cd4-abd2-e0cf2614989a"
      },
      "cell_type": "code",
      "source": [
        "dataTesting.head()"
      ],
      "execution_count": 4,
      "outputs": [
        {
          "output_type": "execute_result",
          "data": {
            "text/html": [
              "<div>\n",
              "<style scoped>\n",
              "    .dataframe tbody tr th:only-of-type {\n",
              "        vertical-align: middle;\n",
              "    }\n",
              "\n",
              "    .dataframe tbody tr th {\n",
              "        vertical-align: top;\n",
              "    }\n",
              "\n",
              "    .dataframe thead th {\n",
              "        text-align: right;\n",
              "    }\n",
              "</style>\n",
              "<table border=\"1\" class=\"dataframe\">\n",
              "  <thead>\n",
              "    <tr style=\"text-align: right;\">\n",
              "      <th></th>\n",
              "      <th>year</th>\n",
              "      <th>title</th>\n",
              "      <th>plot</th>\n",
              "    </tr>\n",
              "  </thead>\n",
              "  <tbody>\n",
              "    <tr>\n",
              "      <th>1</th>\n",
              "      <td>1999</td>\n",
              "      <td>Message in a Bottle</td>\n",
              "      <td>who meets by fate ,  shall be sealed by fate ....</td>\n",
              "    </tr>\n",
              "    <tr>\n",
              "      <th>4</th>\n",
              "      <td>1978</td>\n",
              "      <td>Midnight Express</td>\n",
              "      <td>the true story of billy hayes ,  an american c...</td>\n",
              "    </tr>\n",
              "    <tr>\n",
              "      <th>5</th>\n",
              "      <td>1996</td>\n",
              "      <td>Primal Fear</td>\n",
              "      <td>martin vail left the chicago da ' s office to ...</td>\n",
              "    </tr>\n",
              "    <tr>\n",
              "      <th>6</th>\n",
              "      <td>1950</td>\n",
              "      <td>Crisis</td>\n",
              "      <td>husband and wife americans dr .  eugene and mr...</td>\n",
              "    </tr>\n",
              "    <tr>\n",
              "      <th>7</th>\n",
              "      <td>1959</td>\n",
              "      <td>The Tingler</td>\n",
              "      <td>the coroner and scientist dr .  warren chapin ...</td>\n",
              "    </tr>\n",
              "  </tbody>\n",
              "</table>\n",
              "</div>"
            ],
            "text/plain": [
              "   year                title  \\\n",
              "1  1999  Message in a Bottle   \n",
              "4  1978     Midnight Express   \n",
              "5  1996          Primal Fear   \n",
              "6  1950               Crisis   \n",
              "7  1959          The Tingler   \n",
              "\n",
              "                                                plot  \n",
              "1  who meets by fate ,  shall be sealed by fate ....  \n",
              "4  the true story of billy hayes ,  an american c...  \n",
              "5  martin vail left the chicago da ' s office to ...  \n",
              "6  husband and wife americans dr .  eugene and mr...  \n",
              "7  the coroner and scientist dr .  warren chapin ...  "
            ]
          },
          "metadata": {
            "tags": []
          },
          "execution_count": 4
        }
      ]
    },
    {
      "metadata": {
        "id": "u5Coeua4hfYO",
        "colab_type": "text"
      },
      "cell_type": "markdown",
      "source": [
        "## Read Images"
      ]
    },
    {
      "metadata": {
        "id": "qOTJzwPlibtu",
        "colab_type": "code",
        "colab": {
          "base_uri": "https://localhost:8080/",
          "height": 286
        },
        "outputId": "a44d57c1-7a56-4c0b-ac83-526d47ff2891"
      },
      "cell_type": "code",
      "source": [
        "# Show an image example - Gray .\n",
        "image = io.imread(os.path.join('images_resize_gray', str(dataTraining.index[124]) + '_resize_gray.jpeg'))\n",
        "\n",
        "fig, ax = plt.subplots(nrows=1, ncols=1)\n",
        "ax.imshow(image, cmap='gray')"
      ],
      "execution_count": 5,
      "outputs": [
        {
          "output_type": "execute_result",
          "data": {
            "text/plain": [
              "<matplotlib.image.AxesImage at 0x7f74c7635c88>"
            ]
          },
          "metadata": {
            "tags": []
          },
          "execution_count": 5
        },
        {
          "output_type": "display_data",
          "data": {
            "image/png": "[encoded data removed]",
            "text/plain": [
              "<matplotlib.figure.Figure at 0x7f74c7911240>"
            ]
          },
          "metadata": {
            "tags": []
          }
        }
      ]
    },
    {
      "metadata": {
        "id": "GQtj9KEm5Lyy",
        "colab_type": "code",
        "colab": {
          "base_uri": "https://localhost:8080/",
          "height": 50
        },
        "outputId": "9e95b3a8-0d15-4231-c05d-9fbbe99f9ffc"
      },
      "cell_type": "code",
      "source": [
        "\n",
        "from skimage.transform import resize\n",
        "print('\\nLoading images for testing...')\n",
        "images_testing = []\n",
        "for i in dataTesting.index:\n",
        "    img= io.imread(os.path.join('images_resize_gray', str(i) + '_resize_gray.jpeg'))\n",
        "    img = resize(img, (80, 128), mode='reflect')\n",
        "    img = [img] * 3\n",
        "    images_testing.append(img)\n",
        "\n",
        "testingImagesGray = np.asarray(images_testing)\n"
      ],
      "execution_count": 6,
      "outputs": [
        {
          "output_type": "stream",
          "text": [
            "\n",
            "Loading images for testing...\n"
          ],
          "name": "stdout"
        }
      ]
    },
    {
      "metadata": {
        "id": "-CaiYo7-D_lA",
        "colab_type": "code",
        "colab": {}
      },
      "cell_type": "code",
      "source": [
        "\n",
        "testingImagesGray = np.rollaxis(testingImagesGray, 1, 4)\n"
      ],
      "execution_count": 0,
      "outputs": []
    },
    {
      "metadata": {
        "id": "51e8jNzLEnF-",
        "colab_type": "text"
      },
      "cell_type": "markdown",
      "source": [
        "## Images Preprocessing - VGG"
      ]
    },
    {
      "metadata": {
        "id": "TI2ZNoF85sjC",
        "colab_type": "code",
        "colab": {}
      },
      "cell_type": "code",
      "source": [
        "from keras.applications import VGG16\n",
        "from skimage.transform import resize\n",
        "\n",
        "vgg16 = VGG16(include_top=False, weights='imagenet')\n",
        "\n",
        "testingImagesVGG = vgg16.predict(testingImagesGray)"
      ],
      "execution_count": 0,
      "outputs": []
    },
    {
      "metadata": {
        "id": "LDsHBKBOoiYf",
        "colab_type": "text"
      },
      "cell_type": "markdown",
      "source": [
        "## Text Preproccesing - Word2Vec "
      ]
    },
    {
      "metadata": {
        "id": "-jxckyZsizqG",
        "colab_type": "code",
        "colab": {}
      },
      "cell_type": "code",
      "source": [
        "# Load functions and prerrequisites of word2vec.\n",
        "import tensorflow_hub as hub\n",
        "import tensorflow as tf\n",
        "import numpy as np\n",
        "\n",
        "\n",
        "hub_model = \"https://tfhub.dev/google/Wiki-words-250/1\"\n",
        "\n",
        "\n",
        "def create_text_embedding(hub_model, input_sentences):\n",
        "        \n",
        "    SEQ_LENGTH = max(map(len, input_sentences))\n",
        "    EMBEDDING_DIM = 250\n",
        "\n",
        "    with tf.Graph().as_default() as g:\n",
        "\n",
        "        embed_layer = hub.Module(hub_model,\n",
        "        trainable=False, name='text_embedding')\n",
        "\n",
        "        sentences = tf.placeholder(dtype=tf.string, shape=(None, SEQ_LENGTH))\n",
        "        batch_size = tf.shape(sentences)[0]\n",
        "\n",
        "        flat_sentences = tf.reshape(sentences, [-1])\n",
        "\n",
        "        embeddings = embed_layer(flat_sentences)\n",
        "\n",
        "        sentence_embedding = tf.reshape(embeddings, \n",
        "                                      [batch_size, SEQ_LENGTH, EMBEDDING_DIM])\n",
        "\n",
        "        with tf.Session(graph=g) as sess:\n",
        "            sess.run(tf.global_variables_initializer())\n",
        "            sess.run(tf.tables_initializer())\n",
        "\n",
        "            output = sess.run(sentence_embedding, feed_dict={\n",
        "                sentences: input_sentences\n",
        "            })\n",
        "            \n",
        "    return output"
      ],
      "execution_count": 0,
      "outputs": []
    },
    {
      "metadata": {
        "id": "gAv5JY-GopvE",
        "colab_type": "code",
        "colab": {}
      },
      "cell_type": "code",
      "source": [
        "# Get plots and lables for each plot.\n",
        "\n",
        "xPlotTest = dataTesting['plot']\n"
      ],
      "execution_count": 0,
      "outputs": []
    },
    {
      "metadata": {
        "id": "yBy7FZdBowRW",
        "colab_type": "code",
        "colab": {
          "base_uri": "https://localhost:8080/",
          "height": 34
        },
        "outputId": "ea5f4762-814c-4c17-8474-4411cbab9639"
      },
      "cell_type": "code",
      "source": [
        "# Converts a text to a sequence of words (or tokens)\n",
        "\n",
        "from keras.preprocessing.text import text_to_word_sequence\n",
        "from keras.preprocessing.sequence import pad_sequences\n",
        "\n",
        "\n",
        "maxWords = 200\n",
        "\n",
        "\n",
        "xTokenTest = [text_to_word_sequence(x) for x in xPlotTest.tolist()]\n",
        "xTokenTest = pad_sequences(xTokenTest, dtype='str', value=0, maxlen=maxWords)\n",
        "\n",
        "xTokenTest.shape"
      ],
      "execution_count": 12,
      "outputs": [
        {
          "output_type": "execute_result",
          "data": {
            "text/plain": [
              "(3383, 200)"
            ]
          },
          "metadata": {
            "tags": []
          },
          "execution_count": 12
        }
      ]
    },
    {
      "metadata": {
        "id": "QeCbWzBvo5O4",
        "colab_type": "code",
        "colab": {
          "base_uri": "https://localhost:8080/",
          "height": 87
        },
        "outputId": "811bb1b2-cdd9-4748-8a34-d5bad82af561"
      },
      "cell_type": "code",
      "source": [
        "# Apply Word2Vec to test.\n",
        "\n",
        "xEmbeddingTest = create_text_embedding(hub_model, xTokenTest)\n",
        "\n",
        "xEmbeddingTest.shape\n"
      ],
      "execution_count": 13,
      "outputs": [
        {
          "output_type": "stream",
          "text": [
            "INFO:tensorflow:Using /tmp/tfhub_modules to cache modules.\n",
            "INFO:tensorflow:Initialize variable text_embedding/embeddings/part_0:0,text_embedding/embeddings/part_1:0 from checkpoint b'/tmp/tfhub_modules/1e7e72950396d90315d3d9c57eddf5da44d4dca2/variables/variables' with embeddings\n"
          ],
          "name": "stdout"
        },
        {
          "output_type": "execute_result",
          "data": {
            "text/plain": [
              "(3383, 200, 250)"
            ]
          },
          "metadata": {
            "tags": []
          },
          "execution_count": 13
        }
      ]
    },
    {
      "metadata": {
        "id": "cItbCc40jd0O",
        "colab_type": "text"
      },
      "cell_type": "markdown",
      "source": [
        "## Stacking Model"
      ]
    },
    {
      "metadata": {
        "id": "CsZ2yizfjZD2",
        "colab_type": "code",
        "colab": {}
      },
      "cell_type": "code",
      "source": [
        "from keras.models import load_model\n",
        "from keras.utils.data_utils import get_file\n",
        "from keras import backend as K\n",
        "from keras.models import model_from_config, Sequential\n",
        "\n",
        "if not os.path.exists('imaNNtrainedGrayVGG.h5'):\n",
        "  ! wget \"https://github.com/castellwhite/MoviesClassification/raw/master/nnTrained/imaNNtrainedGrayVGG.h5\"\n",
        "  \n",
        "if not os.path.exists('txtWord2Vec2.h5'):\n",
        "  ! wget \"https://github.com/castellwhite/MoviesClassification/raw/master/nnTrained/txtWord2Vec2.h5\"\n",
        "\n",
        "if not os.path.exists('mixNNtrained_Stack.h5'):\n",
        "  ! wget \"https://github.com/castellwhite/MoviesClassification/raw/master/nnTrained/mixNNtrained_Stack.h5\""
      ],
      "execution_count": 0,
      "outputs": []
    },
    {
      "metadata": {
        "id": "51AvSOKuj0K1",
        "colab_type": "code",
        "colab": {}
      },
      "cell_type": "code",
      "source": [
        "# Load pretrained models.\n",
        "\n",
        "from keras.models import load_model\n",
        "\n",
        "Model_Ima= load_model('imaNNtrainedGrayVGG.h5')\n",
        "Model_Text= load_model('txtWord2Vec2.h5')\n",
        "\n",
        "Model_Mix = load_model('mixNNtrained_Stack.h5')"
      ],
      "execution_count": 0,
      "outputs": []
    },
    {
      "metadata": {
        "id": "WoNiB9jW3rhc",
        "colab_type": "code",
        "colab": {}
      },
      "cell_type": "code",
      "source": [
        "# Load predictions of trained models. \n",
        "\n",
        "predIma = Model_Ima.predict(testingImagesVGG)\n",
        "predText =Model_Text.predict(xEmbeddingTest)\n",
        "\n"
      ],
      "execution_count": 0,
      "outputs": []
    },
    {
      "metadata": {
        "id": "yKaMl0mn38-4",
        "colab_type": "code",
        "colab": {}
      },
      "cell_type": "code",
      "source": [
        "import numpy as np\n",
        "\n",
        "stackTest =  np.c_[predIma,predText]\n",
        "\n",
        "predIma = Model_Mix.predict(stackTest)"
      ],
      "execution_count": 0,
      "outputs": []
    },
    {
      "metadata": {
        "id": "M37qu-rTIBMm",
        "colab_type": "code",
        "colab": {}
      },
      "cell_type": "code",
      "source": [
        "# Print prediction for test (kaggle) data. \n",
        "\n",
        "yPredTest = Model_Mix.predict(stackTest)\n",
        "\n",
        "cols = ['p_Action', 'p_Adventure', 'p_Animation', 'p_Biography', 'p_Comedy', 'p_Crime', 'p_Documentary', 'p_Drama', 'p_Family',\n",
        "        'p_Fantasy', 'p_Film-Noir', 'p_History', 'p_Horror', 'p_Music', 'p_Musical', 'p_Mystery', 'p_News', 'p_Romance',\n",
        "        'p_Sci-Fi', 'p_Short', 'p_Sport', 'p_Thriller', 'p_War', 'p_Western']\n",
        "\n",
        "pd.DataFrame(yPredTest, index=dataTesting.index, columns=cols).to_csv('pred_genres_stack_VGG_word2vec_1.csv', index_label='ID')\n"
      ],
      "execution_count": 0,
      "outputs": []
    },
    {
      "metadata": {
        "id": "4QKubcGZPYbF",
        "colab_type": "code",
        "colab": {}
      },
      "cell_type": "code",
      "source": [
        "from google.colab import files\n",
        "\n",
        "files.download('pred_genres_stack_VGG_word2vec_1.csv')"
      ],
      "execution_count": 0,
      "outputs": []
    },
    {
      "metadata": {
        "id": "zGBFRgeWtUZg",
        "colab_type": "code",
        "colab": {}
      },
      "cell_type": "code",
      "source": [
        "!pip3 install tqdm\n",
        "!pip3 install livelossplot"
      ],
      "execution_count": 0,
      "outputs": []
    }
  ]
}
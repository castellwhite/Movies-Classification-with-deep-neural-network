{
 "cells": [
  {
   "cell_type": "markdown",
   "metadata": {
    "colab_type": "text",
    "id": "lSfs6lpO3HA0"
   },
   "source": [
    "\n",
    "# Movies Classification Project\n",
    "\n",
    " <img src=\"http://usblogs.pwc.com/emerging-technology/wp-content/uploads/2017/07/deep-learning-900x280.png\" >\n",
    "\n",
    "\n",
    "# Deep Learning\n",
    "\n",
    "\n",
    "Developed by [Sergio Castelblanco](http://www.linkedin.com/in/sergio-castelblanco/) - [Jesus Solano](http://www.jesussolano.com)\n",
    "\n",
    "Andes University\n",
    "\n",
    "version 2.1, July 9 2018"
   ]
  },
  {
   "cell_type": "code",
   "execution_count": 1,
   "metadata": {
    "colab": {
     "autoexec": {
      "startup": false,
      "wait_interval": 0
     },
     "base_uri": "https://localhost:8080/",
     "height": 752
    },
    "colab_type": "code",
    "executionInfo": {
     "elapsed": 4600,
     "status": "ok",
     "timestamp": 1532282583980,
     "user": {
      "displayName": "sergi castel",
      "photoUrl": "//lh5.googleusercontent.com/-t7uPTy_PD5c/AAAAAAAAAAI/AAAAAAAABjU/YrQqLvCov5A/s50-c-k-no/photo.jpg",
      "userId": "104485759475975710875"
     },
     "user_tz": 300
    },
    "id": "1p8ZzN-04ZDt",
    "outputId": "b55bbe38-1a6c-4704-ca4d-2470e118c8cd"
   },
   "outputs": [
    {
     "name": "stdout",
     "output_type": "stream",
     "text": [
      "Requirement already satisfied: tqdm in /usr/local/lib/python3.6/dist-packages (4.23.4)\n",
      "\u001b[33mYou are using pip version 10.0.1, however version 18.0 is available.\n",
      "You should consider upgrading via the 'pip install --upgrade pip' command.\u001b[0m\n",
      "Requirement already satisfied: livelossplot in /usr/local/lib/python3.6/dist-packages (0.2.0)\n",
      "Requirement already satisfied: notebook in /usr/local/lib/python3.6/dist-packages (from livelossplot) (5.2.2)\n",
      "Requirement already satisfied: matplotlib in /usr/local/lib/python3.6/dist-packages (from livelossplot) (2.1.2)\n",
      "Requirement already satisfied: nbconvert in /usr/local/lib/python3.6/dist-packages (from notebook->livelossplot) (5.3.1)\n",
      "Requirement already satisfied: terminado>=0.3.3; sys_platform != \"win32\" in /usr/local/lib/python3.6/dist-packages (from notebook->livelossplot) (0.8.1)\n",
      "Requirement already satisfied: ipython-genutils in /usr/local/lib/python3.6/dist-packages (from notebook->livelossplot) (0.2.0)\n",
      "Requirement already satisfied: jupyter-client in /usr/local/lib/python3.6/dist-packages (from notebook->livelossplot) (5.2.3)\n",
      "Requirement already satisfied: tornado>=4 in /usr/local/lib/python3.6/dist-packages (from notebook->livelossplot) (4.5.3)\n",
      "Requirement already satisfied: jupyter-core in /usr/local/lib/python3.6/dist-packages (from notebook->livelossplot) (4.4.0)\n",
      "Requirement already satisfied: jinja2 in /usr/local/lib/python3.6/dist-packages (from notebook->livelossplot) (2.10)\n",
      "Requirement already satisfied: traitlets>=4.2.1 in /usr/local/lib/python3.6/dist-packages (from notebook->livelossplot) (4.3.2)\n",
      "Requirement already satisfied: ipykernel in /usr/local/lib/python3.6/dist-packages (from notebook->livelossplot) (4.6.1)\n",
      "Requirement already satisfied: nbformat in /usr/local/lib/python3.6/dist-packages (from notebook->livelossplot) (4.4.0)\n",
      "Requirement already satisfied: six>=1.10 in /usr/local/lib/python3.6/dist-packages (from matplotlib->livelossplot) (1.11.0)\n",
      "Requirement already satisfied: python-dateutil>=2.1 in /usr/local/lib/python3.6/dist-packages (from matplotlib->livelossplot) (2.5.3)\n",
      "Requirement already satisfied: numpy>=1.7.1 in /usr/local/lib/python3.6/dist-packages (from matplotlib->livelossplot) (1.14.5)\n",
      "Requirement already satisfied: cycler>=0.10 in /usr/local/lib/python3.6/dist-packages (from matplotlib->livelossplot) (0.10.0)\n",
      "Requirement already satisfied: pyparsing!=2.0.4,!=2.1.2,!=2.1.6,>=2.0.1 in /usr/local/lib/python3.6/dist-packages (from matplotlib->livelossplot) (2.2.0)\n",
      "Requirement already satisfied: pytz in /usr/local/lib/python3.6/dist-packages (from matplotlib->livelossplot) (2018.5)\n",
      "Requirement already satisfied: bleach in /usr/local/lib/python3.6/dist-packages (from nbconvert->notebook->livelossplot) (2.1.3)\n",
      "Requirement already satisfied: pygments in /usr/local/lib/python3.6/dist-packages (from nbconvert->notebook->livelossplot) (2.1.3)\n",
      "Requirement already satisfied: testpath in /usr/local/lib/python3.6/dist-packages (from nbconvert->notebook->livelossplot) (0.3.1)\n",
      "Requirement already satisfied: pandocfilters>=1.4.1 in /usr/local/lib/python3.6/dist-packages (from nbconvert->notebook->livelossplot) (1.4.2)\n",
      "Requirement already satisfied: entrypoints>=0.2.2 in /usr/local/lib/python3.6/dist-packages (from nbconvert->notebook->livelossplot) (0.2.3)\n",
      "Requirement already satisfied: mistune>=0.7.4 in /usr/local/lib/python3.6/dist-packages (from nbconvert->notebook->livelossplot) (0.8.3)\n",
      "Requirement already satisfied: ptyprocess; os_name != \"nt\" in /usr/local/lib/python3.6/dist-packages (from terminado>=0.3.3; sys_platform != \"win32\"->notebook->livelossplot) (0.6.0)\n",
      "Requirement already satisfied: pyzmq>=13 in /usr/local/lib/python3.6/dist-packages (from jupyter-client->notebook->livelossplot) (16.0.4)\n",
      "Requirement already satisfied: MarkupSafe>=0.23 in /usr/local/lib/python3.6/dist-packages (from jinja2->notebook->livelossplot) (1.0)\n",
      "Requirement already satisfied: decorator in /usr/local/lib/python3.6/dist-packages (from traitlets>=4.2.1->notebook->livelossplot) (4.3.0)\n",
      "Requirement already satisfied: ipython>=4.0.0 in /usr/local/lib/python3.6/dist-packages (from ipykernel->notebook->livelossplot) (5.5.0)\n",
      "Requirement already satisfied: jsonschema!=2.5.0,>=2.4 in /usr/local/lib/python3.6/dist-packages (from nbformat->notebook->livelossplot) (2.6.0)\n",
      "Requirement already satisfied: html5lib!=1.0b1,!=1.0b2,!=1.0b3,!=1.0b4,!=1.0b5,!=1.0b6,!=1.0b7,!=1.0b8,>=0.99999999pre in /usr/local/lib/python3.6/dist-packages (from bleach->nbconvert->notebook->livelossplot) (1.0.1)\n",
      "Requirement already satisfied: prompt-toolkit<2.0.0,>=1.0.4 in /usr/local/lib/python3.6/dist-packages (from ipython>=4.0.0->ipykernel->notebook->livelossplot) (1.0.15)\n",
      "Requirement already satisfied: pickleshare in /usr/local/lib/python3.6/dist-packages (from ipython>=4.0.0->ipykernel->notebook->livelossplot) (0.7.4)\n",
      "Requirement already satisfied: simplegeneric>0.8 in /usr/local/lib/python3.6/dist-packages (from ipython>=4.0.0->ipykernel->notebook->livelossplot) (0.8.1)\n",
      "Requirement already satisfied: pexpect; sys_platform != \"win32\" in /usr/local/lib/python3.6/dist-packages (from ipython>=4.0.0->ipykernel->notebook->livelossplot) (4.6.0)\n",
      "Requirement already satisfied: setuptools>=18.5 in /usr/local/lib/python3.6/dist-packages (from ipython>=4.0.0->ipykernel->notebook->livelossplot) (39.1.0)\n",
      "Requirement already satisfied: webencodings in /usr/local/lib/python3.6/dist-packages (from html5lib!=1.0b1,!=1.0b2,!=1.0b3,!=1.0b4,!=1.0b5,!=1.0b6,!=1.0b7,!=1.0b8,>=0.99999999pre->bleach->nbconvert->notebook->livelossplot) (0.5.1)\n",
      "Requirement already satisfied: wcwidth in /usr/local/lib/python3.6/dist-packages (from prompt-toolkit<2.0.0,>=1.0.4->ipython>=4.0.0->ipykernel->notebook->livelossplot) (0.1.7)\n",
      "\u001b[33mYou are using pip version 10.0.1, however version 18.0 is available.\n",
      "You should consider upgrading via the 'pip install --upgrade pip' command.\u001b[0m\n"
     ]
    }
   ],
   "source": [
    "!pip3 install tqdm\n",
    "!pip3 install livelossplot"
   ]
  },
  {
   "cell_type": "code",
   "execution_count": 2,
   "metadata": {
    "colab": {
     "autoexec": {
      "startup": false,
      "wait_interval": 0
     },
     "base_uri": "https://localhost:8080/",
     "height": 33
    },
    "colab_type": "code",
    "executionInfo": {
     "elapsed": 8728,
     "status": "ok",
     "timestamp": 1532282592780,
     "user": {
      "displayName": "sergi castel",
      "photoUrl": "//lh5.googleusercontent.com/-t7uPTy_PD5c/AAAAAAAAAAI/AAAAAAAABjU/YrQqLvCov5A/s50-c-k-no/photo.jpg",
      "userId": "104485759475975710875"
     },
     "user_tz": 300
    },
    "id": "Ne1Z5Nx-3HA3",
    "outputId": "4ea613c1-2f14-4b18-ca62-b3d53363efd0"
   },
   "outputs": [
    {
     "name": "stderr",
     "output_type": "stream",
     "text": [
      "Using TensorFlow backend.\n"
     ]
    }
   ],
   "source": [
    "import pandas as pd\n",
    "import os\n",
    "import numpy as np\n",
    "from sklearn.preprocessing import MultiLabelBinarizer\n",
    "from sklearn.multiclass import OneVsRestClassifier\n",
    "from sklearn.ensemble import RandomForestRegressor, RandomForestClassifier\n",
    "from sklearn.metrics import r2_score, roc_auc_score\n",
    "from sklearn.model_selection import train_test_split\n",
    "from sklearn.decomposition import PCA\n",
    "import matplotlib.pyplot as plt\n",
    "from skimage import io\n",
    "from tqdm import tqdm\n",
    "import os\n",
    "import livelossplot\n",
    "%matplotlib inline"
   ]
  },
  {
   "cell_type": "markdown",
   "metadata": {
    "colab_type": "text",
    "id": "KD7-6y893HA6"
   },
   "source": [
    "# Read Data"
   ]
  },
  {
   "cell_type": "code",
   "execution_count": 0,
   "metadata": {
    "colab": {
     "autoexec": {
      "startup": false,
      "wait_interval": 0
     }
    },
    "colab_type": "code",
    "id": "ZoVepxie3HA9"
   },
   "outputs": [],
   "source": [
    "# If datasets already exist do nothing. \n",
    "\n",
    "if not os.path.exists('dataTesting.csv'):\n",
    "  ! wget https://raw.githubusercontent.com/castellwhite/MoviesClassification/master/datasets/dataTesting.csv\n",
    "    \n",
    "if not os.path.exists('dataTraining.csv'):\n",
    "  ! wget https://raw.githubusercontent.com/castellwhite/MoviesClassification/master/datasets/dataTraining.csv\n",
    "    \n",
    "\n",
    "if not os.path.exists('images_resize_gray.zip'):\n",
    "  # Install the PyDrive wrapper & import libraries.\n",
    "  # This only needs to be done once per notebook.\n",
    "  !pip install -U -q PyDrive\n",
    "  from pydrive.auth import GoogleAuth\n",
    "  from pydrive.drive import GoogleDrive\n",
    "  from google.colab import auth\n",
    "  from oauth2client.client import GoogleCredentials\n",
    "\n",
    "  # Authenticate and create the PyDrive client.\n",
    "  # This only needs to be done once per notebook.\n",
    "  auth.authenticate_user()\n",
    "  gauth = GoogleAuth()\n",
    "  gauth.credentials = GoogleCredentials.get_application_default()\n",
    "  drive = GoogleDrive(gauth)\n",
    "\n",
    "  # Download a file based on its file ID(Grey).\n",
    "  #\n",
    "  # A file ID looks like: laggVyWshwcyP6kEI-y_W3P8D26sz\n",
    "  file_id = '1ZzSvFeCsLVW4hPWqyf6jW0rAvyQt1L7J'\n",
    "  downloaded = drive.CreateFile({'id': file_id})\n",
    "  downloaded.GetContentFile(downloaded['title'])\n",
    "  !unzip -q images_resize_gray.zip \n",
    "\n",
    "dataTraining = pd.read_csv(\"dataTraining.csv\",index_col=0)\n",
    "dataTesting = pd.read_csv(\"dataTesting.csv\",index_col=0)"
   ]
  },
  {
   "cell_type": "code",
   "execution_count": 4,
   "metadata": {
    "colab": {
     "autoexec": {
      "startup": false,
      "wait_interval": 0
     },
     "base_uri": "https://localhost:8080/",
     "height": 50
    },
    "colab_type": "code",
    "executionInfo": {
     "elapsed": 2185,
     "status": "ok",
     "timestamp": 1532285691654,
     "user": {
      "displayName": "sergi castel",
      "photoUrl": "//lh5.googleusercontent.com/-t7uPTy_PD5c/AAAAAAAAAAI/AAAAAAAABjU/YrQqLvCov5A/s50-c-k-no/photo.jpg",
      "userId": "104485759475975710875"
     },
     "user_tz": 300
    },
    "id": "WJmtKSAuM_27",
    "outputId": "ad940e32-0968-462a-a2c8-630086aa2f67"
   },
   "outputs": [
    {
     "name": "stdout",
     "output_type": "stream",
     "text": [
      "datalab\t\t dataTraining.csv    images_resize_gray.zip\r\n",
      "dataTesting.csv  images_resize_gray  pred_genres_Stack1.csv\r\n"
     ]
    }
   ],
   "source": [
    "! ls"
   ]
  },
  {
   "cell_type": "code",
   "execution_count": 5,
   "metadata": {
    "colab": {
     "autoexec": {
      "startup": false,
      "wait_interval": 0
     },
     "base_uri": "https://localhost:8080/",
     "height": 191
    },
    "colab_type": "code",
    "executionInfo": {
     "elapsed": 689,
     "status": "ok",
     "timestamp": 1532285692405,
     "user": {
      "displayName": "sergi castel",
      "photoUrl": "//lh5.googleusercontent.com/-t7uPTy_PD5c/AAAAAAAAAAI/AAAAAAAABjU/YrQqLvCov5A/s50-c-k-no/photo.jpg",
      "userId": "104485759475975710875"
     },
     "user_tz": 300
    },
    "id": "0T_9hhJ93HBA",
    "outputId": "ecba6a8f-a877-4981-bb60-342b8b0bb064"
   },
   "outputs": [
    {
     "data": {
      "text/html": [
       "<div>\n",
       "<style scoped>\n",
       "    .dataframe tbody tr th:only-of-type {\n",
       "        vertical-align: middle;\n",
       "    }\n",
       "\n",
       "    .dataframe tbody tr th {\n",
       "        vertical-align: top;\n",
       "    }\n",
       "\n",
       "    .dataframe thead th {\n",
       "        text-align: right;\n",
       "    }\n",
       "</style>\n",
       "<table border=\"1\" class=\"dataframe\">\n",
       "  <thead>\n",
       "    <tr style=\"text-align: right;\">\n",
       "      <th></th>\n",
       "      <th>year</th>\n",
       "      <th>title</th>\n",
       "      <th>plot</th>\n",
       "      <th>genres</th>\n",
       "      <th>rating</th>\n",
       "    </tr>\n",
       "  </thead>\n",
       "  <tbody>\n",
       "    <tr>\n",
       "      <th>3107</th>\n",
       "      <td>2003</td>\n",
       "      <td>Most</td>\n",
       "      <td>most is the story of a single father who takes...</td>\n",
       "      <td>['Short', 'Drama']</td>\n",
       "      <td>8.0</td>\n",
       "    </tr>\n",
       "    <tr>\n",
       "      <th>900</th>\n",
       "      <td>2008</td>\n",
       "      <td>How to Be a Serial Killer</td>\n",
       "      <td>a serial killer decides to teach the secrets o...</td>\n",
       "      <td>['Comedy', 'Crime', 'Horror']</td>\n",
       "      <td>5.6</td>\n",
       "    </tr>\n",
       "    <tr>\n",
       "      <th>6724</th>\n",
       "      <td>1941</td>\n",
       "      <td>A Woman's Face</td>\n",
       "      <td>in sweden ,  a female blackmailer with a disfi...</td>\n",
       "      <td>['Drama', 'Film-Noir', 'Thriller']</td>\n",
       "      <td>7.2</td>\n",
       "    </tr>\n",
       "    <tr>\n",
       "      <th>4704</th>\n",
       "      <td>1954</td>\n",
       "      <td>Executive Suite</td>\n",
       "      <td>in a friday afternoon in new york ,  the presi...</td>\n",
       "      <td>['Drama']</td>\n",
       "      <td>7.4</td>\n",
       "    </tr>\n",
       "    <tr>\n",
       "      <th>2582</th>\n",
       "      <td>1990</td>\n",
       "      <td>Narrow Margin</td>\n",
       "      <td>in los angeles ,  the editor of a publishing h...</td>\n",
       "      <td>['Action', 'Crime', 'Thriller']</td>\n",
       "      <td>6.6</td>\n",
       "    </tr>\n",
       "  </tbody>\n",
       "</table>\n",
       "</div>"
      ],
      "text/plain": [
       "      year                      title  \\\n",
       "3107  2003                       Most   \n",
       "900   2008  How to Be a Serial Killer   \n",
       "6724  1941             A Woman's Face   \n",
       "4704  1954            Executive Suite   \n",
       "2582  1990              Narrow Margin   \n",
       "\n",
       "                                                   plot  \\\n",
       "3107  most is the story of a single father who takes...   \n",
       "900   a serial killer decides to teach the secrets o...   \n",
       "6724  in sweden ,  a female blackmailer with a disfi...   \n",
       "4704  in a friday afternoon in new york ,  the presi...   \n",
       "2582  in los angeles ,  the editor of a publishing h...   \n",
       "\n",
       "                                  genres  rating  \n",
       "3107                  ['Short', 'Drama']     8.0  \n",
       "900        ['Comedy', 'Crime', 'Horror']     5.6  \n",
       "6724  ['Drama', 'Film-Noir', 'Thriller']     7.2  \n",
       "4704                           ['Drama']     7.4  \n",
       "2582     ['Action', 'Crime', 'Thriller']     6.6  "
      ]
     },
     "execution_count": 5,
     "metadata": {
      "tags": []
     },
     "output_type": "execute_result"
    }
   ],
   "source": [
    "dataTraining.head()"
   ]
  },
  {
   "cell_type": "code",
   "execution_count": 6,
   "metadata": {
    "colab": {
     "autoexec": {
      "startup": false,
      "wait_interval": 0
     },
     "base_uri": "https://localhost:8080/",
     "height": 191
    },
    "colab_type": "code",
    "executionInfo": {
     "elapsed": 1340,
     "status": "ok",
     "timestamp": 1532285693871,
     "user": {
      "displayName": "sergi castel",
      "photoUrl": "//lh5.googleusercontent.com/-t7uPTy_PD5c/AAAAAAAAAAI/AAAAAAAABjU/YrQqLvCov5A/s50-c-k-no/photo.jpg",
      "userId": "104485759475975710875"
     },
     "user_tz": 300
    },
    "id": "P7XA3oZ03HBF",
    "outputId": "50e184db-9d0b-4643-8372-740131db152c"
   },
   "outputs": [
    {
     "data": {
      "text/html": [
       "<div>\n",
       "<style scoped>\n",
       "    .dataframe tbody tr th:only-of-type {\n",
       "        vertical-align: middle;\n",
       "    }\n",
       "\n",
       "    .dataframe tbody tr th {\n",
       "        vertical-align: top;\n",
       "    }\n",
       "\n",
       "    .dataframe thead th {\n",
       "        text-align: right;\n",
       "    }\n",
       "</style>\n",
       "<table border=\"1\" class=\"dataframe\">\n",
       "  <thead>\n",
       "    <tr style=\"text-align: right;\">\n",
       "      <th></th>\n",
       "      <th>year</th>\n",
       "      <th>title</th>\n",
       "      <th>plot</th>\n",
       "    </tr>\n",
       "  </thead>\n",
       "  <tbody>\n",
       "    <tr>\n",
       "      <th>1</th>\n",
       "      <td>1999</td>\n",
       "      <td>Message in a Bottle</td>\n",
       "      <td>who meets by fate ,  shall be sealed by fate ....</td>\n",
       "    </tr>\n",
       "    <tr>\n",
       "      <th>4</th>\n",
       "      <td>1978</td>\n",
       "      <td>Midnight Express</td>\n",
       "      <td>the true story of billy hayes ,  an american c...</td>\n",
       "    </tr>\n",
       "    <tr>\n",
       "      <th>5</th>\n",
       "      <td>1996</td>\n",
       "      <td>Primal Fear</td>\n",
       "      <td>martin vail left the chicago da ' s office to ...</td>\n",
       "    </tr>\n",
       "    <tr>\n",
       "      <th>6</th>\n",
       "      <td>1950</td>\n",
       "      <td>Crisis</td>\n",
       "      <td>husband and wife americans dr .  eugene and mr...</td>\n",
       "    </tr>\n",
       "    <tr>\n",
       "      <th>7</th>\n",
       "      <td>1959</td>\n",
       "      <td>The Tingler</td>\n",
       "      <td>the coroner and scientist dr .  warren chapin ...</td>\n",
       "    </tr>\n",
       "  </tbody>\n",
       "</table>\n",
       "</div>"
      ],
      "text/plain": [
       "   year                title  \\\n",
       "1  1999  Message in a Bottle   \n",
       "4  1978     Midnight Express   \n",
       "5  1996          Primal Fear   \n",
       "6  1950               Crisis   \n",
       "7  1959          The Tingler   \n",
       "\n",
       "                                                plot  \n",
       "1  who meets by fate ,  shall be sealed by fate ....  \n",
       "4  the true story of billy hayes ,  an american c...  \n",
       "5  martin vail left the chicago da ' s office to ...  \n",
       "6  husband and wife americans dr .  eugene and mr...  \n",
       "7  the coroner and scientist dr .  warren chapin ...  "
      ]
     },
     "execution_count": 6,
     "metadata": {
      "tags": []
     },
     "output_type": "execute_result"
    }
   ],
   "source": [
    "dataTesting.head()"
   ]
  },
  {
   "cell_type": "markdown",
   "metadata": {
    "colab_type": "text",
    "id": "4CMUPs6h3HBI"
   },
   "source": [
    "# Read Images"
   ]
  },
  {
   "cell_type": "code",
   "execution_count": 9,
   "metadata": {
    "colab": {
     "autoexec": {
      "startup": false,
      "wait_interval": 0
     },
     "base_uri": "https://localhost:8080/",
     "height": 288
    },
    "colab_type": "code",
    "executionInfo": {
     "elapsed": 766,
     "status": "ok",
     "timestamp": 1532200692811,
     "user": {
      "displayName": "Jesus Solano",
      "photoUrl": "https://lh3.googleusercontent.com/a/default-user=s128",
      "userId": "111266076568687218605"
     },
     "user_tz": 300
    },
    "id": "FRTkgJOA3HBK",
    "outputId": "698fd852-3166-4eeb-d017-480fd17e7a0f"
   },
   "outputs": [
    {
     "data": {
      "text/plain": [
       "<matplotlib.image.AxesImage at 0x7f8ebb0eca20>"
      ]
     },
     "execution_count": 9,
     "metadata": {
      "tags": []
     },
     "output_type": "execute_result"
    },
    {
     "data": {
      "image/png": "[encoded data removed]",
      "text/plain": [
       "<matplotlib.figure.Figure at 0x7f8ebb18de80>"
      ]
     },
     "metadata": {
      "tags": []
     },
     "output_type": "display_data"
    }
   ],
   "source": [
    "# Show an image example - Gray .\n",
    "image = io.imread(os.path.join(path, 'images_resize_gray', str(dataTraining.index[1]) + '_resize_gray.jpeg'))\n",
    "\n",
    "fig, ax = plt.subplots(nrows=1, ncols=1)\n",
    "ax.imshow(image, cmap='gray')"
   ]
  },
  {
   "cell_type": "code",
   "execution_count": 0,
   "metadata": {
    "colab": {
     "autoexec": {
      "startup": false,
      "wait_interval": 0
     },
     "base_uri": "https://localhost:8080/",
     "height": 74
    },
    "colab_type": "code",
    "id": "hpqvdLQJLjFt",
    "outputId": "dd746838-3332-4d8f-c914-2337a39f8e04"
   },
   "outputs": [
    {
     "name": "stderr",
     "output_type": "stream",
     "text": [
      "  0%|          | 18/7895 [00:00<00:45, 173.49it/s]"
     ]
    },
    {
     "name": "stdout",
     "output_type": "stream",
     "text": [
      "\n",
      "Loading images for traning...\n"
     ]
    },
    {
     "name": "stderr",
     "output_type": "stream",
     "text": [
      "100%|██████████| 7895/7895 [00:38<00:00, 206.97it/s]\n"
     ]
    }
   ],
   "source": [
    "# Load all gray images.\n",
    "\n",
    "from skimage.transform import resize\n",
    "\n",
    "print('\\nLoading images for traning...')\n",
    "images_training = []\n",
    "for i in tqdm(dataTraining.index):\n",
    "    img=io.imread(os.path.join(path, 'images_resize_gray', str(i) + '_resize_gray.jpeg'))\n",
    "    img = resize(img, (224, 224), mode='reflect')\n",
    "    img = [img] * 3\n",
    "    images_training.append(img)\n",
    "    \n",
    "trainingImagesGray = np.asarray(images_training)\n",
    "trainingImagesGray = np.rollaxis(trainingImagesGray, 1, 4)\n",
    "\n",
    "print('\\nLoading images for testing...')\n",
    "images_testing = []\n",
    "for i in tqdm(dataTesting.index):\n",
    "    img= io.imread(os.path.join(path, 'images_resize_gray', str(i) + '_resize_gray.jpeg'))\n",
    "    img = resize(img, (224, 224), mode='reflect')\n",
    "    img = [img] * 3\n",
    "    images_training.append(img)\n",
    "\n",
    "testingImagesGrey = np.asarray(images_testing)\n",
    "testingImagesGrey = np.rollaxis(testingImagesGray, 1, 4)\n"
   ]
  },
  {
   "cell_type": "code",
   "execution_count": 10,
   "metadata": {
    "colab": {
     "autoexec": {
      "startup": false,
      "wait_interval": 0
     },
     "base_uri": "https://localhost:8080/",
     "height": 130
    },
    "colab_type": "code",
    "executionInfo": {
     "elapsed": 235,
     "status": "ok",
     "timestamp": 1532200743570,
     "user": {
      "displayName": "Jesus Solano",
      "photoUrl": "https://lh3.googleusercontent.com/a/default-user=s128",
      "userId": "111266076568687218605"
     },
     "user_tz": 300
    },
    "id": "-c5qpJ78H58m",
    "outputId": "36626701-9d78-415c-b969-19959a99cad4"
   },
   "outputs": [
    {
     "name": "stderr",
     "output_type": "stream",
     "text": [
      "  2%|▏         | 166/7895 [00:00<00:04, 1656.49it/s]"
     ]
    },
    {
     "name": "stdout",
     "output_type": "stream",
     "text": [
      "\n",
      "Loading images for traning...\n"
     ]
    },
    {
     "name": "stderr",
     "output_type": "stream",
     "text": [
      "100%|██████████| 7895/7895 [00:04<00:00, 1585.82it/s]\n",
      "  5%|▍         | 155/3383 [00:00<00:02, 1542.90it/s]"
     ]
    },
    {
     "name": "stdout",
     "output_type": "stream",
     "text": [
      "\n",
      "Loading images for testing...\n"
     ]
    },
    {
     "name": "stderr",
     "output_type": "stream",
     "text": [
      "100%|██████████| 3383/3383 [00:02<00:00, 1575.77it/s]\n"
     ]
    }
   ],
   "source": [
    "# Load all gray images.\n",
    "\n",
    "print('\\nLoading images for traning...')\n",
    "images_training = []\n",
    "for i in tqdm(dataTraining.index):\n",
    "    images_training.append(io.imread(os.path.join(path, 'images_resize_gray', str(i) + '_resize_gray.jpeg')))\n",
    "    \n",
    "trainingImagesGray = np.asarray(images_training)\n",
    "\n",
    "print('\\nLoading images for testing...')\n",
    "images_testing = []\n",
    "for i in tqdm(dataTesting.index):\n",
    "    images_testing.append(io.imread(os.path.join(path, 'images_resize_gray', str(i) + '_resize_gray.jpeg')))\n",
    "\n",
    "testingImagesGray = np.asarray(images_testing)\n",
    "\n"
   ]
  },
  {
   "cell_type": "code",
   "execution_count": 0,
   "metadata": {
    "colab": {
     "autoexec": {
      "startup": false,
      "wait_interval": 0
     }
    },
    "colab_type": "code",
    "id": "wFqYEaWgH9Cl"
   },
   "outputs": [],
   "source": [
    "from keras.applications import VGG16\n",
    "from skimage.transform import resize\n",
    "\n",
    "vgg16 = VGG16(include_top=False, weights='imagenet')\n",
    "\n",
    "def apply_vgg_grayscale(images):\n",
    "\n",
    "    images_ = []\n",
    "    for img in tqdm(images):\n",
    "\n",
    "        # reshape\n",
    "        img = img.reshape((256, 160))\n",
    "\n",
    "        # rescale\n",
    "        img = resize(img, (224, 224), mode='reflect')\n",
    "\n",
    "        # repeat\n",
    "        img = [img] * 3\n",
    "\n",
    "        images_.append(img)\n",
    "\n",
    "\n",
    "    # To numpy array\n",
    "    images_ = np.array(images_)\n",
    "\n",
    "    # move channel to last axis\n",
    "    images_ = np.rollaxis(images_, 1, 4)\n",
    "\n",
    "    # Apply vgg\n",
    "    images_vgg = vgg16.predict(images_)\n",
    "    \n",
    "    return images_vgg\n",
    "\n"
   ]
  },
  {
   "cell_type": "code",
   "execution_count": 0,
   "metadata": {
    "colab": {
     "autoexec": {
      "startup": false,
      "wait_interval": 0
     },
     "base_uri": "https://localhost:8080/",
     "height": 36
    },
    "colab_type": "code",
    "id": "RMVwe8-hIFR3",
    "outputId": "b3cc3d7b-cbb5-40d0-fd22-0f7b4dd14d57"
   },
   "outputs": [
    {
     "name": "stderr",
     "output_type": "stream",
     "text": [
      "100%|██████████| 7895/7895 [00:30<00:00, 259.12it/s]\n"
     ]
    }
   ],
   "source": [
    "trainingImagesVGG = apply_vgg_grayscale(images_training)\n",
    "  "
   ]
  },
  {
   "cell_type": "code",
   "execution_count": null,
   "metadata": {},
   "outputs": [],
   "source": [
    "testingImagesVGG = apply_vgg_grayscale(images_testing)"
   ]
  },
  {
   "cell_type": "code",
   "execution_count": 1,
   "metadata": {
    "colab": {
     "autoexec": {
      "startup": false,
      "wait_interval": 0
     },
     "base_uri": "https://localhost:8080/",
     "height": 178
    },
    "colab_type": "code",
    "executionInfo": {
     "elapsed": 493,
     "status": "error",
     "timestamp": 1532200808799,
     "user": {
      "displayName": "Jesus Solano",
      "photoUrl": "https://lh3.googleusercontent.com/a/default-user=s128",
      "userId": "111266076568687218605"
     },
     "user_tz": 300
    },
    "id": "Fftl_m4RIoXy",
    "outputId": "f65cf532-9814-4f9a-e597-ac70e0b0a95f"
   },
   "outputs": [
    {
     "ename": "NameError",
     "evalue": "ignored",
     "output_type": "error",
     "traceback": [
      "\u001b[0;31m---------------------------------------------------------------------------\u001b[0m",
      "\u001b[0;31mNameError\u001b[0m                                 Traceback (most recent call last)",
      "\u001b[0;32m<ipython-input-1-e667938ef47b>\u001b[0m in \u001b[0;36m<module>\u001b[0;34m()\u001b[0m\n\u001b[0;32m----> 1\u001b[0;31m \u001b[0mimages_training_vgg\u001b[0m\u001b[0;34m.\u001b[0m\u001b[0mshape\u001b[0m\u001b[0;34m\u001b[0m\u001b[0m\n\u001b[0m",
      "\u001b[0;31mNameError\u001b[0m: name 'images_training_vgg' is not defined"
     ]
    }
   ],
   "source": [
    "trainingImagesVGG.shape"
   ]
  },
  {
   "cell_type": "code",
   "execution_count": 1,
   "metadata": {
    "colab": {
     "autoexec": {
      "startup": false,
      "wait_interval": 0
     },
     "base_uri": "https://localhost:8080/",
     "height": 178
    },
    "colab_type": "code",
    "executionInfo": {
     "elapsed": 629,
     "status": "error",
     "timestamp": 1532197913379,
     "user": {
      "displayName": "Jesus Solano",
      "photoUrl": "https://lh3.googleusercontent.com/a/default-user=s128",
      "userId": "111266076568687218605"
     },
     "user_tz": 300
    },
    "id": "vLNFfa-oSjxY",
    "outputId": "4e8e39b9-867a-4f1d-8180-df3adcfe5639"
   },
   "outputs": [
    {
     "ename": "NameError",
     "evalue": "ignored",
     "output_type": "error",
     "traceback": [
      "\u001b[0;31m---------------------------------------------------------------------------\u001b[0m",
      "\u001b[0;31mNameError\u001b[0m                                 Traceback (most recent call last)",
      "\u001b[0;32m<ipython-input-1-ddc27bb8f003>\u001b[0m in \u001b[0;36m<module>\u001b[0;34m()\u001b[0m\n\u001b[0;32m----> 1\u001b[0;31m \u001b[0mtrainingImagesGrey\u001b[0m\u001b[0;34m.\u001b[0m\u001b[0mshape\u001b[0m\u001b[0;34m\u001b[0m\u001b[0m\n\u001b[0m",
      "\u001b[0;31mNameError\u001b[0m: name 'trainingImagesGrey' is not defined"
     ]
    }
   ],
   "source": [
    "trainingImagesGray.shape"
   ]
  },
  {
   "cell_type": "code",
   "execution_count": 77,
   "metadata": {
    "colab": {
     "autoexec": {
      "startup": false,
      "wait_interval": 0
     },
     "base_uri": "https://localhost:8080/",
     "height": 487
    },
    "colab_type": "code",
    "executionInfo": {
     "elapsed": 3196,
     "status": "error",
     "timestamp": 1532118334550,
     "user": {
      "displayName": "sergi castel",
      "photoUrl": "//lh5.googleusercontent.com/-t7uPTy_PD5c/AAAAAAAAAAI/AAAAAAAABjU/YrQqLvCov5A/s50-c-k-no/photo.jpg",
      "userId": "104485759475975710875"
     },
     "user_tz": 300
    },
    "id": "K6mtfWv2QWCQ",
    "outputId": "428a9956-0b2e-4e97-e19e-9ea6650ec95c"
   },
   "outputs": [
    {
     "ename": "TypeError",
     "evalue": "ignored",
     "output_type": "error",
     "traceback": [
      "\u001b[0;31m---------------------------------------------------------------------------\u001b[0m",
      "\u001b[0;31mTypeError\u001b[0m                                 Traceback (most recent call last)",
      "\u001b[0;32m<ipython-input-77-793cbf25c287>\u001b[0m in \u001b[0;36m<module>\u001b[0;34m()\u001b[0m\n\u001b[1;32m      1\u001b[0m \u001b[0;34m\u001b[0m\u001b[0m\n\u001b[0;32m----> 2\u001b[0;31m \u001b[0mdataTraining\u001b[0m\u001b[0;34m[\u001b[0m\u001b[0;34m'genres'\u001b[0m\u001b[0;34m]\u001b[0m \u001b[0;34m=\u001b[0m \u001b[0mdataTraining\u001b[0m\u001b[0;34m[\u001b[0m\u001b[0;34m'genres'\u001b[0m\u001b[0;34m]\u001b[0m\u001b[0;34m.\u001b[0m\u001b[0mmap\u001b[0m\u001b[0;34m(\u001b[0m\u001b[0;32mlambda\u001b[0m \u001b[0mx\u001b[0m\u001b[0;34m:\u001b[0m \u001b[0meval\u001b[0m\u001b[0;34m(\u001b[0m\u001b[0mx\u001b[0m\u001b[0;34m)\u001b[0m\u001b[0;34m)\u001b[0m\u001b[0;34m\u001b[0m\u001b[0m\n\u001b[0m\u001b[1;32m      3\u001b[0m \u001b[0mle\u001b[0m \u001b[0;34m=\u001b[0m \u001b[0mMultiLabelBinarizer\u001b[0m\u001b[0;34m(\u001b[0m\u001b[0;34m)\u001b[0m\u001b[0;34m\u001b[0m\u001b[0m\n\u001b[1;32m      4\u001b[0m \u001b[0myGenres\u001b[0m \u001b[0;34m=\u001b[0m \u001b[0mle\u001b[0m\u001b[0;34m.\u001b[0m\u001b[0mfit_transform\u001b[0m\u001b[0;34m(\u001b[0m\u001b[0mdataTraining\u001b[0m\u001b[0;34m[\u001b[0m\u001b[0;34m'genres'\u001b[0m\u001b[0;34m]\u001b[0m\u001b[0;34m)\u001b[0m\u001b[0;34m\u001b[0m\u001b[0m\n",
      "\u001b[0;32m/usr/local/lib/python3.6/dist-packages/pandas/core/series.py\u001b[0m in \u001b[0;36mmap\u001b[0;34m(self, arg, na_action)\u001b[0m\n\u001b[1;32m   2352\u001b[0m         \u001b[0;32melse\u001b[0m\u001b[0;34m:\u001b[0m\u001b[0;34m\u001b[0m\u001b[0m\n\u001b[1;32m   2353\u001b[0m             \u001b[0;31m# arg is a function\u001b[0m\u001b[0;34m\u001b[0m\u001b[0;34m\u001b[0m\u001b[0m\n\u001b[0;32m-> 2354\u001b[0;31m             \u001b[0mnew_values\u001b[0m \u001b[0;34m=\u001b[0m \u001b[0mmap_f\u001b[0m\u001b[0;34m(\u001b[0m\u001b[0mvalues\u001b[0m\u001b[0;34m,\u001b[0m \u001b[0marg\u001b[0m\u001b[0;34m)\u001b[0m\u001b[0;34m\u001b[0m\u001b[0m\n\u001b[0m\u001b[1;32m   2355\u001b[0m \u001b[0;34m\u001b[0m\u001b[0m\n\u001b[1;32m   2356\u001b[0m         return self._constructor(new_values,\n",
      "\u001b[0;32mpandas/_libs/src/inference.pyx\u001b[0m in \u001b[0;36mpandas._libs.lib.map_infer\u001b[0;34m()\u001b[0m\n",
      "\u001b[0;32m<ipython-input-77-793cbf25c287>\u001b[0m in \u001b[0;36m<lambda>\u001b[0;34m(x)\u001b[0m\n\u001b[1;32m      1\u001b[0m \u001b[0;34m\u001b[0m\u001b[0m\n\u001b[0;32m----> 2\u001b[0;31m \u001b[0mdataTraining\u001b[0m\u001b[0;34m[\u001b[0m\u001b[0;34m'genres'\u001b[0m\u001b[0;34m]\u001b[0m \u001b[0;34m=\u001b[0m \u001b[0mdataTraining\u001b[0m\u001b[0;34m[\u001b[0m\u001b[0;34m'genres'\u001b[0m\u001b[0;34m]\u001b[0m\u001b[0;34m.\u001b[0m\u001b[0mmap\u001b[0m\u001b[0;34m(\u001b[0m\u001b[0;32mlambda\u001b[0m \u001b[0mx\u001b[0m\u001b[0;34m:\u001b[0m \u001b[0meval\u001b[0m\u001b[0;34m(\u001b[0m\u001b[0mx\u001b[0m\u001b[0;34m)\u001b[0m\u001b[0;34m)\u001b[0m\u001b[0;34m\u001b[0m\u001b[0m\n\u001b[0m\u001b[1;32m      3\u001b[0m \u001b[0mle\u001b[0m \u001b[0;34m=\u001b[0m \u001b[0mMultiLabelBinarizer\u001b[0m\u001b[0;34m(\u001b[0m\u001b[0;34m)\u001b[0m\u001b[0;34m\u001b[0m\u001b[0m\n\u001b[1;32m      4\u001b[0m \u001b[0myGenres\u001b[0m \u001b[0;34m=\u001b[0m \u001b[0mle\u001b[0m\u001b[0;34m.\u001b[0m\u001b[0mfit_transform\u001b[0m\u001b[0;34m(\u001b[0m\u001b[0mdataTraining\u001b[0m\u001b[0;34m[\u001b[0m\u001b[0;34m'genres'\u001b[0m\u001b[0;34m]\u001b[0m\u001b[0;34m)\u001b[0m\u001b[0;34m\u001b[0m\u001b[0m\n",
      "\u001b[0;31mTypeError\u001b[0m: eval() arg 1 must be a string, bytes or code object"
     ]
    }
   ],
   "source": [
    "# Get labels for each image. \n",
    "\n",
    "dataTraining['genres'] = dataTraining['genres'].map(lambda x: eval(x))\n",
    "le = MultiLabelBinarizer()\n",
    "yGenres = le.fit_transform(dataTraining['genres'])"
   ]
  },
  {
   "cell_type": "code",
   "execution_count": 0,
   "metadata": {
    "colab": {
     "autoexec": {
      "startup": false,
      "wait_interval": 0
     }
    },
    "colab_type": "code",
    "id": "PDwblqEAGpko"
   },
   "outputs": [],
   "source": [
    "# Creates datasets for training and testing.   \n",
    "xTrainImaGray, xValidationImaGray, yTrainImaGray, yValidationImaGray = train_test_split(trainingImagesGray, yGenres, test_size=0.20, random_state=22)"
   ]
  },
  {
   "cell_type": "code",
   "execution_count": 43,
   "metadata": {
    "colab": {
     "autoexec": {
      "startup": false,
      "wait_interval": 0
     },
     "base_uri": "https://localhost:8080/",
     "height": 185
    },
    "colab_type": "code",
    "executionInfo": {
     "elapsed": 2456,
     "status": "error",
     "timestamp": 1532115712665,
     "user": {
      "displayName": "sergi castel",
      "photoUrl": "//lh5.googleusercontent.com/-t7uPTy_PD5c/AAAAAAAAAAI/AAAAAAAABjU/YrQqLvCov5A/s50-c-k-no/photo.jpg",
      "userId": "104485759475975710875"
     },
     "user_tz": 300
    },
    "id": "B0o4OxBU72xH",
    "outputId": "c4ebe66c-3ed9-4fc3-f471-970763048416"
   },
   "outputs": [
    {
     "ename": "NameError",
     "evalue": "ignored",
     "output_type": "error",
     "traceback": [
      "\u001b[0;31m---------------------------------------------------------------------------\u001b[0m",
      "\u001b[0;31mNameError\u001b[0m                                 Traceback (most recent call last)",
      "\u001b[0;32m<ipython-input-43-558f25bbe4e2>\u001b[0m in \u001b[0;36m<module>\u001b[0;34m()\u001b[0m\n\u001b[0;32m----> 1\u001b[0;31m \u001b[0mxTrainImaColor\u001b[0m\u001b[0;34m.\u001b[0m\u001b[0mshape\u001b[0m\u001b[0;34m\u001b[0m\u001b[0m\n\u001b[0m\u001b[1;32m      2\u001b[0m \u001b[0myTrainImaGrey\u001b[0m\u001b[0;34m.\u001b[0m\u001b[0mshape\u001b[0m\u001b[0;34m\u001b[0m\u001b[0m\n",
      "\u001b[0;31mNameError\u001b[0m: name 'xTrainImaColor' is not defined"
     ]
    }
   ],
   "source": [
    "xTrainImaGray.shape\n"
   ]
  },
  {
   "cell_type": "markdown",
   "metadata": {
    "colab_type": "text",
    "id": "TDLeuRlfB9uV"
   },
   "source": [
    "# Convolutional Neural Network --- VGG16 Model\n",
    "\n"
   ]
  },
  {
   "cell_type": "code",
   "execution_count": 17,
   "metadata": {
    "colab": {
     "autoexec": {
      "startup": false,
      "wait_interval": 0
     },
     "base_uri": "https://localhost:8080/",
     "height": 71
    },
    "colab_type": "code",
    "executionInfo": {
     "elapsed": 8106,
     "status": "ok",
     "timestamp": 1532117926911,
     "user": {
      "displayName": "Jesus Solano",
      "photoUrl": "https://lh3.googleusercontent.com/a/default-user=s128",
      "userId": "111266076568687218605"
     },
     "user_tz": 300
    },
    "id": "MR-FvK0LWBJw",
    "outputId": "09068586-3247-4f9b-887c-38c36aaab06a"
   },
   "outputs": [
    {
     "name": "stdout",
     "output_type": "stream",
     "text": [
      "Downloading data from https://github.com/fchollet/deep-learning-models/releases/download/v0.1/vgg19_weights_tf_dim_ordering_tf_kernels_notop.h5\n",
      "80142336/80134624 [==============================] - 2s 0us/step\n"
     ]
    }
   ],
   "source": [
    "from keras.models import Sequential\n",
    "from keras.layers import Conv2D, MaxPooling2D\n",
    "from keras.layers import Activation, Dropout, Flatten, Dense\n",
    "from keras import backend as K\n",
    "from keras import optimizers as opts\n",
    "from keras.callbacks import History\n",
    "from livelossplot import PlotLossesKeras\n",
    "\n",
    "########## transfer learnring ##########\n",
    "\n",
    "from keras.applications.resnet50 import ResNet50\n",
    "from keras.applications.xception import Xception\n",
    "from keras.applications.vgg16 import VGG16\n",
    "from keras.applications.vgg19 import VGG19\n",
    "\n",
    "# Creates datasets for training and testing.   \n",
    "xTrainImaGrayVGG, xValidationImaGrayVGG, yTrainImaGrayVGG, yValidationImaGrayVGG = train_test_split(trainingImagesVGG, yGenres, test_size=0.20, random_state=22)\n"
   ]
  },
  {
   "cell_type": "code",
   "execution_count": null,
   "metadata": {},
   "outputs": [],
   "source": [
    "### Transfer Learning Neural Network.\n",
    "\n",
    "from keras import backend as K\n",
    "K.clear_session()\n",
    "\n",
    "# Model structure.\n",
    "outputClasses = 24\n",
    "\n",
    "# Create the model. \n",
    "cnnTransferGray = Sequential()\n",
    "\n",
    "# Apply a convolutional layer. \n",
    "cnnTransferGray.add(Flatten(input_shape=newXtrainGrayVGG.shape[1:]))\n",
    "\n",
    "# Add the fully connected.\n",
    "cnnTransferGray.add(Dense(512, activation='sigmoid',init='uniform'))\n",
    "cnnTransferGray.add(BatchNormalization())\n",
    "\n",
    "# Add a dropout.\n",
    "cnnTransferGray.add(Dropout(0.7))\n",
    "\n",
    "# Add the fully connected.\n",
    "cnnTransferGray.add(Dense(outputClasses,init='uniform'))\n",
    "cnnTransferGray.add(BatchNormalization())\n",
    "\n",
    "# Add the activation softmax.\n",
    "cnnTransferGray.add(Activation('sigmoid'))\n",
    "\n",
    "print(cnnTransferGray.summary(70))\n",
    "\n",
    "# Compile the model. \n",
    "\n",
    "op = opts.Adam(lr=0.001)\n",
    "\n",
    "cnnTransferGray.compile(loss = 'categorical_crossentropy',\n",
    "              optimizer = op,\n",
    "              metrics = ['accuracy'])\n",
    "\n",
    "batch_size = 5000\n",
    "epochs = 50\n",
    "\n",
    "cnnTransferGray.fit(xTrainImaGrayVGG, yTrainImaGrayVGG,\n",
    "                    batch_size=batch_size,\n",
    "                    epochs=epochs,\n",
    "                    verbose=1,\n",
    "                    shuffle = True, \n",
    "                    validation_split = 0.1,\n",
    "                    callbacks=[PlotLossesKeras()])\n",
    "\n",
    "cnnTransferGray.save('imaNNtrainedGrayVGG.h5')\n",
    "\n",
    "files.download('imaNNtrainedGrayVGG.h5')\n"
   ]
  },
  {
   "cell_type": "code",
   "execution_count": 56,
   "metadata": {
    "colab": {
     "autoexec": {
      "startup": false,
      "wait_interval": 0
     },
     "base_uri": "https://localhost:8080/",
     "height": 231
    },
    "colab_type": "code",
    "executionInfo": {
     "elapsed": 1894,
     "status": "error",
     "timestamp": 1532101241699,
     "user": {
      "displayName": "Jesus Solano",
      "photoUrl": "https://lh3.googleusercontent.com/a/default-user=s128",
      "userId": "111266076568687218605"
     },
     "user_tz": 300
    },
    "id": "tlTwMtc6T8hW",
    "outputId": "4c960ca2-33e3-4000-8cd9-75da07967f90"
   },
   "outputs": [
    {
     "ename": "NameError",
     "evalue": "ignored",
     "output_type": "error",
     "traceback": [
      "\u001b[0;31m---------------------------------------------------------------------------\u001b[0m",
      "\u001b[0;31mNameError\u001b[0m                                 Traceback (most recent call last)",
      "\u001b[0;32m<ipython-input-56-b56d6f08980c>\u001b[0m in \u001b[0;36m<module>\u001b[0;34m()\u001b[0m\n\u001b[1;32m      2\u001b[0m \u001b[0;32mfrom\u001b[0m \u001b[0msklearn\u001b[0m\u001b[0;34m.\u001b[0m\u001b[0mmetrics\u001b[0m \u001b[0;32mimport\u001b[0m \u001b[0mroc_curve\u001b[0m\u001b[0;34m,\u001b[0m \u001b[0mauc\u001b[0m\u001b[0;34m,\u001b[0m \u001b[0mroc_auc_score\u001b[0m\u001b[0;34m\u001b[0m\u001b[0m\n\u001b[1;32m      3\u001b[0m \u001b[0;34m\u001b[0m\u001b[0m\n\u001b[0;32m----> 4\u001b[0;31m \u001b[0myPredGenreIma\u001b[0m \u001b[0;34m=\u001b[0m \u001b[0mnnIma\u001b[0m\u001b[0;34m.\u001b[0m\u001b[0mpredict\u001b[0m\u001b[0;34m(\u001b[0m\u001b[0mxValidationIma\u001b[0m\u001b[0;34m)\u001b[0m\u001b[0;34m\u001b[0m\u001b[0m\n\u001b[0m\u001b[1;32m      5\u001b[0m \u001b[0mimaAUC\u001b[0m \u001b[0;34m=\u001b[0m \u001b[0mroc_auc_score\u001b[0m\u001b[0;34m(\u001b[0m\u001b[0myValidationIma\u001b[0m\u001b[0;34m,\u001b[0m \u001b[0myPredGenreIma\u001b[0m\u001b[0;34m,\u001b[0m \u001b[0maverage\u001b[0m\u001b[0;34m=\u001b[0m\u001b[0;34m'macro'\u001b[0m\u001b[0;34m)\u001b[0m\u001b[0;34m\u001b[0m\u001b[0m\n\u001b[1;32m      6\u001b[0m \u001b[0;34m\u001b[0m\u001b[0m\n",
      "\u001b[0;31mNameError\u001b[0m: name 'nnIma' is not defined"
     ]
    }
   ],
   "source": [
    "# Scoring model for grey images.\n",
    "\n",
    "from sklearn.metrics import roc_curve, auc, roc_auc_score\n",
    "\n",
    "yPredGenreIma = cnnTransferGray.predict(xValidationImaGrayVGG)\n",
    "imaAUC = roc_auc_score(yValidationImaGrayVGG, yPredGenreIma, average='macro')\n",
    "\n",
    "# Perform the neural network over the test set. \n",
    "\n",
    "print('Evaluating the test set...')\n",
    "score = nnIma.evaluate(xValidationImaGrayVGG, yValidationImaGrayVGG)\n",
    "\n",
    "print('\\nTest score:', score[0])\n",
    "print('Test accuracy:', score[1])\n",
    "print('Model AUC is: ', imaAUC )\n"
   ]
  },
  {
   "cell_type": "markdown",
   "metadata": {},
   "source": [
    "## Print Prediction to Kaggle"
   ]
  },
  {
   "cell_type": "code",
   "execution_count": null,
   "metadata": {},
   "outputs": [],
   "source": [
    "# Print prediction for test (kaggle) data. \n",
    "\n",
    "from keras.models import load_model\n",
    "from google.colab import files\n",
    "\n",
    "cnnTransferGray = load_model('imaNNtrainedGrayVGG.h5')\n",
    "\n",
    "yPredTest = nnIma.predict(testingImagesGray)\n",
    "\n",
    "cols = ['p_Action', 'p_Adventure', 'p_Animation', 'p_Biography', 'p_Comedy', 'p_Crime', 'p_Documentary', 'p_Drama', 'p_Family',\n",
    "        'p_Fantasy', 'p_Film-Noir', 'p_History', 'p_Horror', 'p_Music', 'p_Musical', 'p_Mystery', 'p_News', 'p_Romance',\n",
    "        'p_Sci-Fi', 'p_Short', 'p_Sport', 'p_Thriller', 'p_War', 'p_Western']\n",
    "\n",
    "pd.DataFrame(yPredTest, index=dataTesting.index, columns=cols).to_csv('pred_genres_ImageVGG_Gray.csv', index_label='ID')\n",
    "\n",
    "files.download('pred_genres_ImageVGG_Gray.csv')\n"
   ]
  },
  {
   "cell_type": "markdown",
   "metadata": {
    "colab_type": "text",
    "id": "YDGJ0BagznmY"
   },
   "source": [
    "# Own CNN Network - Gray"
   ]
  },
  {
   "cell_type": "code",
   "execution_count": 18,
   "metadata": {
    "colab": {
     "autoexec": {
      "startup": false,
      "wait_interval": 0
     },
     "base_uri": "https://localhost:8080/",
     "height": 326
    },
    "colab_type": "code",
    "executionInfo": {
     "elapsed": 180,
     "status": "ok",
     "timestamp": 1532044497643,
     "user": {
      "displayName": "Jesus Solano",
      "photoUrl": "https://lh3.googleusercontent.com/a/default-user=s128",
      "userId": "111266076568687218605"
     },
     "user_tz": 300
    },
    "id": "1Fpd-vSZUS8D",
    "outputId": "a58f5d23-1a41-457d-f699-41848c03c3ae"
   },
   "outputs": [
    {
     "data": {
      "image/png": "[encoded data removed]",
      "text/plain": [
       "<matplotlib.figure.Figure at 0x7fccd1d29710>"
      ]
     },
     "metadata": {
      "tags": []
     },
     "output_type": "display_data"
    }
   ],
   "source": [
    "# Neural Network used to train gray images -- Own model.\n",
    "\n",
    "from keras.models import Sequential\n",
    "from keras.layers import Conv1D, MaxPooling1D\n",
    "from keras.layers import Activation, Dropout, Flatten, Dense\n",
    "from keras import backend as K\n",
    "from keras import optimizers as opts\n",
    "from keras.callbacks import History\n",
    "from livelossplot import PlotLossesKeras\n",
    "\n",
    "from keras import backend as K\n",
    "K.clear_session()\n",
    "\n",
    "outputClasses = 24\n",
    "\n",
    "xSize = xTrainIma.shape[1]\n",
    "ySize = xTrainIma.shape[2]\n",
    "\n",
    "# Define if images have color channels firts in the array.\n",
    "if K.image_data_format() == 'channels_first':\n",
    "    input_shape = (3, xSize, ySize)\n",
    "else:\n",
    "    input_shape = (xSize, ySize, 3)\n",
    "\n",
    "####### TEMP \n",
    "\n",
    "input_shape = (xSize, ySize)\n",
    "\n",
    "# Creates a CNN model using keras.\n",
    "\n",
    "nnIma = Sequential()\n",
    "\n",
    "filtersNumber1=32\n",
    "filtersNumber2=64\n",
    "\n",
    "kernelSize= 32\n",
    "maxPoolSize = 2 \n",
    "\n",
    "nnIma.add(Conv1D(filtersNumber2, kernelSize, input_shape=input_shape))\n",
    "nnIma.add(Activation('tanh'))\n",
    "nnIma.add(MaxPooling1D(pool_size=maxPoolSize))\n",
    "nnIma.add(Dropout(0.5))\n",
    "\n",
    "nnIma.add(Conv1D(filtersNumber2, kernelSize))\n",
    "nnIma.add(Activation('tanh'))\n",
    "nnIma.add(MaxPooling1D(pool_size=maxPoolSize))\n",
    "nnIma.add(Dropout(0.5))\n",
    "\n",
    "nnIma.add(Conv1D(filtersNumber1, kernelSize))\n",
    "nnIma.add(Activation('tanh'))\n",
    "nnIma.add(MaxPooling1D(pool_size=maxPoolSize))\n",
    "nnIma.add(Dropout(0.5))\n",
    "\n",
    "nnIma.add(Flatten())\n",
    "nnIma.add(Dense(filtersNumber2))\n",
    "nnIma.add(Activation('tanh'))\n",
    "nnIma.add(Dropout(0.5))\n",
    "nnIma.add(Dense(outputClasses))\n",
    "nnIma.add(Activation('sigmoid'))\n",
    "\n",
    "nnIma.summary()\n",
    "\n",
    "#Defines optimizer.\n",
    "op = opts.adam(lr=0.0001)\n",
    "\n",
    "# Compile the neural network.\n",
    "nnIma.compile(loss='categorical_crossentropy',\n",
    "             optimizer=op,\n",
    "              metrics=['accuracy'])\n",
    "\n",
    "batch_size = 35\n",
    "epochs = 10\n",
    "\n",
    "trainingNNima = nnIma.fit(xTrainIma, yTrainIma,\n",
    "                    batch_size=batch_size,\n",
    "                    epochs=epochs,\n",
    "                    verbose=1,\n",
    "                    shuffle = True, \n",
    "                    validation_data = [xValidationIma,yValidationIma],callbacks=[PlotLossesKeras()])\n",
    "\n",
    "\n",
    "nnIma.save('imaNNtrainedGray.h5')"
   ]
  },
  {
   "cell_type": "code",
   "execution_count": 56,
   "metadata": {
    "colab": {
     "autoexec": {
      "startup": false,
      "wait_interval": 0
     },
     "base_uri": "https://localhost:8080/",
     "height": 231
    },
    "colab_type": "code",
    "executionInfo": {
     "elapsed": 1894,
     "status": "error",
     "timestamp": 1532101241699,
     "user": {
      "displayName": "Jesus Solano",
      "photoUrl": "https://lh3.googleusercontent.com/a/default-user=s128",
      "userId": "111266076568687218605"
     },
     "user_tz": 300
    },
    "id": "tlTwMtc6T8hW",
    "outputId": "4c960ca2-33e3-4000-8cd9-75da07967f90"
   },
   "outputs": [
    {
     "ename": "NameError",
     "evalue": "ignored",
     "output_type": "error",
     "traceback": [
      "\u001b[0;31m---------------------------------------------------------------------------\u001b[0m",
      "\u001b[0;31mNameError\u001b[0m                                 Traceback (most recent call last)",
      "\u001b[0;32m<ipython-input-56-b56d6f08980c>\u001b[0m in \u001b[0;36m<module>\u001b[0;34m()\u001b[0m\n\u001b[1;32m      2\u001b[0m \u001b[0;32mfrom\u001b[0m \u001b[0msklearn\u001b[0m\u001b[0;34m.\u001b[0m\u001b[0mmetrics\u001b[0m \u001b[0;32mimport\u001b[0m \u001b[0mroc_curve\u001b[0m\u001b[0;34m,\u001b[0m \u001b[0mauc\u001b[0m\u001b[0;34m,\u001b[0m \u001b[0mroc_auc_score\u001b[0m\u001b[0;34m\u001b[0m\u001b[0m\n\u001b[1;32m      3\u001b[0m \u001b[0;34m\u001b[0m\u001b[0m\n\u001b[0;32m----> 4\u001b[0;31m \u001b[0myPredGenreIma\u001b[0m \u001b[0;34m=\u001b[0m \u001b[0mnnIma\u001b[0m\u001b[0;34m.\u001b[0m\u001b[0mpredict\u001b[0m\u001b[0;34m(\u001b[0m\u001b[0mxValidationIma\u001b[0m\u001b[0;34m)\u001b[0m\u001b[0;34m\u001b[0m\u001b[0m\n\u001b[0m\u001b[1;32m      5\u001b[0m \u001b[0mimaAUC\u001b[0m \u001b[0;34m=\u001b[0m \u001b[0mroc_auc_score\u001b[0m\u001b[0;34m(\u001b[0m\u001b[0myValidationIma\u001b[0m\u001b[0;34m,\u001b[0m \u001b[0myPredGenreIma\u001b[0m\u001b[0;34m,\u001b[0m \u001b[0maverage\u001b[0m\u001b[0;34m=\u001b[0m\u001b[0;34m'macro'\u001b[0m\u001b[0;34m)\u001b[0m\u001b[0;34m\u001b[0m\u001b[0m\n\u001b[1;32m      6\u001b[0m \u001b[0;34m\u001b[0m\u001b[0m\n",
      "\u001b[0;31mNameError\u001b[0m: name 'nnIma' is not defined"
     ]
    }
   ],
   "source": [
    "# Scoring model for grey images.\n",
    "\n",
    "from sklearn.metrics import roc_curve, auc, roc_auc_score\n",
    "\n",
    "yPredGenreIma = nnIma.predict(xValidationIma)\n",
    "imaAUC = roc_auc_score(yValidationIma, yPredGenreIma, average='macro')\n",
    "\n",
    "# Perform the neural network over the test set. \n",
    "\n",
    "print('Evaluating the test set...')\n",
    "score = nnIma.evaluate(xValidationIma, yValidationIma)\n",
    "\n",
    "print('\\nTest score:', score[0])\n",
    "print('Test accuracy:', score[1])\n",
    "print('Model AUC is: ', imaAUC )\n"
   ]
  },
  {
   "cell_type": "markdown",
   "metadata": {},
   "source": [
    "## Print Prediction to Kaggle"
   ]
  },
  {
   "cell_type": "code",
   "execution_count": null,
   "metadata": {},
   "outputs": [],
   "source": [
    "# Print prediction for test (kaggle) data. \n",
    "\n",
    "from keras.models import load_model\n",
    "from google.colab import files\n",
    "\n",
    "cnnTransferColor = load_model('imaNNtrainedGray.h5')\n",
    "\n",
    "yPredTest = nnIma.predict(testingImagesGray)\n",
    "\n",
    "cols = ['p_Action', 'p_Adventure', 'p_Animation', 'p_Biography', 'p_Comedy', 'p_Crime', 'p_Documentary', 'p_Drama', 'p_Family',\n",
    "        'p_Fantasy', 'p_Film-Noir', 'p_History', 'p_Horror', 'p_Music', 'p_Musical', 'p_Mystery', 'p_News', 'p_Romance',\n",
    "        'p_Sci-Fi', 'p_Short', 'p_Sport', 'p_Thriller', 'p_War', 'p_Western']\n",
    "\n",
    "pd.DataFrame(yPredTest, index=dataTesting.index, columns=cols).to_csv('pred_genres_ImageVGG_Gray.csv', index_label='ID')\n",
    "\n",
    "files.download('pred_genres_ImageVGG_Gray.csv')\n"
   ]
  },
  {
   "cell_type": "code",
   "execution_count": 0,
   "metadata": {
    "colab": {
     "autoexec": {
      "startup": false,
      "wait_interval": 0
     }
    },
    "colab_type": "code",
    "id": "2RORgmZFvyUd"
   },
   "outputs": [],
   "source": [
    "https://arxiv.org/pdf/1702.01992.pdf"
   ]
  }
 ],
 "metadata": {
  "accelerator": "GPU",
  "colab": {
   "collapsed_sections": [],
   "default_view": {},
   "name": "imagesConvolutionalNN.ipynb",
   "provenance": [
    {
     "file_id": "https://github.com/castellwhite/MoviesClassification/blob/master/imagesConvolutionalNN.ipynb",
     "timestamp": 1531860157024
    }
   ],
   "version": "0.3.2",
   "views": {}
  },
  "kernelspec": {
   "display_name": "Python 3",
   "language": "python",
   "name": "python3"
  },
  "language_info": {
   "codemirror_mode": {
    "name": "ipython",
    "version": 3
   },
   "file_extension": ".py",
   "mimetype": "text/x-python",
   "name": "python",
   "nbconvert_exporter": "python",
   "pygments_lexer": "ipython3",
   "version": "3.5.2"
  }
 },
 "nbformat": 4,
 "nbformat_minor": 1
}

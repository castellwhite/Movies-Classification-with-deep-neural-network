{
 "cells": [
  {
   "cell_type": "markdown",
   "metadata": {},
   "source": [
    "<h2><center>\n",
    "# Movies Classification Project\n",
    "</center></h4> <h4><center>\n",
    " <img src=\"http://usblogs.pwc.com/emerging-technology/wp-content/uploads/2017/07/deep-learning-900x280.png\" >\n",
    "\n",
    "\n",
    "# Deep Learning - Convolutional Classifier\n",
    "\n",
    "</center></h4>\n",
    "\n",
    "Developed by [Sergio Castelblanco](http://www.linkedin.com/in/sergio-castelblanco/) - [Jesus Solano](http://www.jesussolano.com)\n",
    "\n",
    "Andes University\n",
    "\n",
    "version 2.1, July 9 2018"
   ]
  },
  {
   "cell_type": "code",
   "execution_count": 1,
   "metadata": {},
   "outputs": [],
   "source": [
    "import pandas as pd\n",
    "import os\n",
    "import numpy as np\n",
    "from sklearn.preprocessing import MultiLabelBinarizer\n",
    "from sklearn.multiclass import OneVsRestClassifier\n",
    "from sklearn.ensemble import RandomForestRegressor, RandomForestClassifier\n",
    "from sklearn.metrics import r2_score, roc_auc_score\n",
    "from sklearn.model_selection import train_test_split\n",
    "from sklearn.decomposition import PCA\n",
    "import matplotlib.pyplot as plt\n",
    "from skimage import io\n",
    "from tqdm import tqdm\n",
    "import os\n",
    "%matplotlib inline"
   ]
  },
  {
   "cell_type": "markdown",
   "metadata": {},
   "source": [
    "# Load data Index"
   ]
  },
  {
   "cell_type": "code",
   "execution_count": 2,
   "metadata": {},
   "outputs": [],
   "source": [
    "# Choosing working directory.\n",
    "path = 'datasets/'"
   ]
  },
  {
   "cell_type": "code",
   "execution_count": 27,
   "metadata": {},
   "outputs": [],
   "source": [
    "dataTraining = pd.read_csv(path+\"dataTraining.csv\",index_col=0)\n",
    "dataTesting = pd.read_csv(path+\"dataTesting.csv\",index_col=0)"
   ]
  },
  {
   "cell_type": "code",
   "execution_count": 4,
   "metadata": {},
   "outputs": [
    {
     "data": {
      "text/html": [
       "<div>\n",
       "<style scoped>\n",
       "    .dataframe tbody tr th:only-of-type {\n",
       "        vertical-align: middle;\n",
       "    }\n",
       "\n",
       "    .dataframe tbody tr th {\n",
       "        vertical-align: top;\n",
       "    }\n",
       "\n",
       "    .dataframe thead th {\n",
       "        text-align: right;\n",
       "    }\n",
       "</style>\n",
       "<table border=\"1\" class=\"dataframe\">\n",
       "  <thead>\n",
       "    <tr style=\"text-align: right;\">\n",
       "      <th></th>\n",
       "      <th>year</th>\n",
       "      <th>title</th>\n",
       "      <th>plot</th>\n",
       "      <th>genres</th>\n",
       "      <th>rating</th>\n",
       "    </tr>\n",
       "  </thead>\n",
       "  <tbody>\n",
       "    <tr>\n",
       "      <th>3107</th>\n",
       "      <td>2003</td>\n",
       "      <td>Most</td>\n",
       "      <td>most is the story of a single father who takes...</td>\n",
       "      <td>['Short', 'Drama']</td>\n",
       "      <td>8.0</td>\n",
       "    </tr>\n",
       "    <tr>\n",
       "      <th>900</th>\n",
       "      <td>2008</td>\n",
       "      <td>How to Be a Serial Killer</td>\n",
       "      <td>a serial killer decides to teach the secrets o...</td>\n",
       "      <td>['Comedy', 'Crime', 'Horror']</td>\n",
       "      <td>5.6</td>\n",
       "    </tr>\n",
       "    <tr>\n",
       "      <th>6724</th>\n",
       "      <td>1941</td>\n",
       "      <td>A Woman's Face</td>\n",
       "      <td>in sweden ,  a female blackmailer with a disfi...</td>\n",
       "      <td>['Drama', 'Film-Noir', 'Thriller']</td>\n",
       "      <td>7.2</td>\n",
       "    </tr>\n",
       "    <tr>\n",
       "      <th>4704</th>\n",
       "      <td>1954</td>\n",
       "      <td>Executive Suite</td>\n",
       "      <td>in a friday afternoon in new york ,  the presi...</td>\n",
       "      <td>['Drama']</td>\n",
       "      <td>7.4</td>\n",
       "    </tr>\n",
       "    <tr>\n",
       "      <th>2582</th>\n",
       "      <td>1990</td>\n",
       "      <td>Narrow Margin</td>\n",
       "      <td>in los angeles ,  the editor of a publishing h...</td>\n",
       "      <td>['Action', 'Crime', 'Thriller']</td>\n",
       "      <td>6.6</td>\n",
       "    </tr>\n",
       "  </tbody>\n",
       "</table>\n",
       "</div>"
      ],
      "text/plain": [
       "      year                      title  \\\n",
       "3107  2003                       Most   \n",
       "900   2008  How to Be a Serial Killer   \n",
       "6724  1941             A Woman's Face   \n",
       "4704  1954            Executive Suite   \n",
       "2582  1990              Narrow Margin   \n",
       "\n",
       "                                                   plot  \\\n",
       "3107  most is the story of a single father who takes...   \n",
       "900   a serial killer decides to teach the secrets o...   \n",
       "6724  in sweden ,  a female blackmailer with a disfi...   \n",
       "4704  in a friday afternoon in new york ,  the presi...   \n",
       "2582  in los angeles ,  the editor of a publishing h...   \n",
       "\n",
       "                                  genres  rating  \n",
       "3107                  ['Short', 'Drama']     8.0  \n",
       "900        ['Comedy', 'Crime', 'Horror']     5.6  \n",
       "6724  ['Drama', 'Film-Noir', 'Thriller']     7.2  \n",
       "4704                           ['Drama']     7.4  \n",
       "2582     ['Action', 'Crime', 'Thriller']     6.6  "
      ]
     },
     "execution_count": 4,
     "metadata": {},
     "output_type": "execute_result"
    }
   ],
   "source": [
    "dataTraining.head()"
   ]
  },
  {
   "cell_type": "code",
   "execution_count": 5,
   "metadata": {},
   "outputs": [
    {
     "data": {
      "text/html": [
       "<div>\n",
       "<style scoped>\n",
       "    .dataframe tbody tr th:only-of-type {\n",
       "        vertical-align: middle;\n",
       "    }\n",
       "\n",
       "    .dataframe tbody tr th {\n",
       "        vertical-align: top;\n",
       "    }\n",
       "\n",
       "    .dataframe thead th {\n",
       "        text-align: right;\n",
       "    }\n",
       "</style>\n",
       "<table border=\"1\" class=\"dataframe\">\n",
       "  <thead>\n",
       "    <tr style=\"text-align: right;\">\n",
       "      <th></th>\n",
       "      <th>year</th>\n",
       "      <th>title</th>\n",
       "      <th>plot</th>\n",
       "    </tr>\n",
       "  </thead>\n",
       "  <tbody>\n",
       "    <tr>\n",
       "      <th>1</th>\n",
       "      <td>1999</td>\n",
       "      <td>Message in a Bottle</td>\n",
       "      <td>who meets by fate ,  shall be sealed by fate ....</td>\n",
       "    </tr>\n",
       "    <tr>\n",
       "      <th>4</th>\n",
       "      <td>1978</td>\n",
       "      <td>Midnight Express</td>\n",
       "      <td>the true story of billy hayes ,  an american c...</td>\n",
       "    </tr>\n",
       "    <tr>\n",
       "      <th>5</th>\n",
       "      <td>1996</td>\n",
       "      <td>Primal Fear</td>\n",
       "      <td>martin vail left the chicago da ' s office to ...</td>\n",
       "    </tr>\n",
       "    <tr>\n",
       "      <th>6</th>\n",
       "      <td>1950</td>\n",
       "      <td>Crisis</td>\n",
       "      <td>husband and wife americans dr .  eugene and mr...</td>\n",
       "    </tr>\n",
       "    <tr>\n",
       "      <th>7</th>\n",
       "      <td>1959</td>\n",
       "      <td>The Tingler</td>\n",
       "      <td>the coroner and scientist dr .  warren chapin ...</td>\n",
       "    </tr>\n",
       "  </tbody>\n",
       "</table>\n",
       "</div>"
      ],
      "text/plain": [
       "   year                title  \\\n",
       "1  1999  Message in a Bottle   \n",
       "4  1978     Midnight Express   \n",
       "5  1996          Primal Fear   \n",
       "6  1950               Crisis   \n",
       "7  1959          The Tingler   \n",
       "\n",
       "                                                plot  \n",
       "1  who meets by fate ,  shall be sealed by fate ....  \n",
       "4  the true story of billy hayes ,  an american c...  \n",
       "5  martin vail left the chicago da ' s office to ...  \n",
       "6  husband and wife americans dr .  eugene and mr...  \n",
       "7  the coroner and scientist dr .  warren chapin ...  "
      ]
     },
     "execution_count": 5,
     "metadata": {},
     "output_type": "execute_result"
    }
   ],
   "source": [
    "dataTesting.head()"
   ]
  },
  {
   "cell_type": "markdown",
   "metadata": {},
   "source": [
    "# Load Images"
   ]
  },
  {
   "cell_type": "code",
   "execution_count": 6,
   "metadata": {},
   "outputs": [],
   "source": [
    "# One image preview.\n",
    "image = io.imread(os.path.join(path, 'images_resize_gray', str(dataTraining.index[1]) + '_resize_gray.jpeg'))"
   ]
  },
  {
   "cell_type": "code",
   "execution_count": 7,
   "metadata": {},
   "outputs": [
    {
     "data": {
      "text/plain": [
       "array([[211, 213, 214, ..., 193, 190, 189],\n",
       "       [210, 212, 213, ..., 195, 193, 192],\n",
       "       [209, 211, 212, ..., 198, 196, 196],\n",
       "       ...,\n",
       "       [211, 211, 211, ..., 195, 196, 197],\n",
       "       [211, 211, 211, ..., 193, 193, 194],\n",
       "       [211, 211, 211, ..., 190, 190, 191]], dtype=uint8)"
      ]
     },
     "execution_count": 7,
     "metadata": {},
     "output_type": "execute_result"
    }
   ],
   "source": [
    "image"
   ]
  },
  {
   "cell_type": "code",
   "execution_count": 8,
   "metadata": {},
   "outputs": [
    {
     "data": {
      "text/plain": [
       "<matplotlib.image.AxesImage at 0x7f0dda77fe48>"
      ]
     },
     "execution_count": 8,
     "metadata": {},
     "output_type": "execute_result"
    },
    {
     "data": {
      "image/png": "[encoded data removed]",
      "text/plain": [
       "<Figure size 432x288 with 1 Axes>"
      ]
     },
     "metadata": {},
     "output_type": "display_data"
    }
   ],
   "source": [
    "fig, ax = plt.subplots(nrows=1, ncols=1)\n",
    "ax.imshow(image, cmap='gray')"
   ]
  },
  {
   "cell_type": "code",
   "execution_count": 17,
   "metadata": {},
   "outputs": [
    {
     "name": "stderr",
     "output_type": "stream",
     "text": [
      "100%|██████████| 7895/7895 [00:07<00:00, 1078.68it/s]\n"
     ]
    },
    {
     "name": "stdout",
     "output_type": "stream",
     "text": [
      "[[[  3   3   3 ...  57  55  51]\n",
      "  [  3   3   3 ...  99  98  95]\n",
      "  [  3   3   3 ...  97  96  94]\n",
      "  ...\n",
      "  [  0   0   0 ...   0   0   0]\n",
      "  [  0   0   0 ...   0   0   0]\n",
      "  [  0   0   0 ...   0   0   0]]\n",
      "\n",
      " [[211 213 214 ... 193 190 189]\n",
      "  [210 212 213 ... 195 193 192]\n",
      "  [209 211 212 ... 198 196 196]\n",
      "  ...\n",
      "  [211 211 211 ... 195 196 197]\n",
      "  [211 211 211 ... 193 193 194]\n",
      "  [211 211 211 ... 190 190 191]]\n",
      "\n",
      " [[204 206 209 ... 218 217 215]\n",
      "  [208 210 212 ... 216 215 213]\n",
      "  [213 214 216 ... 215 213 212]\n",
      "  ...\n",
      "  [233 233 232 ... 230 230 231]\n",
      "  [232 231 231 ... 229 230 230]\n",
      "  [230 230 229 ... 229 229 230]]\n",
      "\n",
      " ...\n",
      "\n",
      " [[125 125 125 ... 238 238 238]\n",
      "  [124 124 124 ... 239 238 238]\n",
      "  [122 122 122 ... 239 239 239]\n",
      "  ...\n",
      "  [  9  11  14 ... 251 251 251]\n",
      "  [104 106 108 ... 251 251 251]\n",
      "  [242 245 248 ... 251 251 251]]\n",
      "\n",
      " [[220 232 245 ... 242 240 239]\n",
      "  [231 238 246 ... 242 241 239]\n",
      "  [244 245 246 ... 242 241 239]\n",
      "  ...\n",
      "  [240 240 240 ... 241 240 240]\n",
      "  [240 240 240 ... 240 240 239]\n",
      "  [240 240 240 ... 240 240 239]]\n",
      "\n",
      " [[ 11  12  13 ...  11  11  11]\n",
      "  [ 12  12  13 ...  11  11  11]\n",
      "  [ 12  12  13 ...  11  11  11]\n",
      "  ...\n",
      "  [ 26  27  28 ...  28  28  27]\n",
      "  [ 26  27  27 ...  29  28  28]\n",
      "  [ 24  24  25 ...  29  28  28]]]\n",
      "Each image has a  (7895, 256, 160)  size.\n",
      "The total number of images to TRANING is:  7895\n"
     ]
    }
   ],
   "source": [
    "# Load images for training.\n",
    "imagesTraining = []\n",
    "\n",
    "for i in dataTraining.index:\n",
    "    imagesTraining.append(io.imread(os.path.join(path, 'images_resize_gray', str(i) + '_resize_gray.jpeg')))\n",
    "\n",
    "# Sort numpy array.\n",
    "imagesTraining = np.asarray(imagesTraining)\n",
    "print('Each image has a ',imagesTraining.shape,' size.')\n",
    "print('The total number of images to TRANING is: ', dataTraining.shape[0])"
   ]
  },
  {
   "cell_type": "code",
   "execution_count": 18,
   "metadata": {},
   "outputs": [
    {
     "name": "stderr",
     "output_type": "stream",
     "text": [
      "100%|██████████| 3383/3383 [00:03<00:00, 1083.75it/s]\n"
     ]
    },
    {
     "name": "stdout",
     "output_type": "stream",
     "text": [
      "Each image has a  (3383, 256, 160)  size.\n",
      "The total number of images to TESTING is:  3383\n"
     ]
    }
   ],
   "source": [
    "# Load images for testing.\n",
    "\n",
    "imagesTesting = []\n",
    "for i in tqdm(dataTesting.index):\n",
    "    imagesTesting.append(io.imread(os.path.join(path, 'images_resize_gray', str(i) + '_resize_gray.jpeg')))\n",
    "\n",
    "# Sort numpy array.\n",
    "imagesTesting=np.asarray(imagesTesting)\n",
    "print('Each image has a ',imagesTesting.shape,' size.')\n",
    "print('The total number of images to TESTING is: ', dataTesting.shape[0])"
   ]
  },
  {
   "cell_type": "markdown",
   "metadata": {},
   "source": [
    "# Create y"
   ]
  },
  {
   "cell_type": "code",
   "execution_count": 20,
   "metadata": {},
   "outputs": [
    {
     "data": {
      "text/plain": [
       "3107                                        [Short, Drama]\n",
       "900                                [Comedy, Crime, Horror]\n",
       "6724                          [Drama, Film-Noir, Thriller]\n",
       "4704                                               [Drama]\n",
       "2582                             [Action, Crime, Thriller]\n",
       "9784                                      [Drama, Western]\n",
       "8804                                    [Horror, Thriller]\n",
       "3501                                       [Drama, Family]\n",
       "7145                     [Comedy, Drama, Fantasy, Romance]\n",
       "4067                                       [Comedy, Sport]\n",
       "4584                                              [Comedy]\n",
       "2471                                              [Comedy]\n",
       "6123                                     [Drama, Thriller]\n",
       "5091                            [Comedy, Fantasy, Romance]\n",
       "1472                                      [Drama, Western]\n",
       "11066                                    [Comedy, Romance]\n",
       "914                               [Crime, Drama, Thriller]\n",
       "4639                             [Action, Drama, Thriller]\n",
       "9668                                     [Drama, Thriller]\n",
       "9080                  [Adventure, Crime, Mystery, Romance]\n",
       "3405                              [Action, Horror, Sci-Fi]\n",
       "4890                         [Documentary, History, Music]\n",
       "107                                        [Drama, Family]\n",
       "3912                                              [Comedy]\n",
       "4148                                     [Comedy, Romance]\n",
       "1883                     [Documentary, Biography, History]\n",
       "8447                            [Horror, Sci-Fi, Thriller]\n",
       "2015                                       [Comedy, Drama]\n",
       "8302                       [Comedy, Horror, Sci-Fi, Sport]\n",
       "6319                  [Action, Adventure, Drama, Thriller]\n",
       "                               ...                        \n",
       "2500                                [Comedy, Drama, Sport]\n",
       "5677                                     [Drama, Thriller]\n",
       "9034                                      [Drama, Romance]\n",
       "5241                                       [Comedy, Drama]\n",
       "10426                                  [Mystery, Thriller]\n",
       "2783                                    [Action, Thriller]\n",
       "6158                     [Action, Comedy, Crime, Thriller]\n",
       "3809                     [Crime, Drama, Mystery, Thriller]\n",
       "8316                        [Animation, Adventure, Family]\n",
       "9755       [Action, Adventure, Comedy, Drama, Family, War]\n",
       "2993                            [Action, Adventure, Drama]\n",
       "1696                              [Comedy, Drama, Romance]\n",
       "5685                              [Drama, Comedy, Romance]\n",
       "2295                                               [Drama]\n",
       "10641                                      [Comedy, Sport]\n",
       "6504                          [Action, Adventure, Western]\n",
       "5939                           [Action, Mystery, Thriller]\n",
       "7763                                      [Family, Comedy]\n",
       "2052                  [Adventure, Drama, History, Romance]\n",
       "1776                                      [Drama, Western]\n",
       "8268                                       [Comedy, Drama]\n",
       "3313                                        [Crime, Drama]\n",
       "4781                 [Crime, Film-Noir, Romance, Thriller]\n",
       "6632                                      [Action, Sci-Fi]\n",
       "10794                                             [Horror]\n",
       "8417                                     [Comedy, Romance]\n",
       "1592                          [Action, Adventure, Fantasy]\n",
       "1723        [Adventure, Musical, Fantasy, Comedy, Romance]\n",
       "7605     [Animation, Adventure, Drama, Family, Fantasy,...\n",
       "215                [Animation, Adventure, Family, Fantasy]\n",
       "Name: genres, Length: 7895, dtype: object"
      ]
     },
     "execution_count": 20,
     "metadata": {},
     "output_type": "execute_result"
    }
   ],
   "source": [
    "dataTraining['genres'].map(lambda x: eval(x))"
   ]
  },
  {
   "cell_type": "code",
   "execution_count": 28,
   "metadata": {},
   "outputs": [],
   "source": [
    "dataTraining['genresF'] = dataTraining['genres'].map(lambda x: eval(x))\n",
    "le = MultiLabelBinarizer()\n",
    "filmGenres = le.fit_transform(dataTraining['genresF'])\n"
   ]
  },
  {
   "cell_type": "code",
   "execution_count": 29,
   "metadata": {},
   "outputs": [
    {
     "data": {
      "text/plain": [
       "array([[0, 0, 0, ..., 0, 0, 0],\n",
       "       [0, 0, 0, ..., 0, 0, 0],\n",
       "       [0, 0, 0, ..., 1, 0, 0],\n",
       "       ...,\n",
       "       [0, 1, 0, ..., 0, 0, 0],\n",
       "       [0, 1, 1, ..., 0, 0, 0],\n",
       "       [0, 1, 1, ..., 0, 0, 0]])"
      ]
     },
     "execution_count": 29,
     "metadata": {},
     "output_type": "execute_result"
    }
   ],
   "source": [
    "filmGenres"
   ]
  },
  {
   "cell_type": "code",
   "execution_count": 30,
   "metadata": {},
   "outputs": [],
   "source": [
    "xTrain, xTest, yTrain, yTest = train_test_split(imagesTraining, filmGenres, test_size=0.33, random_state=22)"
   ]
  },
  {
   "cell_type": "code",
   "execution_count": 37,
   "metadata": {},
   "outputs": [
    {
     "data": {
      "text/plain": [
       "(5289, 256, 160)"
      ]
     },
     "execution_count": 37,
     "metadata": {},
     "output_type": "execute_result"
    }
   ],
   "source": [
    "xTrain.shape"
   ]
  },
  {
   "cell_type": "markdown",
   "metadata": {},
   "source": [
    "# Softmax Regression"
   ]
  },
  {
   "cell_type": "code",
   "execution_count": 33,
   "metadata": {},
   "outputs": [
    {
     "name": "stderr",
     "output_type": "stream",
     "text": [
      "Using TensorFlow backend.\n"
     ]
    }
   ],
   "source": [
    "from keras.models import Sequential\n",
    "from keras.layers import Dense, Dropout, Activation, Flatten\n",
    "from keras.layers import Conv2D, MaxPooling2D\n",
    "from livelossplot import PlotLossesKeras"
   ]
  },
  {
   "cell_type": "code",
   "execution_count": 38,
   "metadata": {},
   "outputs": [
    {
     "data": {
      "text/plain": [
       "160"
      ]
     },
     "execution_count": 38,
     "metadata": {},
     "output_type": "execute_result"
    }
   ],
   "source": [
    "filmGenres.shape[1]\n",
    "xTrain.shape[2]"
   ]
  },
  {
   "cell_type": "code",
   "execution_count": 39,
   "metadata": {},
   "outputs": [
    {
     "name": "stdout",
     "output_type": "stream",
     "text": [
      "______________________________________________________________________\n",
      "Layer (type)                   Output Shape                Param #    \n",
      "======================================================================\n",
      "flatten_1 (Flatten)            (None, 40960)               0          \n",
      "______________________________________________________________________\n",
      "dense_1 (Dense)                (None, 24)                  983064     \n",
      "______________________________________________________________________\n",
      "activation_1 (Activation)      (None, 24)                  0          \n",
      "======================================================================\n",
      "Total params: 983,064\n",
      "Trainable params: 983,064\n",
      "Non-trainable params: 0\n",
      "______________________________________________________________________\n"
     ]
    }
   ],
   "source": [
    "# Model structure.\n",
    "outputClasses = filmGenres.shape[1]\n",
    "\n",
    "# Create the model. \n",
    "softmaxNN = Sequential()\n",
    "\n",
    "# Convert from 160x32x3 to one vector. \n",
    "softmaxNN.add(Flatten(input_shape=(xTrain.shape[1],xTrain.shape[2])))\n",
    "\n",
    "# Add the fully connected.\n",
    "softmaxNN.add(Dense(outputClasses))\n",
    "\n",
    "# Add the activation softmax.\n",
    "softmaxNN.add(Activation('softmax'))\n",
    "\n",
    "softmaxNN.summary(70)"
   ]
  },
  {
   "cell_type": "code",
   "execution_count": 40,
   "metadata": {},
   "outputs": [],
   "source": [
    "# Compile the model. \n",
    "softmaxNN.compile(loss = 'categorical_crossentropy',\n",
    "              optimizer = 'rmsprop',\n",
    "              metrics = ['accuracy'])"
   ]
  },
  {
   "cell_type": "code",
   "execution_count": 42,
   "metadata": {},
   "outputs": [
    {
     "name": "stdout",
     "output_type": "stream",
     "text": [
      "Epoch 1/20\n",
      " - 2s - loss: 40.1733 - acc: 0.0074\n",
      "Epoch 2/20\n",
      " - 2s - loss: 39.9768 - acc: 0.0045\n",
      "Epoch 3/20\n",
      " - 2s - loss: 39.9768 - acc: 0.0045\n",
      "Epoch 4/20\n",
      " - 2s - loss: 39.9768 - acc: 0.0045\n",
      "Epoch 5/20\n",
      " - 2s - loss: 39.9768 - acc: 0.0045\n",
      "Epoch 6/20\n",
      " - 2s - loss: 39.9768 - acc: 0.0045\n",
      "Epoch 7/20\n",
      " - 2s - loss: 39.9768 - acc: 0.0045\n",
      "Epoch 8/20\n",
      " - 2s - loss: 39.9768 - acc: 0.0045\n",
      "Epoch 9/20\n",
      " - 2s - loss: 39.9768 - acc: 0.0045\n",
      "Epoch 10/20\n",
      " - 2s - loss: 39.9768 - acc: 0.0045\n",
      "Epoch 11/20\n",
      " - 2s - loss: 39.9768 - acc: 0.0045\n",
      "Epoch 12/20\n",
      " - 2s - loss: 39.9768 - acc: 0.0045\n",
      "Epoch 13/20\n",
      " - 2s - loss: 39.9768 - acc: 0.0045\n",
      "Epoch 14/20\n",
      " - 2s - loss: 39.9768 - acc: 0.0045\n",
      "Epoch 15/20\n",
      " - 2s - loss: 39.9768 - acc: 0.0045\n",
      "Epoch 16/20\n",
      " - 2s - loss: 39.9768 - acc: 0.0045\n",
      "Epoch 17/20\n",
      " - 2s - loss: 39.9768 - acc: 0.0045\n",
      "Epoch 18/20\n",
      " - 3s - loss: 39.9768 - acc: 0.0045\n",
      "Epoch 19/20\n",
      " - 2s - loss: 39.9768 - acc: 0.0045\n",
      "Epoch 20/20\n",
      " - 2s - loss: 39.9768 - acc: 0.0045\n"
     ]
    },
    {
     "data": {
      "text/plain": [
       "<keras.callbacks.History at 0x7f0dea22c550>"
      ]
     },
     "execution_count": 42,
     "metadata": {},
     "output_type": "execute_result"
    }
   ],
   "source": [
    "# Train neural network. \n",
    "\n",
    "softmaxNN.fit(xTrain, yTrain, epochs=20, verbose=2,batch_size=500)"
   ]
  },
  {
   "cell_type": "code",
   "execution_count": null,
   "metadata": {},
   "outputs": [],
   "source": [
    "roc_auc_score(y_test_genres, y_pred_genres, average='macro')"
   ]
  },
  {
   "cell_type": "markdown",
   "metadata": {},
   "source": [
    "# Apply models to test"
   ]
  },
  {
   "cell_type": "code",
   "execution_count": null,
   "metadata": {},
   "outputs": [],
   "source": [
    "cols = ['p_Action', 'p_Adventure', 'p_Animation', 'p_Biography', 'p_Comedy', 'p_Crime', 'p_Documentary', 'p_Drama', 'p_Family',\n",
    "        'p_Fantasy', 'p_Film-Noir', 'p_History', 'p_Horror', 'p_Music', 'p_Musical', 'p_Mystery', 'p_News', 'p_Romance',\n",
    "        'p_Sci-Fi', 'p_Short', 'p_Sport', 'p_Thriller', 'p_War', 'p_Western']\n",
    "\n",
    "y_pred_test_genres = clf.predict_proba(images_testing_pca)\n",
    "\n",
    "pd.DataFrame(y_pred_test_genres, index=dataTesting.index, columns=cols).to_csv('pred_genres_img_RF.csv', index_label='ID')"
   ]
  },
  {
   "cell_type": "code",
   "execution_count": null,
   "metadata": {},
   "outputs": [],
   "source": []
  }
 ],
 "metadata": {
  "kernelspec": {
   "display_name": "Python 3",
   "language": "python",
   "name": "python3"
  },
  "language_info": {
   "codemirror_mode": {
    "name": "ipython",
    "version": 3
   },
   "file_extension": ".py",
   "mimetype": "text/x-python",
   "name": "python",
   "nbconvert_exporter": "python",
   "pygments_lexer": "ipython3",
   "version": "3.5.2"
  },
  "widgets": {
   "application/vnd.jupyter.widget-state+json": {
    "state": {},
    "version_major": 2,
    "version_minor": 0
   }
  }
 },
 "nbformat": 4,
 "nbformat_minor": 2
}

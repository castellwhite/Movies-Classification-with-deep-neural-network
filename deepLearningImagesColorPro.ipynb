{
  "nbformat": 4,
  "nbformat_minor": 0,
  "metadata": {
    "colab": {
      "name": "deepLearningImagesColorPro.ipynb",
      "version": "0.3.2",
      "views": {},
      "default_view": {},
      "provenance": [
        {
          "file_id": "1G0V07NfHePwcMAv3Idupwqeg_PXam1eh",
          "timestamp": 1532308234696
        },
        {
          "file_id": "https://github.com/castellwhite/MoviesClassification/blob/master/imagesConvolutionalNN.ipynb",
          "timestamp": 1531860157024
        }
      ],
      "collapsed_sections": []
    },
    "kernelspec": {
      "display_name": "Python 3",
      "language": "python",
      "name": "python3"
    },
    "accelerator": "GPU"
  },
  "cells": [
    {
      "metadata": {
        "id": "lSfs6lpO3HA0",
        "colab_type": "text"
      },
      "cell_type": "markdown",
      "source": [
        "\n",
        "# Movies Classification Project\n",
        "\n",
        " <img src=\"http://usblogs.pwc.com/emerging-technology/wp-content/uploads/2017/07/deep-learning-900x280.png\" >\n",
        "\n",
        "\n",
        "# Deep Learning - Color Images\n",
        "\n",
        "\n",
        "Developed by [Sergio Castelblanco](http://www.linkedin.com/in/sergio-castelblanco/) - [Jesus Solano](mailto:ja.solano588@uniandes.edu.co)\n",
        "\n",
        "Andes University\n",
        "\n",
        "version 2.1, July 9 2018"
      ]
    },
    {
      "metadata": {
        "id": "Ne1Z5Nx-3HA3",
        "colab_type": "code",
        "colab": {
          "autoexec": {
            "startup": false,
            "wait_interval": 0
          },
          "base_uri": "https://localhost:8080/",
          "height": 34
        },
        "outputId": "ae3bdd83-c098-4566-b011-be2d5cb6aced",
        "executionInfo": {
          "status": "ok",
          "timestamp": 1532310477501,
          "user_tz": 300,
          "elapsed": 1780,
          "user": {
            "displayName": "Jesus Solano",
            "photoUrl": "https://lh3.googleusercontent.com/a/default-user=s128",
            "userId": "111266076568687218605"
          }
        }
      },
      "cell_type": "code",
      "source": [
        "import pandas as pd\n",
        "import os\n",
        "import numpy as np\n",
        "from sklearn.preprocessing import MultiLabelBinarizer\n",
        "from sklearn.metrics import r2_score, roc_auc_score\n",
        "from sklearn.model_selection import train_test_split\n",
        "import matplotlib.pyplot as plt\n",
        "from skimage import io\n",
        "from tqdm import tqdm\n",
        "import livelossplot\n",
        "%matplotlib inline"
      ],
      "execution_count": 1,
      "outputs": [
        {
          "output_type": "stream",
          "text": [
            "Using TensorFlow backend.\n"
          ],
          "name": "stderr"
        }
      ]
    },
    {
      "metadata": {
        "id": "KD7-6y893HA6",
        "colab_type": "text"
      },
      "cell_type": "markdown",
      "source": [
        "# Read Data"
      ]
    },
    {
      "metadata": {
        "id": "ZoVepxie3HA9",
        "colab_type": "code",
        "colab": {
          "autoexec": {
            "startup": false,
            "wait_interval": 0
          }
        }
      },
      "cell_type": "code",
      "source": [
        "# If datasets already exist do nothing. \n",
        "\n",
        "if not os.path.exists('dataTesting.csv'):\n",
        "  ! wget https://raw.githubusercontent.com/castellwhite/MoviesClassification/master/datasets/dataTesting.csv\n",
        "    \n",
        "if not os.path.exists('dataTraining.csv'):\n",
        "  ! wget https://raw.githubusercontent.com/castellwhite/MoviesClassification/master/datasets/dataTraining.csv\n",
        "    \n",
        "\n",
        "if not os.path.exists('images_resize_color.zip'):\n",
        "  # Install the PyDrive wrapper & import libraries.\n",
        "  # This only needs to be done once per notebook.\n",
        "  !pip install -U -q PyDrive\n",
        "  from pydrive.auth import GoogleAuth\n",
        "  from pydrive.drive import GoogleDrive\n",
        "  from google.colab import auth\n",
        "  from oauth2client.client import GoogleCredentials\n",
        "\n",
        "  # Authenticate and create the PyDrive client.\n",
        "  # This only needs to be done once per notebook.\n",
        "  auth.authenticate_user()\n",
        "  gauth = GoogleAuth()\n",
        "  gauth.credentials = GoogleCredentials.get_application_default()\n",
        "  drive = GoogleDrive(gauth)\n",
        "\n",
        "  # Download a file based on its file ID(Grey).\n",
        "  #\n",
        "  # A file ID looks like: laggVyWshwcyP6kEI-y_W3P8D26sz\n",
        "  file_id = '1ZO1wPtxWfnthbm2NrXt4ca1ZvuxQWD_r'\n",
        "  downloaded = drive.CreateFile({'id': file_id})\n",
        "  downloaded.GetContentFile(downloaded['title'])\n",
        "  !unzip -q images_resize_color.zip \n",
        "\n",
        "dataTraining = pd.read_csv(\"dataTraining.csv\",index_col=0)\n",
        "dataTesting = pd.read_csv(\"dataTesting.csv\",index_col=0)"
      ],
      "execution_count": 0,
      "outputs": []
    },
    {
      "metadata": {
        "id": "WJmtKSAuM_27",
        "colab_type": "code",
        "colab": {
          "autoexec": {
            "startup": false,
            "wait_interval": 0
          },
          "base_uri": "https://localhost:8080/",
          "height": 69
        },
        "outputId": "1dc4597e-ef12-4d9f-d1a7-fb268ac8f61e",
        "executionInfo": {
          "status": "ok",
          "timestamp": 1532310484715,
          "user_tz": 300,
          "elapsed": 1892,
          "user": {
            "displayName": "Jesus Solano",
            "photoUrl": "https://lh3.googleusercontent.com/a/default-user=s128",
            "userId": "111266076568687218605"
          }
        }
      },
      "cell_type": "code",
      "source": [
        "! ls"
      ],
      "execution_count": 3,
      "outputs": [
        {
          "output_type": "stream",
          "text": [
            "datalab\t\t  images_resize_color\t   images_resize_gray.zip\r\n",
            "dataTesting.csv   images_resize_color.zip  imaNNtrainedGray.h5\r\n",
            "dataTraining.csv  images_resize_gray\t   imaNNtrainedGrayVGG.h5\r\n"
          ],
          "name": "stdout"
        }
      ]
    },
    {
      "metadata": {
        "id": "0T_9hhJ93HBA",
        "colab_type": "code",
        "colab": {
          "autoexec": {
            "startup": false,
            "wait_interval": 0
          },
          "base_uri": "https://localhost:8080/",
          "height": 206
        },
        "outputId": "4ef35c6d-3fb6-4839-a69d-7bcf46ab2250",
        "executionInfo": {
          "status": "ok",
          "timestamp": 1532310485813,
          "user_tz": 300,
          "elapsed": 993,
          "user": {
            "displayName": "Jesus Solano",
            "photoUrl": "https://lh3.googleusercontent.com/a/default-user=s128",
            "userId": "111266076568687218605"
          }
        }
      },
      "cell_type": "code",
      "source": [
        "dataTraining.head()"
      ],
      "execution_count": 4,
      "outputs": [
        {
          "output_type": "execute_result",
          "data": {
            "text/html": [
              "<div>\n",
              "<style scoped>\n",
              "    .dataframe tbody tr th:only-of-type {\n",
              "        vertical-align: middle;\n",
              "    }\n",
              "\n",
              "    .dataframe tbody tr th {\n",
              "        vertical-align: top;\n",
              "    }\n",
              "\n",
              "    .dataframe thead th {\n",
              "        text-align: right;\n",
              "    }\n",
              "</style>\n",
              "<table border=\"1\" class=\"dataframe\">\n",
              "  <thead>\n",
              "    <tr style=\"text-align: right;\">\n",
              "      <th></th>\n",
              "      <th>year</th>\n",
              "      <th>title</th>\n",
              "      <th>plot</th>\n",
              "      <th>genres</th>\n",
              "      <th>rating</th>\n",
              "    </tr>\n",
              "  </thead>\n",
              "  <tbody>\n",
              "    <tr>\n",
              "      <th>3107</th>\n",
              "      <td>2003</td>\n",
              "      <td>Most</td>\n",
              "      <td>most is the story of a single father who takes...</td>\n",
              "      <td>['Short', 'Drama']</td>\n",
              "      <td>8.0</td>\n",
              "    </tr>\n",
              "    <tr>\n",
              "      <th>900</th>\n",
              "      <td>2008</td>\n",
              "      <td>How to Be a Serial Killer</td>\n",
              "      <td>a serial killer decides to teach the secrets o...</td>\n",
              "      <td>['Comedy', 'Crime', 'Horror']</td>\n",
              "      <td>5.6</td>\n",
              "    </tr>\n",
              "    <tr>\n",
              "      <th>6724</th>\n",
              "      <td>1941</td>\n",
              "      <td>A Woman's Face</td>\n",
              "      <td>in sweden ,  a female blackmailer with a disfi...</td>\n",
              "      <td>['Drama', 'Film-Noir', 'Thriller']</td>\n",
              "      <td>7.2</td>\n",
              "    </tr>\n",
              "    <tr>\n",
              "      <th>4704</th>\n",
              "      <td>1954</td>\n",
              "      <td>Executive Suite</td>\n",
              "      <td>in a friday afternoon in new york ,  the presi...</td>\n",
              "      <td>['Drama']</td>\n",
              "      <td>7.4</td>\n",
              "    </tr>\n",
              "    <tr>\n",
              "      <th>2582</th>\n",
              "      <td>1990</td>\n",
              "      <td>Narrow Margin</td>\n",
              "      <td>in los angeles ,  the editor of a publishing h...</td>\n",
              "      <td>['Action', 'Crime', 'Thriller']</td>\n",
              "      <td>6.6</td>\n",
              "    </tr>\n",
              "  </tbody>\n",
              "</table>\n",
              "</div>"
            ],
            "text/plain": [
              "      year                      title  \\\n",
              "3107  2003                       Most   \n",
              "900   2008  How to Be a Serial Killer   \n",
              "6724  1941             A Woman's Face   \n",
              "4704  1954            Executive Suite   \n",
              "2582  1990              Narrow Margin   \n",
              "\n",
              "                                                   plot  \\\n",
              "3107  most is the story of a single father who takes...   \n",
              "900   a serial killer decides to teach the secrets o...   \n",
              "6724  in sweden ,  a female blackmailer with a disfi...   \n",
              "4704  in a friday afternoon in new york ,  the presi...   \n",
              "2582  in los angeles ,  the editor of a publishing h...   \n",
              "\n",
              "                                  genres  rating  \n",
              "3107                  ['Short', 'Drama']     8.0  \n",
              "900        ['Comedy', 'Crime', 'Horror']     5.6  \n",
              "6724  ['Drama', 'Film-Noir', 'Thriller']     7.2  \n",
              "4704                           ['Drama']     7.4  \n",
              "2582     ['Action', 'Crime', 'Thriller']     6.6  "
            ]
          },
          "metadata": {
            "tags": []
          },
          "execution_count": 4
        }
      ]
    },
    {
      "metadata": {
        "id": "P7XA3oZ03HBF",
        "colab_type": "code",
        "colab": {
          "autoexec": {
            "startup": false,
            "wait_interval": 0
          },
          "base_uri": "https://localhost:8080/",
          "height": 206
        },
        "outputId": "808d3098-d0f9-47c3-f72c-f082e3631c6d",
        "executionInfo": {
          "status": "ok",
          "timestamp": 1532310486782,
          "user_tz": 300,
          "elapsed": 831,
          "user": {
            "displayName": "Jesus Solano",
            "photoUrl": "https://lh3.googleusercontent.com/a/default-user=s128",
            "userId": "111266076568687218605"
          }
        }
      },
      "cell_type": "code",
      "source": [
        "dataTesting.head()"
      ],
      "execution_count": 5,
      "outputs": [
        {
          "output_type": "execute_result",
          "data": {
            "text/html": [
              "<div>\n",
              "<style scoped>\n",
              "    .dataframe tbody tr th:only-of-type {\n",
              "        vertical-align: middle;\n",
              "    }\n",
              "\n",
              "    .dataframe tbody tr th {\n",
              "        vertical-align: top;\n",
              "    }\n",
              "\n",
              "    .dataframe thead th {\n",
              "        text-align: right;\n",
              "    }\n",
              "</style>\n",
              "<table border=\"1\" class=\"dataframe\">\n",
              "  <thead>\n",
              "    <tr style=\"text-align: right;\">\n",
              "      <th></th>\n",
              "      <th>year</th>\n",
              "      <th>title</th>\n",
              "      <th>plot</th>\n",
              "    </tr>\n",
              "  </thead>\n",
              "  <tbody>\n",
              "    <tr>\n",
              "      <th>1</th>\n",
              "      <td>1999</td>\n",
              "      <td>Message in a Bottle</td>\n",
              "      <td>who meets by fate ,  shall be sealed by fate ....</td>\n",
              "    </tr>\n",
              "    <tr>\n",
              "      <th>4</th>\n",
              "      <td>1978</td>\n",
              "      <td>Midnight Express</td>\n",
              "      <td>the true story of billy hayes ,  an american c...</td>\n",
              "    </tr>\n",
              "    <tr>\n",
              "      <th>5</th>\n",
              "      <td>1996</td>\n",
              "      <td>Primal Fear</td>\n",
              "      <td>martin vail left the chicago da ' s office to ...</td>\n",
              "    </tr>\n",
              "    <tr>\n",
              "      <th>6</th>\n",
              "      <td>1950</td>\n",
              "      <td>Crisis</td>\n",
              "      <td>husband and wife americans dr .  eugene and mr...</td>\n",
              "    </tr>\n",
              "    <tr>\n",
              "      <th>7</th>\n",
              "      <td>1959</td>\n",
              "      <td>The Tingler</td>\n",
              "      <td>the coroner and scientist dr .  warren chapin ...</td>\n",
              "    </tr>\n",
              "  </tbody>\n",
              "</table>\n",
              "</div>"
            ],
            "text/plain": [
              "   year                title  \\\n",
              "1  1999  Message in a Bottle   \n",
              "4  1978     Midnight Express   \n",
              "5  1996          Primal Fear   \n",
              "6  1950               Crisis   \n",
              "7  1959          The Tingler   \n",
              "\n",
              "                                                plot  \n",
              "1  who meets by fate ,  shall be sealed by fate ....  \n",
              "4  the true story of billy hayes ,  an american c...  \n",
              "5  martin vail left the chicago da ' s office to ...  \n",
              "6  husband and wife americans dr .  eugene and mr...  \n",
              "7  the coroner and scientist dr .  warren chapin ...  "
            ]
          },
          "metadata": {
            "tags": []
          },
          "execution_count": 5
        }
      ]
    },
    {
      "metadata": {
        "id": "4CMUPs6h3HBI",
        "colab_type": "text"
      },
      "cell_type": "markdown",
      "source": [
        "# Read Images"
      ]
    },
    {
      "metadata": {
        "id": "FRTkgJOA3HBK",
        "colab_type": "code",
        "colab": {
          "autoexec": {
            "startup": false,
            "wait_interval": 0
          },
          "base_uri": "https://localhost:8080/",
          "height": 285
        },
        "outputId": "3e208f66-1c47-4473-e133-d4fb3f62502f",
        "executionInfo": {
          "status": "ok",
          "timestamp": 1532310539723,
          "user_tz": 300,
          "elapsed": 1510,
          "user": {
            "displayName": "Jesus Solano",
            "photoUrl": "https://lh3.googleusercontent.com/a/default-user=s128",
            "userId": "111266076568687218605"
          }
        }
      },
      "cell_type": "code",
      "source": [
        "# Show an image example - Gray \n",
        "from keras.preprocessing.image import ImageDataGenerator, array_to_img, img_to_array, load_img\n",
        "from PIL import Image\n",
        "from skimage.transform import resize\n",
        "\n",
        "targetX=80\n",
        "targetY=128\n",
        "\n",
        "image= load_img(os.path.join( 'images_resize_color/', str(dataTraining.index[124]) + '.jpeg'))\n",
        "image = image.resize((targetX,targetY),Image.ANTIALIAS)\n",
        "\n",
        "#print(image.shape)\n",
        "fig, ax = plt.subplots(nrows=1, ncols=1)\n",
        "ax.imshow(image)"
      ],
      "execution_count": 8,
      "outputs": [
        {
          "output_type": "execute_result",
          "data": {
            "text/plain": [
              "<matplotlib.image.AxesImage at 0x7f73fa06f860>"
            ]
          },
          "metadata": {
            "tags": []
          },
          "execution_count": 8
        },
        {
          "output_type": "display_data",
          "data": {
            "image/png": "[encoded data removed]",
            "text/plain": [
              "<matplotlib.figure.Figure at 0x7f73fa21a4a8>"
            ]
          },
          "metadata": {
            "tags": []
          }
        }
      ]
    },
    {
      "metadata": {
        "id": "hpqvdLQJLjFt",
        "colab_type": "code",
        "colab": {
          "autoexec": {
            "startup": false,
            "wait_interval": 0
          },
          "base_uri": "https://localhost:8080/",
          "height": 52
        },
        "outputId": "9b05a198-22b2-483c-d069-d530ae746b63",
        "executionInfo": {
          "status": "ok",
          "timestamp": 1532310558269,
          "user_tz": 300,
          "elapsed": 15852,
          "user": {
            "displayName": "Jesus Solano",
            "photoUrl": "https://lh3.googleusercontent.com/a/default-user=s128",
            "userId": "111266076568687218605"
          }
        }
      },
      "cell_type": "code",
      "source": [
        "# Load all gray images.\n",
        "\n",
        "\n",
        "from skimage.transform import resize\n",
        "from PIL import Image\n",
        "\n",
        "targetX=40\n",
        "targetY=64\n",
        "\n",
        "print('\\nLoading images for traning...')\n",
        "images_training = []\n",
        "for i in dataTraining.index:\n",
        "    tempImage = load_img(os.path.join( 'images_resize_color/', str(i) + '.jpeg'))\n",
        "    tempImage = tempImage.resize((targetX,targetY),Image.ANTIALIAS)\n",
        "    images_training.append(img_to_array(tempImage))\n",
        "    \n",
        "    \n",
        "trainingImagesColor = np.asarray(images_training)\n",
        "\n"
      ],
      "execution_count": 9,
      "outputs": [
        {
          "output_type": "stream",
          "text": [
            "\n",
            "Loading images for traning...\n"
          ],
          "name": "stdout"
        }
      ]
    },
    {
      "metadata": {
        "id": "NF0oTl1ky8qq",
        "colab_type": "code",
        "colab": {
          "autoexec": {
            "startup": false,
            "wait_interval": 0
          },
          "base_uri": "https://localhost:8080/",
          "height": 34
        },
        "outputId": "14f69ba3-f090-45df-9982-18dd43186249",
        "executionInfo": {
          "status": "ok",
          "timestamp": 1532310560556,
          "user_tz": 300,
          "elapsed": 634,
          "user": {
            "displayName": "Jesus Solano",
            "photoUrl": "https://lh3.googleusercontent.com/a/default-user=s128",
            "userId": "111266076568687218605"
          }
        }
      },
      "cell_type": "code",
      "source": [
        "trainingImagesColor.shape"
      ],
      "execution_count": 10,
      "outputs": [
        {
          "output_type": "execute_result",
          "data": {
            "text/plain": [
              "(7895, 64, 40, 3)"
            ]
          },
          "metadata": {
            "tags": []
          },
          "execution_count": 10
        }
      ]
    },
    {
      "metadata": {
        "id": "4MtlCnVXP5h0",
        "colab_type": "code",
        "colab": {
          "autoexec": {
            "startup": false,
            "wait_interval": 0
          },
          "base_uri": "https://localhost:8080/",
          "height": 54
        },
        "outputId": "a8429e2f-5a73-463e-a99b-f72a0def6ce0",
        "executionInfo": {
          "status": "ok",
          "timestamp": 1532310563331,
          "user_tz": 300,
          "elapsed": 639,
          "user": {
            "displayName": "Jesus Solano",
            "photoUrl": "https://lh3.googleusercontent.com/a/default-user=s128",
            "userId": "111266076568687218605"
          }
        }
      },
      "cell_type": "code",
      "source": [
        "'''\n",
        "print('\\nLoading images for testing...')\n",
        "images_testing = []\n",
        "for i in dataTesting.index:\n",
        "    tempImage = load_img(os.path.join( 'images_resize_color/', str(i) + '.jpeg'))\n",
        "    tempImage = tempImage.resize((targetX,targetY),Image.ANTIALIAS)\n",
        "    images_training.append(img_to_array(tempImage))\n",
        "\n",
        "testingImagesColor = np.asarray(images_testing)\n",
        "\n",
        "'''"
      ],
      "execution_count": 11,
      "outputs": [
        {
          "output_type": "execute_result",
          "data": {
            "text/plain": [
              "\"\\nprint('\\nLoading images for testing...')\\nimages_testing = []\\nfor i in dataTesting.index:\\n    tempImage = load_img(os.path.join( 'images_resize_color/', str(i) + '.jpeg'))\\n    tempImage = tempImage.resize((targetX,targetY),Image.ANTIALIAS)\\n    images_training.append(img_to_array(tempImage))\\n\\ntestingImagesColor = np.asarray(images_testing)\\n\\n\""
            ]
          },
          "metadata": {
            "tags": []
          },
          "execution_count": 11
        }
      ]
    },
    {
      "metadata": {
        "id": "RMVwe8-hIFR3",
        "colab_type": "code",
        "colab": {
          "autoexec": {
            "startup": false,
            "wait_interval": 0
          }
        }
      },
      "cell_type": "code",
      "source": [
        "from keras.applications import VGG16\n",
        "from skimage.transform import resize\n",
        "\n",
        "vgg16 = VGG16(include_top=False, weights='imagenet')\n",
        "\n",
        "trainingImagesVGG = vgg16.predict(trainingImagesColor)\n",
        "  "
      ],
      "execution_count": 0,
      "outputs": []
    },
    {
      "metadata": {
        "id": "K6mtfWv2QWCQ",
        "colab_type": "code",
        "colab": {
          "autoexec": {
            "startup": false,
            "wait_interval": 0
          }
        }
      },
      "cell_type": "code",
      "source": [
        "# Get labels for each image. \n",
        "\n",
        "dataTraining['genres'] = dataTraining['genres'].map(lambda x: eval(x))\n",
        "le = MultiLabelBinarizer()\n",
        "yGenres = le.fit_transform(dataTraining['genres'])"
      ],
      "execution_count": 0,
      "outputs": []
    },
    {
      "metadata": {
        "id": "TDLeuRlfB9uV",
        "colab_type": "text"
      },
      "cell_type": "markdown",
      "source": [
        "# Convolutional Neural Network --- VGG16 Model\n",
        "\n"
      ]
    },
    {
      "metadata": {
        "id": "MR-FvK0LWBJw",
        "colab_type": "code",
        "colab": {
          "autoexec": {
            "startup": false,
            "wait_interval": 0
          }
        }
      },
      "cell_type": "code",
      "source": [
        "from keras.models import Sequential\n",
        "from keras.layers import Conv2D, MaxPooling2D\n",
        "from keras.layers import Activation, Dropout, Flatten, Dense ,BatchNormalization\n",
        "from keras import backend as K\n",
        "from keras import optimizers as opts\n",
        "from keras.callbacks import History\n",
        "from livelossplot import PlotLossesKeras\n"
      ],
      "execution_count": 0,
      "outputs": []
    },
    {
      "metadata": {
        "id": "nBA3IneyTFZF",
        "colab_type": "code",
        "colab": {
          "autoexec": {
            "startup": false,
            "wait_interval": 0
          }
        }
      },
      "cell_type": "code",
      "source": [
        "########## Transfer learnring ##########\n",
        "\n",
        "\n",
        "# Creates datasets for training and testing.   \n",
        "xTrainImaColorVGG, xValidationImaColorVGG, yTrainImaColorVGG, yValidationImaColorVGG = train_test_split(trainingImagesVGG, yGenres, test_size=0.20, random_state=22)"
      ],
      "execution_count": 0,
      "outputs": []
    },
    {
      "metadata": {
        "id": "k_MO1y32MaRu",
        "colab_type": "code",
        "colab": {
          "autoexec": {
            "startup": false,
            "wait_interval": 0
          },
          "base_uri": "https://localhost:8080/",
          "height": 326
        },
        "outputId": "e72c6fd6-3f42-4419-9d7e-0f9da1bd57c2",
        "executionInfo": {
          "status": "ok",
          "timestamp": 1532310996689,
          "user_tz": 300,
          "elapsed": 27,
          "user": {
            "displayName": "Jesus Solano",
            "photoUrl": "https://lh3.googleusercontent.com/a/default-user=s128",
            "userId": "111266076568687218605"
          }
        }
      },
      "cell_type": "code",
      "source": [
        "### Transfer Learning Neural Network.\n",
        "\n",
        "from google.colab import files\n",
        "from keras import backend as K\n",
        "K.clear_session()\n",
        "\n",
        "# Model structure.\n",
        "outputClasses = 24\n",
        "\n",
        "# Create the model. \n",
        "cnnTransferColor = Sequential()\n",
        "\n",
        "# Apply a convolutional layer. \n",
        "cnnTransferColor.add(Flatten(input_shape=xTrainImaColorVGG.shape[1:]))\n",
        "\n",
        "# Add the fully connected.\n",
        "cnnTransferColor.add(Dense(512, activation='relu',init='uniform'))\n",
        "cnnTransferColor.add(BatchNormalization())\n",
        "\n",
        "# Add a dropout.\n",
        "cnnTransferColor.add(Dropout(0.3))\n",
        "\n",
        "# Add the fully connected.\n",
        "cnnTransferColor.add(Dense(outputClasses,init='uniform'))\n",
        "#cnnTransferColor.add(BatchNormalization())\n",
        "\n",
        "# Add the activation softmax.\n",
        "cnnTransferColor.add(Activation('sigmoid'))\n",
        "\n",
        "print(cnnTransferColor.summary(70))\n",
        "\n",
        "# Compile the model. \n",
        "\n",
        "op = opts.Adam(lr=0.01)\n",
        "\n",
        "cnnTransferColor.compile(loss = 'categorical_crossentropy',\n",
        "              optimizer = op,\n",
        "              metrics = ['accuracy'])\n",
        "\n",
        "batch_size = 2000\n",
        "epochs = 200\n",
        "\n",
        "cnnTransferColor.fit(xTrainImaColorVGG, yTrainImaColorVGG,\n",
        "                    batch_size=batch_size,\n",
        "                    epochs=epochs,\n",
        "                    verbose=1,\n",
        "                    shuffle = True, \n",
        "                    validation_split = 0.1,\n",
        "                    callbacks=[PlotLossesKeras()])\n",
        "\n",
        "cnnTransferColor.save('imaNNtrainedColorVGG.h5')\n",
        "\n",
        "files.download('imaNNtrainedColorVGG.h5')"
      ],
      "execution_count": 19,
      "outputs": [
        {
          "output_type": "display_data",
          "data": {
            "image/png": "[encoded data removed]",
            "text/plain": [
              "<matplotlib.figure.Figure at 0x7f73e626aba8>"
            ]
          },
          "metadata": {
            "tags": []
          }
        }
      ]
    },
    {
      "metadata": {
        "id": "tlTwMtc6T8hW",
        "colab_type": "code",
        "colab": {
          "autoexec": {
            "startup": false,
            "wait_interval": 0
          },
          "base_uri": "https://localhost:8080/",
          "height": 121
        },
        "outputId": "a8089156-f896-4a85-8ba8-36342948a1a5",
        "executionInfo": {
          "status": "ok",
          "timestamp": 1532311018135,
          "user_tz": 300,
          "elapsed": 1026,
          "user": {
            "displayName": "Jesus Solano",
            "photoUrl": "https://lh3.googleusercontent.com/a/default-user=s128",
            "userId": "111266076568687218605"
          }
        }
      },
      "cell_type": "code",
      "source": [
        "# Scoring model for grey images.\n",
        "\n",
        "from sklearn.metrics import roc_curve, auc, roc_auc_score\n",
        "\n",
        "yPredGenreIma = cnnTransferColor.predict(xValidationImaColorVGG)\n",
        "imaAUC = roc_auc_score(yValidationImaColorVGG, yPredGenreIma, average='macro')\n",
        "\n",
        "# Perform the neural network over the test set. \n",
        "\n",
        "print('Evaluating the test set...')\n",
        "score = cnnTransferColor.evaluate(xValidationImaColorVGG, yValidationImaColorVGG)\n",
        "\n",
        "print('\\nTest score:', score[0])\n",
        "print('Test accuracy:', score[1])\n",
        "print('Model AUC is: ', imaAUC )\n"
      ],
      "execution_count": 20,
      "outputs": [
        {
          "output_type": "stream",
          "text": [
            "Evaluating the test set...\n",
            "1579/1579 [==============================] - 0s 74us/step\n",
            "\n",
            "Test score: 20.450474746926364\n",
            "Test accuracy: 0.22419252699126618\n",
            "Model AUC is:  0.6102209258197484\n"
          ],
          "name": "stdout"
        }
      ]
    },
    {
      "metadata": {
        "id": "qw-NSkf2dHac",
        "colab_type": "code",
        "colab": {
          "autoexec": {
            "startup": false,
            "wait_interval": 0
          }
        }
      },
      "cell_type": "code",
      "source": [
        "files.download('imaNNtrainedColorVGG.h5')"
      ],
      "execution_count": 0,
      "outputs": []
    },
    {
      "metadata": {
        "id": "h6zXOdNyMaSC",
        "colab_type": "text"
      },
      "cell_type": "markdown",
      "source": [
        "## Print Prediction to Kaggle"
      ]
    },
    {
      "metadata": {
        "id": "UUJQEQV5MaSD",
        "colab_type": "code",
        "colab": {
          "autoexec": {
            "startup": false,
            "wait_interval": 0
          }
        }
      },
      "cell_type": "code",
      "source": [
        "# Print prediction for test (kaggle) data. \n",
        "\n",
        "from keras.models import load_model\n",
        "from google.colab import files\n",
        "\n",
        "cnnTransferColor = load_model('imaNNtrainedColorVGG.h5')\n",
        "\n",
        "yPredTest = nnIma.predict(testingImagesColor)\n",
        "\n",
        "cols = ['p_Action', 'p_Adventure', 'p_Animation', 'p_Biography', 'p_Comedy', 'p_Crime', 'p_Documentary', 'p_Drama', 'p_Family',\n",
        "        'p_Fantasy', 'p_Film-Noir', 'p_History', 'p_Horror', 'p_Music', 'p_Musical', 'p_Mystery', 'p_News', 'p_Romance',\n",
        "        'p_Sci-Fi', 'p_Short', 'p_Sport', 'p_Thriller', 'p_War', 'p_Western']\n",
        "\n",
        "pd.DataFrame(yPredTest, index=dataTesting.index, columns=cols).to_csv('pred_genres_ImageVGG_Color.csv', index_label='ID')\n",
        "\n",
        "files.download('pred_genres_ImageVGG_Color.csv')\n"
      ],
      "execution_count": 0,
      "outputs": []
    },
    {
      "metadata": {
        "id": "YDGJ0BagznmY",
        "colab_type": "text"
      },
      "cell_type": "markdown",
      "source": [
        "# Own CNN Network - Color"
      ]
    },
    {
      "metadata": {
        "id": "55SAGALeTAOq",
        "colab_type": "code",
        "colab": {
          "autoexec": {
            "startup": false,
            "wait_interval": 0
          }
        }
      },
      "cell_type": "code",
      "source": [
        "# Creates datasets for training and testing.   \n",
        "xTrainImaColor, xValidationImaColor, yTrainImaColor, yValidationImaColor = train_test_split(trainingImagesColor, yGenres, test_size=0.20, random_state=22)"
      ],
      "execution_count": 0,
      "outputs": []
    },
    {
      "metadata": {
        "id": "1Fpd-vSZUS8D",
        "colab_type": "code",
        "colab": {
          "autoexec": {
            "startup": false,
            "wait_interval": 0
          },
          "base_uri": "https://localhost:8080/",
          "height": 326
        },
        "outputId": "55dc0f93-1dec-4c2e-9360-dc17ba0e6863",
        "executionInfo": {
          "status": "ok",
          "timestamp": 1532312436923,
          "user_tz": 300,
          "elapsed": 6145,
          "user": {
            "displayName": "Jesus Solano",
            "photoUrl": "https://lh3.googleusercontent.com/a/default-user=s128",
            "userId": "111266076568687218605"
          }
        }
      },
      "cell_type": "code",
      "source": [
        "# Neural Network used to train Color images -- Own model.\n",
        "\n",
        "from keras.models import Sequential\n",
        "from keras.layers import Conv1D, MaxPooling1D\n",
        "from keras.layers import Activation, Dropout, Flatten, Dense\n",
        "from keras import backend as K\n",
        "from keras import optimizers as opts\n",
        "from keras.callbacks import History\n",
        "from livelossplot import PlotLossesKeras\n",
        "\n",
        "from keras import backend as K\n",
        "K.clear_session()\n",
        "\n",
        "outputClasses = 24\n",
        "\n",
        "xSize = xTrainImaColor.shape[1]\n",
        "ySize = xTrainImaColor.shape[2]\n",
        "\n",
        "# Define if images have color channels firts in the array.\n",
        "if K.image_data_format() == 'channels_first':\n",
        "    input_shape = (3, xSize, ySize)\n",
        "else:\n",
        "    input_shape = (xSize, ySize, 3)\n",
        "\n",
        "\n",
        "# Creates a CNN model using keras.\n",
        "\n",
        "nnIma = Sequential()\n",
        "\n",
        "filtersNumber1=32\n",
        "filtersNumber2=64\n",
        "\n",
        "kernelSize= 32\n",
        "maxPoolSize = 2 \n",
        "\n",
        "NumN=32\n",
        "NumN2=64\n",
        "\n",
        "nnIma.add(Conv2D(NumN, (3, 3), input_shape=input_shape))\n",
        "nnIma.add(Activation('tanh'))\n",
        "nnIma.add(MaxPooling2D(pool_size=(2, 2)))\n",
        "nnIma.add(Dropout(0.3))\n",
        "\n",
        "nnIma.add(Conv2D(NumN, (3, 3)))\n",
        "nnIma.add(Activation('tanh'))\n",
        "nnIma.add(MaxPooling2D(pool_size=(2, 2)))\n",
        "nnIma.add(Dropout(0.3))\n",
        "\n",
        "nnIma.add(Conv2D(NumN2, (3, 3)))\n",
        "nnIma.add(Activation('tanh'))\n",
        "nnIma.add(MaxPooling2D(pool_size=(2, 2)))\n",
        "nnIma.add(Dropout(0.3))\n",
        "\n",
        "nnIma.add(Flatten())\n",
        "nnIma.add(Dense(NumN2))\n",
        "nnIma.add(Activation('tanh'))\n",
        "nnIma.add(Dropout(0.3))\n",
        "nnIma.add(Dense(outputClasses))\n",
        "nnIma.add(Activation('sigmoid'))\n",
        "\n",
        "nnIma.summary()\n",
        "\n",
        "#Defines optimizer.\n",
        "op = opts.Adam(lr=0.001)\n",
        "\n",
        "# Compile the neural network.\n",
        "nnIma.compile(loss='categorical_crossentropy',\n",
        "             optimizer=op,\n",
        "              metrics=['accuracy'])\n",
        "\n",
        "batch_size = 150\n",
        "epochs = 200\n",
        "\n",
        "nnIma.fit(xTrainImaColor, yTrainImaColor,\n",
        "                    batch_size=batch_size,\n",
        "                    epochs=epochs,\n",
        "                    verbose=1,\n",
        "                    shuffle = True, \n",
        "                    #validation_data = [xValidationImaColor,yValidationImaColor],\n",
        "                    validation_split = 0.1,\n",
        "                    callbacks=[PlotLossesKeras()])\n",
        "\n",
        "\n",
        "nnIma.save('imaNNtrainedColor.h5')\n",
        "files.download('imaNNtrainedColor.h5')"
      ],
      "execution_count": 34,
      "outputs": [
        {
          "output_type": "display_data",
          "data": {
            "image/png": "[encoded data removed]",
            "text/plain": [
              "<matplotlib.figure.Figure at 0x7f73cffbb2e8>"
            ]
          },
          "metadata": {
            "tags": []
          }
        }
      ]
    },
    {
      "metadata": {
        "id": "jcGwevb2ku7Z",
        "colab_type": "code",
        "colab": {
          "autoexec": {
            "startup": false,
            "wait_interval": 0
          },
          "base_uri": "https://localhost:8080/",
          "height": 121
        },
        "outputId": "674614bc-24c4-4480-fed5-80a187a48123",
        "executionInfo": {
          "status": "ok",
          "timestamp": 1532312443268,
          "user_tz": 300,
          "elapsed": 942,
          "user": {
            "displayName": "Jesus Solano",
            "photoUrl": "https://lh3.googleusercontent.com/a/default-user=s128",
            "userId": "111266076568687218605"
          }
        }
      },
      "cell_type": "code",
      "source": [
        "# Scoring model for grey images.\n",
        "\n",
        "from sklearn.metrics import roc_curve, auc, roc_auc_score\n",
        "\n",
        "yPredGenreIma = nnIma.predict(xValidationImaColor)\n",
        "imaAUC = roc_auc_score(yValidationImaColor, yPredGenreIma, average='macro')\n",
        "\n",
        "# Perform the neural network over the test set. \n",
        "\n",
        "print('Evaluating the test set...')\n",
        "score = nnIma.evaluate(xValidationImaColor, yValidationImaColor)\n",
        "\n",
        "print('\\nTest score:', score[0])\n",
        "print('Test accuracy:', score[1])\n",
        "print('Model AUC is: ', imaAUC )"
      ],
      "execution_count": 35,
      "outputs": [
        {
          "output_type": "stream",
          "text": [
            "Evaluating the test set...\n",
            "1579/1579 [==============================] - 0s 146us/step\n",
            "\n",
            "Test score: 7.371359749033604\n",
            "Test accuracy: 0.2571247625834131\n",
            "Model AUC is:  0.6285311430754646\n"
          ],
          "name": "stdout"
        }
      ]
    },
    {
      "metadata": {
        "id": "s9kkbkZckvJu",
        "colab_type": "code",
        "colab": {
          "autoexec": {
            "startup": false,
            "wait_interval": 0
          }
        }
      },
      "cell_type": "code",
      "source": [
        "files.download('imaNNtrainedColor.h5')"
      ],
      "execution_count": 0,
      "outputs": []
    },
    {
      "metadata": {
        "id": "5nFTD_1FMaSr",
        "colab_type": "text"
      },
      "cell_type": "markdown",
      "source": [
        "## Print Prediction to Kaggle"
      ]
    },
    {
      "metadata": {
        "id": "Yo-nUvoBMaSw",
        "colab_type": "code",
        "colab": {
          "autoexec": {
            "startup": false,
            "wait_interval": 0
          }
        }
      },
      "cell_type": "code",
      "source": [
        "# Print prediction for test (kaggle) data. \n",
        "\n",
        "from keras.models import load_model\n",
        "from google.colab import files\n",
        "\n",
        "cnnTransferColor = load_model('imaNNtrainedColor.h5')\n",
        "\n",
        "yPredTest = nnIma.predict(testingImagesColor)\n",
        "\n",
        "cols = ['p_Action', 'p_Adventure', 'p_Animation', 'p_Biography', 'p_Comedy', 'p_Crime', 'p_Documentary', 'p_Drama', 'p_Family',\n",
        "        'p_Fantasy', 'p_Film-Noir', 'p_History', 'p_Horror', 'p_Music', 'p_Musical', 'p_Mystery', 'p_News', 'p_Romance',\n",
        "        'p_Sci-Fi', 'p_Short', 'p_Sport', 'p_Thriller', 'p_War', 'p_Western']\n",
        "\n",
        "pd.DataFrame(yPredTest, index=dataTesting.index, columns=cols).to_csv('pred_genres_ImageVGG_Color.csv', index_label='ID')\n",
        "\n",
        "files.download('pred_genres_ImageVGG_Color.csv')\n"
      ],
      "execution_count": 0,
      "outputs": []
    },
    {
      "metadata": {
        "id": "2RORgmZFvyUd",
        "colab_type": "code",
        "colab": {
          "autoexec": {
            "startup": false,
            "wait_interval": 0
          }
        }
      },
      "cell_type": "code",
      "source": [
        "https://arxiv.org/pdf/1702.01992.pdf"
      ],
      "execution_count": 0,
      "outputs": []
    },
    {
      "metadata": {
        "id": "q4bs16XhMwSB",
        "colab_type": "code",
        "colab": {
          "autoexec": {
            "startup": false,
            "wait_interval": 0
          }
        }
      },
      "cell_type": "code",
      "source": [
        "!pip3 install tqdm\n",
        "!pip3 install livelossplot"
      ],
      "execution_count": 0,
      "outputs": []
    },
    {
      "metadata": {
        "id": "WMuc5NIATdhI",
        "colab_type": "code",
        "colab": {
          "autoexec": {
            "startup": false,
            "wait_interval": 0
          }
        }
      },
      "cell_type": "code",
      "source": [
        "! rm -r *"
      ],
      "execution_count": 0,
      "outputs": []
    },
    {
      "metadata": {
        "id": "Ca3I8O7wTfYk",
        "colab_type": "code",
        "colab": {
          "autoexec": {
            "startup": false,
            "wait_interval": 0
          }
        }
      },
      "cell_type": "code",
      "source": [
        ""
      ],
      "execution_count": 0,
      "outputs": []
    }
  ]
}